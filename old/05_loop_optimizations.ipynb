{
 "cells": [
  {
   "cell_type": "markdown",
   "metadata": {},
   "source": [
    "## Loop Optimization\n",
    "\n",
    "This lecture is almost all by example in file [stencil.c](./openmp/omp_c/stencil.c).  \n",
    "\n",
    "### Loop iteration order\n",
    "\n",
    "For 2-d dense data, the array must be serialized to memory, i.e. in a linear order.\n",
    "The serialization strategies are named by which dimension (row versus column) \n",
    "occurs sequentially in memory.\n",
    "\n",
    "<img src=\"https://upload.wikimedia.org/wikipedia/commons/4/4d/Row_and_column_major_order.svg\" width=256 title=\"Row versus column major order.\" />\n",
    "\n",
    "Choosing a memory efficient order for loops has a big impact on performance.\n",
    "  * Successive loop iterations access adjacent elements or\n",
    "  * Successive loop iterations access strided elements\n",
    "  \n",
    "Our examples do indexing in row-major order `array[x*DIM+y]`\n",
    "  * placing y in the inner loop leads to sequential access\n",
    "  * placing x in the inner loop leads to strided access\n",
    "  \n",
    "The different orders are also associated with programming languages that use these conventions.\n",
    "  \n",
    "<img src=\"https://images.slideplayer.com/23/6540072/slides/slide_3.jpg\" width=512 title=\"from Edgar Gabriel at UH\" />\n",
    "\n",
    "There are many conventions about loop ordering and they get confusing.  Reason carefully about how the loops variables are enumerated and the data layout.  E.g., images are almost always in Fortran order so that programming then in C looks weird."
   ]
  },
  {
   "cell_type": "markdown",
   "metadata": {},
   "source": [
    "#### Manual Optimizations\n",
    "\n",
    "The file demonstrates successive optimizations to a loop. \n",
    "These are mostly considered compiler optimizations in CS, but \n",
    "for OpenMP it makes sense to do them by hand.\n",
    "\n",
    "### Loop Unrolling\n",
    "\n",
    "Loop unrolling is a time-space tradeoff typically made by compilers\n",
    "  * time: eliminate branching instructions in evaluating loop conditional\n",
    "  * space: make a bigger program with more statements\n",
    "\n",
    "This example unrolls the entire stencil (5x5) eliminating the two inner loops.\n",
    "  * how many instructions are saved?"
   ]
  },
  {
   "cell_type": "markdown",
   "metadata": {},
   "source": [
    "### Loop Fusion\n",
    "\n",
    "Replace multiple loops with a single one.\n",
    "* for OpenMP this reduces thread startup costs.\n",
    "* shown in `fused_stencil_sum_omp()`\n",
    "\n",
    "### Separate dependencies\n",
    "\n",
    "* Use reductions (shown in `max_el_reduce()`)\n",
    "  * Note the the compiler actually does a reasonable job of this at `-O3`\n",
    "\n",
    "### Other Optimizations\n",
    "\n",
    "* Split loops -- rarely effective\n",
    "\n"
   ]
  },
  {
   "cell_type": "markdown",
   "metadata": {},
   "source": []
  },
  {
   "cell_type": "code",
   "execution_count": null,
   "metadata": {},
   "outputs": [],
   "source": [
    " "
   ]
  }
 ],
 "metadata": {
  "kernelspec": {
   "display_name": "Python 3",
   "language": "python",
   "name": "python3"
  },
  "language_info": {
   "codemirror_mode": {
    "name": "ipython",
    "version": 3
   },
   "file_extension": ".py",
   "mimetype": "text/x-python",
   "name": "python",
   "nbconvert_exporter": "python",
   "pygments_lexer": "ipython3",
   "version": "3.9.5"
  }
 },
 "nbformat": 4,
 "nbformat_minor": 4
}
