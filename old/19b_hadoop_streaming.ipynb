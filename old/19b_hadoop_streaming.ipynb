{
 "cells": [
  {
   "cell_type": "markdown",
   "metadata": {},
   "source": [
    "## Map/Reduce Streaming\n",
    "\n",
    "The Hadoop! Map/Reduce implementation is an engine. You can give it arbitrary executable processes that it will run at scale.  As opposed to .jar files.\n",
    "\n",
    "```bash\n",
    "cd code/hadoop/wordcount_streaming\n",
    "/usr/local/hadoop-2.9.2/bin/hadoop jar /usr/local/hadoop-2.9.2/share/hadoop/tools/lib/hadoop-streaming-2.9.2.jar -mapper ./mapper.py -reducer ./reducer.py -input/mnt/labbook/input/wordcount -output /mnt/labbook/output/untracked/wordcount/outputX\n",
    "```\n",
    "\n",
    "Hadoop has a streaming mode `hadoop-streaming.jar` that takes two scripts as arguments.\n",
    "\n",
    "### Shell equivalence\n",
    "\n",
    "For the two shell scripts `mapper.py` and `reducer.py` Hadoop! streaming execution is semantically equivalent to \n",
    "```bash\n",
    "cd code/hadoop/wordcount_streaming\n",
    "cat ../../../input/wordcount/* | ./mapper.py | sort | ./reducer.py\n",
    "```\n",
    "But, both are different than the java WordCount implementation..........because?\n",
    "\n",
    ".\n",
    "\n",
    ".\n",
    "\n",
    ".\n",
    "\n",
    ".\n",
    "\n",
    ".  Spoiler alert\n",
    "\n",
    ".\n",
    "\n",
    ".\n",
    "\n",
    ".\n",
    "\n",
    ".\n",
    "* Streaming mode in Hadoop! gives a different sorting guarantee\n",
    "* Why?\n",
    "  * There is no schema\n",
    "  * So, it sorts the whole output of mapper.py as a key\n",
    "* This is more restrictive than the default sort\n",
    "  * And, thus, less efficient\n",
    "\n"
   ]
  },
  {
   "cell_type": "code",
   "execution_count": null,
   "metadata": {},
   "outputs": [],
   "source": []
  }
 ],
 "metadata": {
  "kernelspec": {
   "display_name": "Python 3",
   "language": "python",
   "name": "python3"
  },
  "language_info": {
   "codemirror_mode": {
    "name": "ipython",
    "version": 3
   },
   "file_extension": ".py",
   "mimetype": "text/x-python",
   "name": "python",
   "nbconvert_exporter": "python",
   "pygments_lexer": "ipython3",
   "version": "3.9.5"
  }
 },
 "nbformat": 4,
 "nbformat_minor": 4
}
