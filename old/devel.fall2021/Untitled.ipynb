{
 "cells": [
  {
   "cell_type": "code",
   "execution_count": 1,
   "id": "e6bdb955-7efc-4265-b395-e9087e832bb7",
   "metadata": {},
   "outputs": [],
   "source": [
    "## Ray Shared Outlinks\n",
    "\n"
   ]
  },
  {
   "cell_type": "code",
   "execution_count": 2,
   "id": "aee3fa4c-a176-4ac7-83db-1b2ecd217fef",
   "metadata": {},
   "outputs": [],
   "source": [
    "import networkx as nx\n",
    "import matplotlib.pyplot as plt\n",
    "import numpy as np\n",
    "\n",
    "G = nx.erdos_renyi_graph(5,0.8, seed=None, directed=True)"
   ]
  },
  {
   "cell_type": "code",
   "execution_count": 3,
   "id": "85cc1f55-3659-4678-a580-6e53939a27a2",
   "metadata": {},
   "outputs": [
    {
     "data": {
      "text/plain": [
       "matrix([[0., 1., 0., 0., 0.],\n",
       "        [1., 0., 0., 1., 1.],\n",
       "        [1., 1., 0., 1., 0.],\n",
       "        [1., 1., 1., 0., 1.],\n",
       "        [1., 1., 1., 1., 0.]])"
      ]
     },
     "execution_count": 3,
     "metadata": {},
     "output_type": "execute_result"
    }
   ],
   "source": [
    "gmat = nx.to_numpy_matrix(G)\n",
    "gmat"
   ]
  },
  {
   "cell_type": "markdown",
   "id": "4dc0fc14-5c8b-44fa-90f8-915a06583a01",
   "metadata": {},
   "source": [
    "The original implementation on a small graph."
   ]
  },
  {
   "cell_type": "code",
   "execution_count": 4,
   "id": "2eae1bde-07dd-408e-919f-d6c914e093c6",
   "metadata": {},
   "outputs": [
    {
     "data": {
      "text/plain": [
       "array([[0., 0., 1., 1., 1.],\n",
       "       [0., 0., 2., 2., 2.],\n",
       "       [0., 0., 0., 2., 3.],\n",
       "       [0., 0., 0., 0., 3.],\n",
       "       [0., 0., 0., 0., 0.]])"
      ]
     },
     "execution_count": 4,
     "metadata": {},
     "output_type": "execute_result"
    }
   ],
   "source": [
    "gmat = nx.to_numpy_matrix(G)\n",
    "\n",
    "outmat = np.zeros(gmat.shape)\n",
    "\n",
    "for i in range(gmat.shape[0]):\n",
    "    for j in range(i+1,gmat.shape[1]):        \n",
    "        outmat[i,j] = np.dot(np.asarray(gmat[i,:]).reshape(-1), np.asarray(gmat[j,:]).reshape(-1))\n",
    "outmat"
   ]
  },
  {
   "cell_type": "markdown",
   "id": "1c378ec6-6037-4f1d-90c8-e04e419eb195",
   "metadata": {},
   "source": [
    "Let's do it with ray remote functions and verify the output."
   ]
  },
  {
   "cell_type": "code",
   "execution_count": 5,
   "id": "1699f024-0145-4d2b-a48c-ba5924e8d190",
   "metadata": {},
   "outputs": [
    {
     "name": "stderr",
     "output_type": "stream",
     "text": [
      "2021-06-02 19:22:12,918\tINFO services.py:1267 -- View the Ray dashboard at \u001b[1m\u001b[32mhttp://127.0.0.1:8270\u001b[39m\u001b[22m\n"
     ]
    },
    {
     "data": {
      "text/plain": [
       "{'node_ip_address': '172.23.52.116',\n",
       " 'raylet_ip_address': '172.23.52.116',\n",
       " 'redis_address': '172.23.52.116:34583',\n",
       " 'object_store_address': '/tmp/ray/session_2021-06-02_19-22-11_919854_4158/sockets/plasma_store',\n",
       " 'raylet_socket_name': '/tmp/ray/session_2021-06-02_19-22-11_919854_4158/sockets/raylet',\n",
       " 'webui_url': '127.0.0.1:8270',\n",
       " 'session_dir': '/tmp/ray/session_2021-06-02_19-22-11_919854_4158',\n",
       " 'metrics_export_port': 63662,\n",
       " 'node_id': 'd23a56fbe14ebbe969c11cbc827d6328853759475bec9071d9e97d47'}"
      ]
     },
     "execution_count": 5,
     "metadata": {},
     "output_type": "execute_result"
    }
   ],
   "source": [
    "import ray\n",
    "ray.init(num_cpus=8, ignore_reinit_error=True)"
   ]
  },
  {
   "cell_type": "code",
   "execution_count": 6,
   "id": "b6ff5538-e816-45cf-a9d7-2ebdeed41ddc",
   "metadata": {},
   "outputs": [
    {
     "data": {
      "text/plain": [
       "array([[0., 0., 1., 1., 1.],\n",
       "       [0., 0., 2., 2., 2.],\n",
       "       [0., 0., 0., 2., 3.],\n",
       "       [0., 0., 0., 0., 3.],\n",
       "       [0., 0., 0., 0., 0.]])"
      ]
     },
     "execution_count": 6,
     "metadata": {},
     "output_type": "execute_result"
    }
   ],
   "source": [
    "@ray.remote\n",
    "def inner_loop(i):\n",
    "    partial_out = np.zeros(gmat.shape[1])\n",
    "    for j in range(i+1,gmat.shape[1]):    \n",
    "        partial_out[j] = np.dot(np.asarray(gmat[i,:]).reshape(-1), np.asarray(gmat[j,:]).reshape(-1))    \n",
    "    return partial_out\n",
    "\n",
    "ilids = [inner_loop.remote(i) for i in range(gmat.shape[0])]\n",
    "results = ray.get(ilids)\n",
    "    \n",
    "outmat = np.reshape(results, gmat.shape)\n",
    "    \n",
    "outmat"
   ]
  },
  {
   "cell_type": "markdown",
   "id": "ca6251c9-a9ff-44ce-9512-78b13647cf39",
   "metadata": {},
   "source": [
    "ok, let's do it on a big graph."
   ]
  },
  {
   "cell_type": "code",
   "execution_count": 7,
   "id": "7508dc82-ab14-4fe1-ab0d-20a477da5244",
   "metadata": {},
   "outputs": [],
   "source": [
    "import networkx as nx\n",
    "import matplotlib.pyplot as plt\n",
    "import numpy as np\n",
    "\n",
    "G = nx.erdos_renyi_graph(1000, 0.01, seed=None, directed=True)\n",
    "gmat=nx.to_numpy_matrix(G)"
   ]
  },
  {
   "cell_type": "code",
   "execution_count": 9,
   "id": "9d3658c2-ee30-4e87-91f3-f91dde23b3f4",
   "metadata": {},
   "outputs": [
    {
     "data": {
      "text/plain": [
       "47633"
      ]
     },
     "execution_count": 9,
     "metadata": {},
     "output_type": "execute_result"
    }
   ],
   "source": [
    "@ray.remote\n",
    "def ray_inner_loop(i):\n",
    "    partial_out = np.zeros(gmat.shape[1])\n",
    "    for j in range(i+1,gmat.shape[1]):    \n",
    "        partial_out[j] = np.dot(np.asarray(gmat[i,:]).reshape(-1), np.asarray(gmat[j,:]).reshape(-1))    \n",
    "    return partial_out\n",
    "\n",
    "ilids = [ray_inner_loop.remote(i) for i in range(gmat.shape[0])]\n",
    "results = ray.get(ilids)\n",
    "outmat = np.reshape(results, gmat.shape)\n",
    "np.count_nonzero(outmat)"
   ]
  },
  {
   "cell_type": "markdown",
   "id": "acf3e9f9-aef1-4add-bcab-6e205323c71d",
   "metadata": {},
   "source": [
    "And figure out the timing."
   ]
  },
  {
   "cell_type": "code",
   "execution_count": 10,
   "id": "54260a97-eee4-4d04-a341-be1546db9379",
   "metadata": {},
   "outputs": [
    {
     "name": "stdout",
     "output_type": "stream",
     "text": [
      "1.57 s ± 58 ms per loop (mean ± std. dev. of 7 runs, 1 loop each)\n"
     ]
    }
   ],
   "source": [
    "%%timeit\n",
    "\n",
    "ilids = [ray_inner_loop.remote(i) for i in range(gmat.shape[0])]\n",
    "results = ray.get(ilids)"
   ]
  },
  {
   "cell_type": "markdown",
   "id": "9e801a12-5f73-47b7-8418-8dd63c6ac12c",
   "metadata": {},
   "source": [
    "And compare to the joblib version, need to make inner_loop not a remote function."
   ]
  },
  {
   "cell_type": "code",
   "execution_count": 11,
   "id": "85afb064-5f45-4349-b90c-d48d82b1f925",
   "metadata": {},
   "outputs": [
    {
     "name": "stdout",
     "output_type": "stream",
     "text": [
      "3.03 s ± 115 ms per loop (mean ± std. dev. of 7 runs, 1 loop each)\n"
     ]
    }
   ],
   "source": [
    "%%timeit\n",
    "\n",
    "def jl_inner_loop(i):\n",
    "    partial_out = np.zeros(gmat.shape[1])\n",
    "    for j in range(i+1,gmat.shape[1]):    \n",
    "        partial_out[j] = np.dot(np.asarray(gmat[i,:]).reshape(-1), np.asarray(gmat[j,:]).reshape(-1))    \n",
    "    return partial_out\n",
    "\n",
    "from joblib import Parallel, delayed\n",
    "partials = Parallel(n_jobs=4)(delayed(jl_inner_loop)(i) for i in range(gmat.shape[0]))"
   ]
  },
  {
   "cell_type": "markdown",
   "id": "b1fb6d0c-1656-4a0d-8bfa-93280dbd56e5",
   "metadata": {},
   "source": [
    "OK, ray is better, but nowhere near compiled and multicore.  The problem lies in the lack of use of multicore and shared memory in addition to the efficiency of Python code.  Both joblib and ray have to package up the array and send it to each process. Let's see about shared memory in  ray. https://docs.ray.io/en/master/memory-management.html"
   ]
  },
  {
   "cell_type": "code",
   "execution_count": 12,
   "id": "f0c60270-a025-447e-9f1e-2b9754a2005c",
   "metadata": {},
   "outputs": [
    {
     "data": {
      "text/plain": [
       "47633"
      ]
     },
     "execution_count": 12,
     "metadata": {},
     "output_type": "execute_result"
    }
   ],
   "source": [
    "# make a version of the function that uses no global data\n",
    "# the function implicitly gets the object\n",
    "@ray.remote\n",
    "def shm_inner_loop(i, local_gmat):\n",
    "    partial_out = np.zeros(local_gmat.shape[1])\n",
    "    for j in range(i+1,local_gmat.shape[1]):    \n",
    "        partial_out[j] = np.dot(np.asarray(local_gmat[i,:]).reshape(-1), np.asarray(local_gmat[j,:]).reshape(-1))    \n",
    "    return partial_out\n",
    "\n",
    "shoid = ray.put(gmat)\n",
    "\n",
    "ilids = [shm_inner_loop.remote(i, shoid) for i in range(gmat.shape[0])]\n",
    "results = ray.get(ilids)\n",
    "outmat = np.reshape(results, gmat.shape)\n",
    "np.count_nonzero(outmat)"
   ]
  },
  {
   "cell_type": "code",
   "execution_count": 13,
   "id": "05b74050-3ab2-41b3-b5b7-19e3b87a5766",
   "metadata": {},
   "outputs": [
    {
     "name": "stdout",
     "output_type": "stream",
     "text": [
      "2.3 s ± 127 ms per loop (mean ± std. dev. of 7 runs, 1 loop each)\n"
     ]
    }
   ],
   "source": [
    "%%timeit\n",
    "\n",
    "shoid = ray.put(gmat)\n",
    "ilids = [shm_inner_loop.remote(i, shoid) for i in range(gmat.shape[0])]\n",
    "results = ray.get(ilids)"
   ]
  },
  {
   "cell_type": "markdown",
   "id": "926f038e-d00c-4a2e-bfcb-c539eac35930",
   "metadata": {},
   "source": [
    "OK not actually faster.  Let's work on a bigger matrix, four times as big."
   ]
  },
  {
   "cell_type": "code",
   "execution_count": 18,
   "id": "5e0ff21b-b900-42e3-90bb-d312815ee257",
   "metadata": {},
   "outputs": [],
   "source": [
    "import networkx as nx\n",
    "import matplotlib.pyplot as plt\n",
    "import numpy as np\n",
    "\n",
    "G = nx.erdos_renyi_graph(10000, 0.005, seed=None, directed=True)\n",
    "gmat=nx.to_numpy_matrix(G)"
   ]
  },
  {
   "cell_type": "code",
   "execution_count": 20,
   "id": "550028e1-5a21-45ec-abf0-d8e400e9a035",
   "metadata": {},
   "outputs": [
    {
     "name": "stdout",
     "output_type": "stream",
     "text": [
      "3.63 s ± 648 ms per loop (mean ± std. dev. of 7 runs, 1 loop each)\n"
     ]
    }
   ],
   "source": [
    "%%timeit -n 1\n",
    "ilids = [ray_inner_loop.remote(i) for i in range(gmat.shape[0])]\n",
    "results = ray.get(ilids)"
   ]
  },
  {
   "cell_type": "code",
   "execution_count": null,
   "id": "3ecf21a6-7466-4859-9e40-ea59b1e5a2ca",
   "metadata": {},
   "outputs": [],
   "source": [
    "%%timeit -n 1\n",
    "shoid = ray.put(gmat)\n",
    "ilids = [shm_inner_loop.remote(i, shoid) for i in range(gmat.shape[0])]\n",
    "results = ray.get(ilids)"
   ]
  },
  {
   "cell_type": "code",
   "execution_count": null,
   "id": "43462af3-ab35-41ef-8e10-a2805f82f5c4",
   "metadata": {},
   "outputs": [],
   "source": []
  }
 ],
 "metadata": {
  "kernelspec": {
   "display_name": "Python 3",
   "language": "python",
   "name": "python3"
  },
  "language_info": {
   "codemirror_mode": {
    "name": "ipython",
    "version": 3
   },
   "file_extension": ".py",
   "mimetype": "text/x-python",
   "name": "python",
   "nbconvert_exporter": "python",
   "pygments_lexer": "ipython3",
   "version": "3.8.8"
  }
 },
 "nbformat": 4,
 "nbformat_minor": 5
}
