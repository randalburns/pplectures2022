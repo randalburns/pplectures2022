{
 "cells": [
  {
   "cell_type": "markdown",
   "id": "184a7195-3a54-4e32-b975-f8003ad793ac",
   "metadata": {},
   "source": [
    "## Mutual Web Outlinks Example\n",
    "\n",
    "**RBTODO** example. Summary -- joblib is not great at this because it is not embarassingly parallel.\n",
    "\n",
    "JOBLIB and global variables.\n",
    "\n",
    "Let's start with a small graph to see how this works."
   ]
  },
  {
   "cell_type": "code",
   "execution_count": 1,
   "id": "990211e4-a171-4911-86a2-52a5083b3bff",
   "metadata": {},
   "outputs": [],
   "source": [
    "import networkx as nx\n",
    "import matplotlib.pyplot as plt\n",
    "import numpy as np\n",
    "\n",
    "%matplotlib inline\n",
    "\n",
    "G = nx.erdos_renyi_graph(5, 0.8, seed=None, directed=True)"
   ]
  },
  {
   "cell_type": "code",
   "execution_count": 3,
   "id": "fa4b098c-bdfe-4c58-9b82-37aadcb2c3f1",
   "metadata": {},
   "outputs": [
    {
     "data": {
      "image/png": "[encoded data removed]",
      "text/plain": [
       "<Figure size 432x288 with 1 Axes>"
      ]
     },
     "metadata": {},
     "output_type": "display_data"
    }
   ],
   "source": [
    "nx.draw(G, pos=nx.spring_layout(G), ax=None, node_size=50)"
   ]
  },
  {
   "cell_type": "markdown",
   "id": "3066cfda-73c0-4a6a-8380-b2b7739152fa",
   "metadata": {},
   "source": [
    "Compute the shared outlinks, which are the dot product of all combinations of rows.  We only populate the upper R because that's all combinations."
   ]
  },
  {
   "cell_type": "code",
   "execution_count": 4,
   "id": "72edd3ac-2ea7-4539-9daa-c8a29454d5d2",
   "metadata": {},
   "outputs": [
    {
     "data": {
      "text/plain": [
       "array([[0., 3., 2., 2., 3.],\n",
       "       [0., 0., 2., 2., 3.],\n",
       "       [0., 0., 0., 3., 2.],\n",
       "       [0., 0., 0., 0., 2.],\n",
       "       [0., 0., 0., 0., 0.]])"
      ]
     },
     "execution_count": 4,
     "metadata": {},
     "output_type": "execute_result"
    }
   ],
   "source": [
    "gmat = nx.to_numpy_matrix(G)\n",
    "\n",
    "outmat = np.zeros(gmat.shape)\n",
    "\n",
    "for i in range(gmat.shape[0]):\n",
    "    for j in range(i+1,gmat.shape[1]):        \n",
    "        outmat[i,j] = np.dot(np.asarray(gmat[i,:]).reshape(-1), np.asarray(gmat[j,:]).reshape(-1))\n",
    "outmat"
   ]
  },
  {
   "cell_type": "markdown",
   "id": "1bfe8c69-6f42-4b2c-ad10-837f6f59f375",
   "metadata": {},
   "source": [
    "Getting this code right is very touchy. You have to take the dot product of _arrays_ not matrixes.\n",
    "\n",
    "Now generate a big graph and we'll start our performance analysis. Let's look at a serial version on a graph with 1000 nodes and about 5 outbound edges per node. \n",
    "\n",
    "Serial program to calculate mutual outlinks."
   ]
  },
  {
   "cell_type": "code",
   "execution_count": 2,
   "id": "c2d0c01a-c72b-40bb-95b3-d378cd84cc17",
   "metadata": {},
   "outputs": [
    {
     "ename": "NetworkXError",
     "evalue": "random_state_index is incorrect",
     "output_type": "error",
     "traceback": [
      "\u001b[0;31m---------------------------------------------------------------------------\u001b[0m",
      "\u001b[0;31mIndexError\u001b[0m                                Traceback (most recent call last)",
      "\u001b[0;32m~/anaconda3/lib/python3.8/site-packages/networkx/utils/decorators.py\u001b[0m in \u001b[0;36m_random_state\u001b[0;34m(func, *args, **kwargs)\u001b[0m\n\u001b[1;32m    456\u001b[0m         \u001b[0;32mtry\u001b[0m\u001b[0;34m:\u001b[0m\u001b[0;34m\u001b[0m\u001b[0;34m\u001b[0m\u001b[0m\n\u001b[0;32m--> 457\u001b[0;31m             \u001b[0mrandom_state_arg\u001b[0m \u001b[0;34m=\u001b[0m \u001b[0margs\u001b[0m\u001b[0;34m[\u001b[0m\u001b[0mrandom_state_index\u001b[0m\u001b[0;34m]\u001b[0m\u001b[0;34m\u001b[0m\u001b[0;34m\u001b[0m\u001b[0m\n\u001b[0m\u001b[1;32m    458\u001b[0m         \u001b[0;32mexcept\u001b[0m \u001b[0mTypeError\u001b[0m \u001b[0;32mas\u001b[0m \u001b[0me\u001b[0m\u001b[0;34m:\u001b[0m\u001b[0;34m\u001b[0m\u001b[0;34m\u001b[0m\u001b[0m\n",
      "\u001b[0;31mIndexError\u001b[0m: tuple index out of range",
      "\nThe above exception was the direct cause of the following exception:\n",
      "\u001b[0;31mNetworkXError\u001b[0m                             Traceback (most recent call last)",
      "\u001b[0;32m<ipython-input-2-315296ee3131>\u001b[0m in \u001b[0;36m<module>\u001b[0;34m\u001b[0m\n\u001b[1;32m      1\u001b[0m \u001b[0;31m# cycles disappear when p = log(n)/n\u001b[0m\u001b[0;34m\u001b[0m\u001b[0;34m\u001b[0m\u001b[0;34m\u001b[0m\u001b[0m\n\u001b[0;32m----> 2\u001b[0;31m \u001b[0mG\u001b[0m\u001b[0;34m=\u001b[0m \u001b[0mnx\u001b[0m\u001b[0;34m.\u001b[0m\u001b[0merdos_renyi_graph\u001b[0m\u001b[0;34m(\u001b[0m\u001b[0;36m1000\u001b[0m\u001b[0;34m,\u001b[0m\u001b[0;36m0.01\u001b[0m\u001b[0;34m,\u001b[0m\u001b[0mdirected\u001b[0m\u001b[0;34m=\u001b[0m\u001b[0;32mTrue\u001b[0m\u001b[0;34m)\u001b[0m\u001b[0;34m\u001b[0m\u001b[0;34m\u001b[0m\u001b[0m\n\u001b[0m\u001b[1;32m      3\u001b[0m \u001b[0mnx\u001b[0m\u001b[0;34m.\u001b[0m\u001b[0mdraw\u001b[0m\u001b[0;34m(\u001b[0m\u001b[0mG\u001b[0m\u001b[0;34m,\u001b[0m \u001b[0mpos\u001b[0m\u001b[0;34m=\u001b[0m\u001b[0mnx\u001b[0m\u001b[0;34m.\u001b[0m\u001b[0mspring_layout\u001b[0m\u001b[0;34m(\u001b[0m\u001b[0mG\u001b[0m\u001b[0;34m)\u001b[0m\u001b[0;34m,\u001b[0m \u001b[0mnode_size\u001b[0m\u001b[0;34m=\u001b[0m\u001b[0;36m10\u001b[0m\u001b[0;34m)\u001b[0m\u001b[0;34m\u001b[0m\u001b[0;34m\u001b[0m\u001b[0m\n\u001b[1;32m      4\u001b[0m \u001b[0mG\u001b[0m\u001b[0;34m.\u001b[0m\u001b[0mnumber_of_edges\u001b[0m\u001b[0;34m(\u001b[0m\u001b[0;34m)\u001b[0m\u001b[0;34m\u001b[0m\u001b[0;34m\u001b[0m\u001b[0m\n",
      "\u001b[0;32m~/anaconda3/lib/python3.8/site-packages/decorator.py\u001b[0m in \u001b[0;36mfun\u001b[0;34m(*args, **kw)\u001b[0m\n\u001b[1;32m    229\u001b[0m             \u001b[0;32mif\u001b[0m \u001b[0;32mnot\u001b[0m \u001b[0mkwsyntax\u001b[0m\u001b[0;34m:\u001b[0m\u001b[0;34m\u001b[0m\u001b[0;34m\u001b[0m\u001b[0m\n\u001b[1;32m    230\u001b[0m                 \u001b[0margs\u001b[0m\u001b[0;34m,\u001b[0m \u001b[0mkw\u001b[0m \u001b[0;34m=\u001b[0m \u001b[0mfix\u001b[0m\u001b[0;34m(\u001b[0m\u001b[0margs\u001b[0m\u001b[0;34m,\u001b[0m \u001b[0mkw\u001b[0m\u001b[0;34m,\u001b[0m \u001b[0msig\u001b[0m\u001b[0;34m)\u001b[0m\u001b[0;34m\u001b[0m\u001b[0;34m\u001b[0m\u001b[0m\n\u001b[0;32m--> 231\u001b[0;31m             \u001b[0;32mreturn\u001b[0m \u001b[0mcaller\u001b[0m\u001b[0;34m(\u001b[0m\u001b[0mfunc\u001b[0m\u001b[0;34m,\u001b[0m \u001b[0;34m*\u001b[0m\u001b[0;34m(\u001b[0m\u001b[0mextras\u001b[0m \u001b[0;34m+\u001b[0m \u001b[0margs\u001b[0m\u001b[0;34m)\u001b[0m\u001b[0;34m,\u001b[0m \u001b[0;34m**\u001b[0m\u001b[0mkw\u001b[0m\u001b[0;34m)\u001b[0m\u001b[0;34m\u001b[0m\u001b[0;34m\u001b[0m\u001b[0m\n\u001b[0m\u001b[1;32m    232\u001b[0m     \u001b[0mfun\u001b[0m\u001b[0;34m.\u001b[0m\u001b[0m__name__\u001b[0m \u001b[0;34m=\u001b[0m \u001b[0mfunc\u001b[0m\u001b[0;34m.\u001b[0m\u001b[0m__name__\u001b[0m\u001b[0;34m\u001b[0m\u001b[0;34m\u001b[0m\u001b[0m\n\u001b[1;32m    233\u001b[0m     \u001b[0mfun\u001b[0m\u001b[0;34m.\u001b[0m\u001b[0m__doc__\u001b[0m \u001b[0;34m=\u001b[0m \u001b[0mfunc\u001b[0m\u001b[0;34m.\u001b[0m\u001b[0m__doc__\u001b[0m\u001b[0;34m\u001b[0m\u001b[0;34m\u001b[0m\u001b[0m\n",
      "\u001b[0;32m~/anaconda3/lib/python3.8/site-packages/networkx/utils/decorators.py\u001b[0m in \u001b[0;36m_random_state\u001b[0;34m(func, *args, **kwargs)\u001b[0m\n\u001b[1;32m    459\u001b[0m             \u001b[0;32mraise\u001b[0m \u001b[0mnx\u001b[0m\u001b[0;34m.\u001b[0m\u001b[0mNetworkXError\u001b[0m\u001b[0;34m(\u001b[0m\u001b[0;34m\"random_state_index must be an integer\"\u001b[0m\u001b[0;34m)\u001b[0m \u001b[0;32mfrom\u001b[0m \u001b[0me\u001b[0m\u001b[0;34m\u001b[0m\u001b[0;34m\u001b[0m\u001b[0m\n\u001b[1;32m    460\u001b[0m         \u001b[0;32mexcept\u001b[0m \u001b[0mIndexError\u001b[0m \u001b[0;32mas\u001b[0m \u001b[0me\u001b[0m\u001b[0;34m:\u001b[0m\u001b[0;34m\u001b[0m\u001b[0;34m\u001b[0m\u001b[0m\n\u001b[0;32m--> 461\u001b[0;31m             \u001b[0;32mraise\u001b[0m \u001b[0mnx\u001b[0m\u001b[0;34m.\u001b[0m\u001b[0mNetworkXError\u001b[0m\u001b[0;34m(\u001b[0m\u001b[0;34m\"random_state_index is incorrect\"\u001b[0m\u001b[0;34m)\u001b[0m \u001b[0;32mfrom\u001b[0m \u001b[0me\u001b[0m\u001b[0;34m\u001b[0m\u001b[0;34m\u001b[0m\u001b[0m\n\u001b[0m\u001b[1;32m    462\u001b[0m \u001b[0;34m\u001b[0m\u001b[0m\n\u001b[1;32m    463\u001b[0m         \u001b[0;31m# Create a numpy.random.RandomState instance\u001b[0m\u001b[0;34m\u001b[0m\u001b[0;34m\u001b[0m\u001b[0;34m\u001b[0m\u001b[0m\n",
      "\u001b[0;31mNetworkXError\u001b[0m: random_state_index is incorrect"
     ]
    }
   ],
   "source": [
    "# cycles disappear when p = log(n)/n\n",
    "G= nx.erdos_renyi_graph(1000,0.01,directed=True)\n",
    "nx.draw(G, pos=nx.spring_layout(G), node_size=10)\n",
    "G.number_of_edges()"
   ]
  },
  {
   "cell_type": "code",
   "execution_count": 5,
   "id": "074ae760-a2b4-4bdb-94f2-419eeed3f9a2",
   "metadata": {},
   "outputs": [
    {
     "data": {
      "text/plain": [
       "46889"
      ]
     },
     "execution_count": 5,
     "metadata": {},
     "output_type": "execute_result"
    }
   ],
   "source": [
    "import numpy as np\n",
    "\n",
    "gmat = nx.to_numpy_matrix(G)\n",
    "\n",
    "outmat = np.zeros(gmat.shape)\n",
    "\n",
    "for i in range(gmat.shape[0]):\n",
    "    for j in range(i+1,gmat.shape[1]):        \n",
    "        outmat[i,j] = np.dot(np.asarray(gmat[i,:]).reshape(-1), np.asarray(gmat[j,:]).reshape(-1))\n",
    "        \n",
    "np.count_nonzero(outmat)"
   ]
  },
  {
   "cell_type": "code",
   "execution_count": 6,
   "id": "83283a87-e7a0-4cb1-b218-d288e1627a6c",
   "metadata": {},
   "outputs": [
    {
     "name": "stdout",
     "output_type": "stream",
     "text": [
      "5.18 s ± 113 ms per loop (mean ± std. dev. of 7 runs, 1 loop each)\n"
     ]
    }
   ],
   "source": [
    "%%timeit\n",
    "\n",
    "outmat = np.zeros(gmat.shape)\n",
    "\n",
    "for i in range(gmat.shape[0]):\n",
    "    for j in range(i+1,gmat.shape[1]):        \n",
    "        outmat[i,j] = np.dot(np.asarray(gmat[i,:]).reshape(-1), np.asarray(gmat[j,:]).reshape(-1))"
   ]
  },
  {
   "cell_type": "markdown",
   "id": "61d95355-4aa5-43c6-bc5d-572d09766c32",
   "metadata": {},
   "source": [
    "So, now we have a serial implementation. Let's parallelize it.  It is always easiest to parallelize the outer loop."
   ]
  },
  {
   "cell_type": "code",
   "execution_count": 7,
   "id": "005c6cc5-4388-4e8d-a30a-acd384201d02",
   "metadata": {},
   "outputs": [
    {
     "name": "stdout",
     "output_type": "stream",
     "text": [
      "3.32 s ± 349 ms per loop (mean ± std. dev. of 7 runs, 1 loop each)\n"
     ]
    }
   ],
   "source": [
    "%%timeit\n",
    "\n",
    "def inner_loop(i):\n",
    "    partial_out = np.zeros(gmat.shape[1])\n",
    "    for j in range(i+1,gmat.shape[1]):    \n",
    "        partial_out[j] = np.dot(np.asarray(gmat[i,:]).reshape(-1), np.asarray(gmat[j,:]).reshape(-1))    \n",
    "    return partial_out\n",
    "    \n",
    "from joblib import Parallel, delayed\n",
    "partials = Parallel(n_jobs=4)(delayed(inner_loop)(i) for i in range(gmat.shape[0]))\n",
    "\n",
    "outmat = np.array(partials)\n",
    "#print(f\"gmat {gmat}\")\n",
    "#print(f\"outmat {outmat}\")\n",
    "#np.count_nonzero(outmat)"
   ]
  },
  {
   "cell_type": "markdown",
   "id": "087251e6-f2f9-41bd-a0b4-5d0537c839e7",
   "metadata": {},
   "source": [
    "Does it help to flatten the loop?\n",
    "Note this only populates the upper-R above the diagonal."
   ]
  },
  {
   "cell_type": "code",
   "execution_count": 8,
   "id": "889b77cb-d6ee-45a5-af6c-60567485cf4b",
   "metadata": {},
   "outputs": [
    {
     "name": "stdout",
     "output_type": "stream",
     "text": [
      "4.78 s ± 714 ms per loop (mean ± std. dev. of 7 runs, 1 loop each)\n"
     ]
    }
   ],
   "source": [
    "%%timeit\n",
    "\n",
    "def row_and_row (i,j):\n",
    "  return np.dot(np.asarray(gmat[i,:]).reshape(-1), np.asarray(gmat[j,:]).reshape(-1))\n",
    "\n",
    "itertuples = list()\n",
    "\n",
    "def gen_ij():\n",
    "    for i in range(gmat.shape[0]):\n",
    "        for j in range(i+1,gmat.shape[1]):\n",
    "            yield (i,j)\n",
    "    return\n",
    "\n",
    "#for i in range(gmat.shape[0]):\n",
    "#    for j in range(i+1,gmat.shape[1]):\n",
    "#        itertuples.append((i,j))\n",
    "                \n",
    "from joblib import Parallel, delayed\n",
    "partials = Parallel(n_jobs=4)(delayed(row_and_row)(i,j) for (i,j) in gen_ij())\n",
    "\n",
    "outmat = np.array(partials)\n",
    "#np.count_nonzero(outmat)\n",
    "#outmat"
   ]
  },
  {
   "cell_type": "markdown",
   "id": "d546172a-b5b9-41a8-9c16-1e7bd24022d0",
   "metadata": {},
   "source": [
    "So the big problem here is data copying. `gmat` is used in parallel contexts and must be copied to each process. Let's try a shared-memory approach, c.f. lecture on GIL and python shared-memory parallelism.  Let's go back to the simple version of the inner/outer nested loops."
   ]
  },
  {
   "cell_type": "code",
   "execution_count": 9,
   "id": "9fafe039-faa4-45c0-a61a-c3620ecbacfb",
   "metadata": {},
   "outputs": [],
   "source": [
    "#small graph for testing\n",
    "#G = nx.erdos_renyi_graph(5,0.8,directed=True)\n",
    "#Big graph for eval\n",
    "G= nx.erdos_renyi_graph(1000,0.01,directed=True)\n",
    "gmat = nx.to_numpy_matrix(G)\n",
    "outmat = np.zeros(gmat.shape)"
   ]
  },
  {
   "cell_type": "code",
   "execution_count": 10,
   "id": "430bca0d-65ee-4979-9a8e-2c6d4fcc700e",
   "metadata": {},
   "outputs": [
    {
     "name": "stdout",
     "output_type": "stream",
     "text": [
      "5.5 s ± 179 ms per loop (mean ± std. dev. of 7 runs, 1 loop each)\n"
     ]
    }
   ],
   "source": [
    "%%timeit\n",
    "\n",
    "outmat = np.zeros(gmat.shape)\n",
    "\n",
    "for i in range(gmat.shape[0]):\n",
    "    for j in range(i+1,gmat.shape[1]):        \n",
    "        outmat[i,j] = np.dot(np.asarray(gmat[i,:]).reshape(-1), np.asarray(gmat[j,:]).reshape(-1))\n",
    "\n",
    "#print(outmat)\n",
    "np.count_nonzero(outmat)"
   ]
  },
  {
   "cell_type": "markdown",
   "id": "991526ca-790e-49aa-99d9-69d766650bd6",
   "metadata": {},
   "source": [
    "Compile the inner loop and see the effects."
   ]
  },
  {
   "cell_type": "code",
   "execution_count": 11,
   "id": "a8fed16b-4fd5-40d3-8497-e1779c7badad",
   "metadata": {},
   "outputs": [
    {
     "name": "stdout",
     "output_type": "stream",
     "text": [
      "275 ms ± 24.3 ms per loop (mean ± std. dev. of 7 runs, 1 loop each)\n"
     ]
    }
   ],
   "source": [
    "%%timeit\n",
    "\n",
    "from numba import jit\n",
    "\n",
    "outmat = np.zeros(gmat.shape)\n",
    "\n",
    "@jit(nopython=True)\n",
    "def inner_loop(i):\n",
    "    partial_out = np.zeros(gmat.shape[1])\n",
    "    for j in range(i+1,gmat.shape[1]):    \n",
    "        partial_out[j] = np.dot(np.asarray(gmat[i,:]).reshape(-1), np.asarray(gmat[j,:]).reshape(-1))  \n",
    "   # print(partial_out)\n",
    "    return partial_out\n",
    "    \n",
    "for i in range(gmat.shape[0]):\n",
    "    outmat[i,:] = inner_loop(i)\n",
    "\n",
    "#print(outmat)\n",
    "np.count_nonzero(outmat)"
   ]
  },
  {
   "cell_type": "markdown",
   "id": "4c0cce9c-e979-4d7b-b402-67a626056b16",
   "metadata": {},
   "source": [
    "and parallelize the outer loop"
   ]
  },
  {
   "cell_type": "code",
   "execution_count": 12,
   "id": "936b2916-7a94-4a17-91dd-b1589aab2feb",
   "metadata": {},
   "outputs": [
    {
     "name": "stdout",
     "output_type": "stream",
     "text": [
      "101 µs ± 4.34 µs per loop (mean ± std. dev. of 7 runs, 10000 loops each)\n"
     ]
    }
   ],
   "source": [
    "%%timeit\n",
    "\n",
    "from numba import jit, prange\n",
    "\n",
    "@jit(nopython=True)\n",
    "def inner_loop(i):\n",
    "    partial_out = np.zeros(gmat.shape[1])\n",
    "    for j in range(i+1,gmat.shape[1]):    \n",
    "        partial_out[j] = np.dot(np.asarray(gmat[i,:]).reshape(-1), np.asarray(gmat[j,:]).reshape(-1))  \n",
    "   # print(partial_out)\n",
    "    return partial_out\n",
    "\n",
    "# Gotta be in a function to parallize\n",
    "@jit(nopython=True)    \n",
    "def outerloop():\n",
    "    outmat = np.zeros(gmat.shape)\n",
    "\n",
    "    for i in prange(gmat.shape[0]):\n",
    "        outmat[i,:] = inner_loop(i)\n",
    "\n",
    "    #print(outmat)\n",
    "    np.count_nonzero(outmat)"
   ]
  },
  {
   "cell_type": "code",
   "execution_count": 13,
   "id": "c47cd820-e12b-4ad7-85f3-d1093d5f0486",
   "metadata": {},
   "outputs": [
    {
     "data": {
      "text/plain": [
       "<AxesSubplot:>"
      ]
     },
     "execution_count": 13,
     "metadata": {},
     "output_type": "execute_result"
    },
    {
     "data": {
      "image/png": "[encoded data removed]",
      "text/plain": [
       "<Figure size 432x288 with 1 Axes>"
      ]
     },
     "metadata": {
      "needs_background": "light"
     },
     "output_type": "display_data"
    }
   ],
   "source": [
    "import pandas as pd\n",
    "\n",
    "# RBTODO get values from code\n",
    "d = { 'nested': [5800], 'flattened': [5310], 'joblib': [5000], 'compiled': [319], 'prange': [114] }\n",
    "\n",
    "df = pd.DataFrame (data=d)\n",
    "df.head()\n",
    "df.plot.bar()"
   ]
  },
  {
   "cell_type": "markdown",
   "id": "f7800fb7-06fd-499b-b867-6f4143d4bfa1",
   "metadata": {},
   "source": [
    "From here, we should do a study of the parameters of "
   ]
  },
  {
   "cell_type": "markdown",
   "id": "b9c5327b-feb1-4f3f-9396-f0890a1c204f",
   "metadata": {},
   "source": [
    "*Q1* Loops.  NUmba documentation says\n",
    "\n",
    "```Whilst NumPy has developed a strong idiom around the use of vector operations, \n",
    "Numba is perfectly happy with loops too. For users familiar with C or Fortran, \n",
    "writing Python in this style will work fine in Numba (after all, LLVM gets a lot \n",
    "of use in compiling C lineage languages). For example:```"
   ]
  },
  {
   "cell_type": "code",
   "execution_count": 15,
   "id": "cf1128c8-6c20-45c3-9011-42b61f8d20e6",
   "metadata": {},
   "outputs": [
    {
     "name": "stdout",
     "output_type": "stream",
     "text": [
      "1.85 ms ± 45.2 µs per loop (mean ± std. dev. of 7 runs, 1 loop each)\n",
      "9.86 ms ± 444 µs per loop (mean ± std. dev. of 7 runs, 100 loops each)\n"
     ]
    }
   ],
   "source": [
    "from numba import njit\n",
    "\n",
    "@njit(parallel=False)\n",
    "def ident_np(x):\n",
    "    return np.cos(x) ** 2 + np.sin(x) ** 2\n",
    "\n",
    "@njit(parallel=False)\n",
    "def ident_loops(x):\n",
    "    r = np.empty_like(x)\n",
    "    n = len(x)\n",
    "    for i in range(n):\n",
    "        r[i] = np.cos(x[i]) ** 2 + np.sin(x[i]) ** 2\n",
    "    return r\n",
    "\n",
    "a = np.random.rand(100000,1)\n",
    "\n",
    "%timeit ident_np(a)\n",
    "%timeit ident_loops(a)\n"
   ]
  },
  {
   "cell_type": "markdown",
   "id": "436ff8d4-9cab-46e0-954d-18b7b62e943a",
   "metadata": {},
   "source": [
    "Hmmm. That seems not to be true. Probably a function of vectorization or potentially parallelization inside np."
   ]
  },
  {
   "cell_type": "code",
   "execution_count": null,
   "id": "953d3116-e741-461c-bdc1-c9faccf09589",
   "metadata": {},
   "outputs": [],
   "source": []
  }
 ],
 "metadata": {
  "kernelspec": {
   "display_name": "Python 3",
   "language": "python",
   "name": "python3"
  },
  "language_info": {
   "codemirror_mode": {
    "name": "ipython",
    "version": 3
   },
   "file_extension": ".py",
   "mimetype": "text/x-python",
   "name": "python",
   "nbconvert_exporter": "python",
   "pygments_lexer": "ipython3",
   "version": "3.9.5"
  }
 },
 "nbformat": 4,
 "nbformat_minor": 5
}
