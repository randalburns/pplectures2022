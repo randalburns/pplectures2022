{
 "cells": [
  {
   "cell_type": "markdown",
   "id": "4ea19e70-9340-43b7-8b91-0e80ad2ba62a",
   "metadata": {},
   "source": [
    "### Poor Parallelism in Python and the GIL\n",
    "\n",
    "shared-memory mutlithreaded is the simplest and most powerful form of parallelism.\n",
    "\n",
    "but, it's largely not available in python because of the GIL -- GLobal interpreter lock\n",
    "\n",
    "python has language capabilities for threads, but the do not run concurrently (in python).\n",
    "\n",
    "You will hear language about `optimized packages that release the GIL`\n",
    "\n",
    "**TODO** expand"
   ]
  },
  {
   "cell_type": "code",
   "execution_count": 4,
   "id": "d0f3bcb9-f8d3-4a03-b9af-6060dc6f8c68",
   "metadata": {},
   "outputs": [],
   "source": [
    "from random import random\n",
    "\n",
    "def gen_random_01(count):\n",
    "    for i in range(count):\n",
    "        random()\n",
    "        \n",
    "gen_random_01(10)"
   ]
  },
  {
   "cell_type": "code",
   "execution_count": 7,
   "id": "ca1e8aa6-5bdb-4e37-acf4-e2f2d6439ded",
   "metadata": {},
   "outputs": [
    {
     "name": "stdout",
     "output_type": "stream",
     "text": [
      "505 ms ± 26 ms per loop (mean ± std. dev. of 7 runs, 1 loop each)\n"
     ]
    }
   ],
   "source": [
    "%%timeit \n",
    "\n",
    "gen_random_01(10000000)"
   ]
  },
  {
   "cell_type": "code",
   "execution_count": 11,
   "id": "1c461132-5c52-43ff-b0a6-6fc258a296ab",
   "metadata": {},
   "outputs": [
    {
     "name": "stdout",
     "output_type": "stream",
     "text": [
      "502 ms ± 59.8 ms per loop (mean ± std. dev. of 7 runs, 10 loops each)\n"
     ]
    }
   ],
   "source": [
    "%%timeit \n",
    "\n",
    "from threading import Thread\n",
    "\n",
    "for i in range(4):\n",
    "  Thread(target=gen_random_01, args=(2500000,)).start()"
   ]
  },
  {
   "cell_type": "markdown",
   "id": "0388ed9d-b514-4865-a69a-74d178faac32",
   "metadata": {},
   "source": [
    "So this is a total bummer. The typical workaround is to use process based parallelism, which is always worse:\n",
    "  * overhead of creating process contexts\n",
    "  * no data sharing through shared memory, which limits you to computational only problems."
   ]
  },
  {
   "cell_type": "code",
   "execution_count": 14,
   "id": "674bf11b-5ec1-4550-b0b4-583eb8c57676",
   "metadata": {},
   "outputs": [
    {
     "name": "stdout",
     "output_type": "stream",
     "text": [
      "74.7 ms ± 9.6 ms per loop (mean ± std. dev. of 7 runs, 10 loops each)\n"
     ]
    }
   ],
   "source": [
    "%%timeit\n",
    "\n",
    "from multiprocessing import Process\n",
    "\n",
    "for i in range(4):\n",
    "  Process(target=gen_random_01, args=(2500000,)).start()"
   ]
  },
  {
   "cell_type": "code",
   "execution_count": 15,
   "id": "cae67da0-2f72-4784-8741-b637ab07d4be",
   "metadata": {},
   "outputs": [
    {
     "name": "stdout",
     "output_type": "stream",
     "text": [
      "Object `Why` not found.\n"
     ]
    }
   ],
   "source": [
    "This ends up with super-linear speedup (not what we would expect). Why?"
   ]
  },
  {
   "cell_type": "code",
   "execution_count": null,
   "id": "fdafbd64-267a-4b2d-838e-beb4567bc78f",
   "metadata": {},
   "outputs": [],
   "source": [
    "This ends up with super-linear speedup (not what we would expect). Why"
   ]
  },
  {
   "cell_type": "code",
   "execution_count": null,
   "id": "f60b73ca-23a5-4e3b-bcce-3910cb6a55fe",
   "metadata": {},
   "outputs": [],
   "source": []
  }
 ],
 "metadata": {
  "kernelspec": {
   "display_name": "Python 3",
   "language": "python",
   "name": "python3"
  },
  "language_info": {
   "codemirror_mode": {
    "name": "ipython",
    "version": 3
   },
   "file_extension": ".py",
   "mimetype": "text/x-python",
   "name": "python",
   "nbconvert_exporter": "python",
   "pygments_lexer": "ipython3",
   "version": "3.8.6"
  }
 },
 "nbformat": 4,
 "nbformat_minor": 5
}
