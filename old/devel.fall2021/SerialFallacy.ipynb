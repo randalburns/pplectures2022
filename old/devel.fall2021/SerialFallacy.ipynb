{
 "cells": [
  {
   "cell_type": "markdown",
   "metadata": {},
   "source": [
    "### The Fallacy of Serial Complexity and Big O Notation\n",
    "\n",
    "**RBTODO** need to tighten this up.\n"
   ]
  },
  {
   "cell_type": "markdown",
   "metadata": {},
   "source": [
    "### What's a computer look like?\n",
    "\n",
    "* Turing machine \n",
    "\n",
    "![Turing Machhine Cartoon](http://www.lifeiscomputation.com/wp-content/uploads/2020/10/TuringMachineCartoon-768x529.png)\n",
    "\n",
    "* Universal Turing Machine\n",
    "\n",
    "<img src=\"https://upload.wikimedia.org/wikipedia/commons/thumb/4/43/Universal_Turing_machine.svg/1600px-Universal_Turing_machine.svg.png\" width=\"512\" title=\"Universal TM\" />\n",
    "\n",
    "* Von Neumann Architecture\n",
    "\n",
    "<img src=\"https://upload.wikimedia.org/wikipedia/commons/thumb/e/e5/Von_Neumann_Architecture.svg/2880px-Von_Neumann_Architecture.svg.png\" width=\"512\" title=\"Von Neumann Architecture\" />    \n",
    "\n",
    "#### Properties of \"Computers\"\n",
    "\n",
    "* Sequential processing\n",
    "    * Control or logic flow  \n",
    "* Algorithm costs measured in this model\n",
    "    * Big-O notation counts number of sequential steps\n",
    "* This is the basis for the CS curriculum\n",
    "    * And it’s just wrong\n",
    "    * Computers are not sequential and performance is more nuanced than counting the number of steps \n",
    "* We look at computers as parallel entities\n",
    "    * Do many tasks concurrently\n",
    "    * Tasks interfere with each other\n",
    "    * More accurately reflects hardware and bottlenecks\n",
    "* What about parallel computation models?\n",
    "    * Exist but not useful, because reality collides with the abstraction\n",
    " \n",
    "<img src=\"https://d3e8mc9t3dqxs7.cloudfront.net/wp-content/uploads/sites/11/2016/02/PRAM-Model.png\" width=\"512\" title=\"PRAM\" /> \n"
   ]
  },
  {
   "cell_type": "markdown",
   "metadata": {},
   "source": [
    "### Rethinking Serial\n",
    "\n",
    "* Realities of computing\n",
    "    * We have tons of wasted cycles\n",
    "    * CPU utilization typically <10% (of useful work)\n",
    "* Many other things limit performance\n",
    "    * Pipeline stalls\n",
    "    * Lock interference\n",
    "    * Waiting for I/O and network\n",
    "    * Data dependencies\n",
    "* Writing serial programs is broken\n",
    "    * Parallelism is everywhere\n",
    "    * Must exploit it to realize time efficiency, power savings"
   ]
  },
  {
   "cell_type": "markdown",
   "metadata": {},
   "source": [
    "### How much parallelism is needed?\n",
    "\n",
    "More than you could imagine.  \n",
    "  * Ten years ago on a \"serial\" processor we needed ~100 independent instructions\n",
    " \n",
    "<img src=\"../images/monet.screenshot.png\" width=\"512\" title=\"MonetDB\" /> "
   ]
  },
  {
   "cell_type": "markdown",
   "metadata": {},
   "source": [
    "### Why do I want to write parallel programs?\n",
    "  * to solve problems faster (strong scaling)\n",
    "  * to solve bigger problems (weak scaling and memory)\n",
    " \n",
    "### Why don't I want to write parallel programs? \n",
    "  * the tools are more difficult to use: expect 10x programming effort\n",
    "  * for many problem performance does not improve\n",
    " \n",
    "This course will help to decide when to write parallel code and how to write it.\n",
    "\n",
    "### Conclusions\n",
    "\n",
    "Every computer is a parallel computer\n",
    "\n",
    "Parallel computers need independent work to run their many cores (or other resources) efficiently\n",
    "\n",
    "Themes of this class:\n",
    "* Identify available parallelism in programming tasks\n",
    "* Encode parallelism in parallel programs\n",
    "* Understand parallel hardware and how to optimize parallel performance\n"
   ]
  },
  {
   "cell_type": "code",
   "execution_count": null,
   "metadata": {},
   "outputs": [],
   "source": []
  }
 ],
 "metadata": {
  "kernelspec": {
   "display_name": "Python 3",
   "language": "python",
   "name": "python3"
  },
  "language_info": {
   "codemirror_mode": {
    "name": "ipython",
    "version": 3
   },
   "file_extension": ".py",
   "mimetype": "text/x-python",
   "name": "python",
   "nbconvert_exporter": "python",
   "pygments_lexer": "ipython3",
   "version": "3.9.5"
  }
 },
 "nbformat": 4,
 "nbformat_minor": 4
}
