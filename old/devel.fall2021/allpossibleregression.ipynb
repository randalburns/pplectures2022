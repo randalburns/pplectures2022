{
 "cells": [
  {
   "cell_type": "markdown",
   "id": "1a67f85d-6cac-47aa-ab01-3bb1654d7099",
   "metadata": {},
   "source": [
    "###  All Possible Regression\n",
    "\n",
    "Python reimplementation of the Section 3.4. in PCDS.\n",
    "Python data and some code from https://www.kaggle.com/divan0/multiple-linear-regression."
   ]
  },
  {
   "cell_type": "code",
   "execution_count": 1,
   "id": "a9525a93-0b4e-4a25-bf87-d4335132cffc",
   "metadata": {},
   "outputs": [
    {
     "data": {
      "text/html": [
       "<div>\n",
       "<style scoped>\n",
       "    .dataframe tbody tr th:only-of-type {\n",
       "        vertical-align: middle;\n",
       "    }\n",
       "\n",
       "    .dataframe tbody tr th {\n",
       "        vertical-align: top;\n",
       "    }\n",
       "\n",
       "    .dataframe thead th {\n",
       "        text-align: right;\n",
       "    }\n",
       "</style>\n",
       "<table border=\"1\" class=\"dataframe\">\n",
       "  <thead>\n",
       "    <tr style=\"text-align: right;\">\n",
       "      <th></th>\n",
       "      <th>id</th>\n",
       "      <th>date</th>\n",
       "      <th>price</th>\n",
       "      <th>bedrooms</th>\n",
       "      <th>bathrooms</th>\n",
       "      <th>sqft_living</th>\n",
       "      <th>sqft_lot</th>\n",
       "      <th>floors</th>\n",
       "      <th>waterfront</th>\n",
       "      <th>view</th>\n",
       "      <th>...</th>\n",
       "      <th>grade</th>\n",
       "      <th>sqft_above</th>\n",
       "      <th>sqft_basement</th>\n",
       "      <th>yr_built</th>\n",
       "      <th>yr_renovated</th>\n",
       "      <th>zipcode</th>\n",
       "      <th>lat</th>\n",
       "      <th>long</th>\n",
       "      <th>sqft_living15</th>\n",
       "      <th>sqft_lot15</th>\n",
       "    </tr>\n",
       "  </thead>\n",
       "  <tbody>\n",
       "    <tr>\n",
       "      <th>0</th>\n",
       "      <td>7129300520</td>\n",
       "      <td>20141013T000000</td>\n",
       "      <td>221900.0</td>\n",
       "      <td>3</td>\n",
       "      <td>1.00</td>\n",
       "      <td>1180</td>\n",
       "      <td>5650</td>\n",
       "      <td>1.0</td>\n",
       "      <td>0</td>\n",
       "      <td>0</td>\n",
       "      <td>...</td>\n",
       "      <td>7</td>\n",
       "      <td>1180.0</td>\n",
       "      <td>0</td>\n",
       "      <td>1955</td>\n",
       "      <td>0</td>\n",
       "      <td>98178</td>\n",
       "      <td>47.5112</td>\n",
       "      <td>-122.257</td>\n",
       "      <td>1340</td>\n",
       "      <td>5650</td>\n",
       "    </tr>\n",
       "    <tr>\n",
       "      <th>1</th>\n",
       "      <td>6414100192</td>\n",
       "      <td>20141209T000000</td>\n",
       "      <td>538000.0</td>\n",
       "      <td>3</td>\n",
       "      <td>2.25</td>\n",
       "      <td>2570</td>\n",
       "      <td>7242</td>\n",
       "      <td>2.0</td>\n",
       "      <td>0</td>\n",
       "      <td>0</td>\n",
       "      <td>...</td>\n",
       "      <td>7</td>\n",
       "      <td>2170.0</td>\n",
       "      <td>400</td>\n",
       "      <td>1951</td>\n",
       "      <td>1991</td>\n",
       "      <td>98125</td>\n",
       "      <td>47.7210</td>\n",
       "      <td>-122.319</td>\n",
       "      <td>1690</td>\n",
       "      <td>7639</td>\n",
       "    </tr>\n",
       "    <tr>\n",
       "      <th>2</th>\n",
       "      <td>5631500400</td>\n",
       "      <td>20150225T000000</td>\n",
       "      <td>180000.0</td>\n",
       "      <td>2</td>\n",
       "      <td>1.00</td>\n",
       "      <td>770</td>\n",
       "      <td>10000</td>\n",
       "      <td>1.0</td>\n",
       "      <td>0</td>\n",
       "      <td>0</td>\n",
       "      <td>...</td>\n",
       "      <td>6</td>\n",
       "      <td>770.0</td>\n",
       "      <td>0</td>\n",
       "      <td>1933</td>\n",
       "      <td>0</td>\n",
       "      <td>98028</td>\n",
       "      <td>47.7379</td>\n",
       "      <td>-122.233</td>\n",
       "      <td>2720</td>\n",
       "      <td>8062</td>\n",
       "    </tr>\n",
       "    <tr>\n",
       "      <th>3</th>\n",
       "      <td>2487200875</td>\n",
       "      <td>20141209T000000</td>\n",
       "      <td>604000.0</td>\n",
       "      <td>4</td>\n",
       "      <td>3.00</td>\n",
       "      <td>1960</td>\n",
       "      <td>5000</td>\n",
       "      <td>1.0</td>\n",
       "      <td>0</td>\n",
       "      <td>0</td>\n",
       "      <td>...</td>\n",
       "      <td>7</td>\n",
       "      <td>1050.0</td>\n",
       "      <td>910</td>\n",
       "      <td>1965</td>\n",
       "      <td>0</td>\n",
       "      <td>98136</td>\n",
       "      <td>47.5208</td>\n",
       "      <td>-122.393</td>\n",
       "      <td>1360</td>\n",
       "      <td>5000</td>\n",
       "    </tr>\n",
       "    <tr>\n",
       "      <th>4</th>\n",
       "      <td>1954400510</td>\n",
       "      <td>20150218T000000</td>\n",
       "      <td>510000.0</td>\n",
       "      <td>3</td>\n",
       "      <td>2.00</td>\n",
       "      <td>1680</td>\n",
       "      <td>8080</td>\n",
       "      <td>1.0</td>\n",
       "      <td>0</td>\n",
       "      <td>0</td>\n",
       "      <td>...</td>\n",
       "      <td>8</td>\n",
       "      <td>1680.0</td>\n",
       "      <td>0</td>\n",
       "      <td>1987</td>\n",
       "      <td>0</td>\n",
       "      <td>98074</td>\n",
       "      <td>47.6168</td>\n",
       "      <td>-122.045</td>\n",
       "      <td>1800</td>\n",
       "      <td>7503</td>\n",
       "    </tr>\n",
       "  </tbody>\n",
       "</table>\n",
       "<p>5 rows × 21 columns</p>\n",
       "</div>"
      ],
      "text/plain": [
       "           id             date     price  bedrooms  bathrooms  sqft_living  \\\n",
       "0  7129300520  20141013T000000  221900.0         3       1.00         1180   \n",
       "1  6414100192  20141209T000000  538000.0         3       2.25         2570   \n",
       "2  5631500400  20150225T000000  180000.0         2       1.00          770   \n",
       "3  2487200875  20141209T000000  604000.0         4       3.00         1960   \n",
       "4  1954400510  20150218T000000  510000.0         3       2.00         1680   \n",
       "\n",
       "   sqft_lot  floors  waterfront  view  ...  grade  sqft_above  sqft_basement  \\\n",
       "0      5650     1.0           0     0  ...      7      1180.0              0   \n",
       "1      7242     2.0           0     0  ...      7      2170.0            400   \n",
       "2     10000     1.0           0     0  ...      6       770.0              0   \n",
       "3      5000     1.0           0     0  ...      7      1050.0            910   \n",
       "4      8080     1.0           0     0  ...      8      1680.0              0   \n",
       "\n",
       "   yr_built  yr_renovated  zipcode      lat     long  sqft_living15  \\\n",
       "0      1955             0    98178  47.5112 -122.257           1340   \n",
       "1      1951          1991    98125  47.7210 -122.319           1690   \n",
       "2      1933             0    98028  47.7379 -122.233           2720   \n",
       "3      1965             0    98136  47.5208 -122.393           1360   \n",
       "4      1987             0    98074  47.6168 -122.045           1800   \n",
       "\n",
       "   sqft_lot15  \n",
       "0        5650  \n",
       "1        7639  \n",
       "2        8062  \n",
       "3        5000  \n",
       "4        7503  \n",
       "\n",
       "[5 rows x 21 columns]"
      ]
     },
     "execution_count": 1,
     "metadata": {},
     "output_type": "execute_result"
    }
   ],
   "source": [
    "import numpy as np\n",
    "import matplotlib.pyplot as plt\n",
    "import pandas as pd\n",
    "\n",
    "%matplotlib inline\n",
    "\n",
    "#importing dataset using panda\n",
    "dataset = pd.read_csv('../../data/kc_house_data.csv')\n",
    "#to see what my dataset is comprised of\n",
    "dataset.head()"
   ]
  },
  {
   "cell_type": "code",
   "execution_count": 2,
   "id": "06ad55ee-ba79-4673-b693-ebca04f1bb77",
   "metadata": {},
   "outputs": [],
   "source": [
    "#dropping the id and date column\n",
    "dataset = dataset.drop(['id','date'], axis = 1)\n",
    "\n",
    "# clean out NaN and inf values\n",
    "dataset = dataset[~dataset.isin([np.nan, np.inf, -np.inf]).any(1)]"
   ]
  },
  {
   "cell_type": "markdown",
   "id": "f724288c-e17e-46a4-939b-c5ec0fc34a3b",
   "metadata": {},
   "source": [
    "Simplest regression. How does square footage predict price by regression.  "
   ]
  },
  {
   "cell_type": "code",
   "execution_count": 3,
   "id": "cbd8b494-d600-4bc9-9af7-15bef7796fb5",
   "metadata": {},
   "outputs": [
    {
     "name": "stdout",
     "output_type": "stream",
     "text": [
      "coefficient of determination: 0.4928817196006995\n"
     ]
    }
   ],
   "source": [
    "from sklearn.linear_model import LinearRegression\n",
    "\n",
    "X = np.array(dataset.sqft_living)\n",
    "Y = np.array(dataset.price)\n",
    "\n",
    "# shape X into matrix of a single column\n",
    "X = X.reshape((X.shape[0],1))\n",
    "\n",
    "model = LinearRegression()\n",
    "model.fit(X,Y)\n",
    "r_sq = model.score(X,Y)\n",
    "print('coefficient of determination:', r_sq)"
   ]
  },
  {
   "cell_type": "code",
   "execution_count": 4,
   "id": "97519567-fe0a-439e-a7e7-d97e4d56dea7",
   "metadata": {},
   "outputs": [
    {
     "data": {
      "image/png": "[encoded data removed]",
      "text/plain": [
       "<Figure size 640x480 with 1 Axes>"
      ]
     },
     "metadata": {},
     "output_type": "display_data"
    }
   ],
   "source": [
    "%matplotlib inline\n",
    "import matplotlib.pyplot as plt\n",
    "\n",
    "# scatter data\n",
    "plt.plot(X,Y,'o')\n",
    "# best fit line\n",
    "y_pred = model.intercept_ + model.coef_ * X\n",
    "plt.plot(X, y_pred, color='red', linewidth=3)\n",
    "\n",
    "plt.xticks(())\n",
    "plt.yticks(())\n",
    "\n",
    "plt.show()"
   ]
  },
  {
   "cell_type": "markdown",
   "id": "0e2d9af2-3882-4c1d-9f58-038567ffd5ac",
   "metadata": {},
   "source": [
    "### Multiple Linear Regression\n",
    "\n",
    "Adding more variables often improves the score.  The best possible regression score is 1.0."
   ]
  },
  {
   "cell_type": "code",
   "execution_count": 5,
   "id": "fccb721f-db9f-4c58-ad3b-d7ed629791a2",
   "metadata": {},
   "outputs": [
    {
     "name": "stdout",
     "output_type": "stream",
     "text": [
      "coefficient of determination: 0.5249639858277426\n"
     ]
    }
   ],
   "source": [
    "X = np.array(dataset[['sqft_living','condition','yr_built']])\n",
    "Y = np.array(dataset.price)\n",
    "\n",
    "# shape X into matrix of a single column\n",
    "X = X.reshape((X.shape[0],3))\n",
    "\n",
    "model = LinearRegression()\n",
    "model.fit(X,Y)\n",
    "r_sq = model.score(X,Y)\n",
    "print('coefficient of determination:', r_sq)"
   ]
  },
  {
   "cell_type": "markdown",
   "id": "e900ab88-873c-4290-9d99-723cef811c6d",
   "metadata": {},
   "source": [
    "but some variables are confounding"
   ]
  },
  {
   "cell_type": "code",
   "execution_count": 6,
   "id": "ff60bd53-6ebc-4f13-8c78-5e81992aebd4",
   "metadata": {},
   "outputs": [
    {
     "name": "stdout",
     "output_type": "stream",
     "text": [
      "coefficient of determination: 0.13588749977708758\n"
     ]
    }
   ],
   "source": [
    "X = np.array(dataset[['zipcode','floors','waterfront']])\n",
    "Y = np.array(dataset.price)\n",
    "\n",
    "# shape X into matrix of a single column\n",
    "X = X.reshape((X.shape[0],3))\n",
    "\n",
    "model = LinearRegression()\n",
    "model.fit(X,Y)\n",
    "r_sq = model.score(X,Y)\n",
    "print('coefficient of determination:', r_sq)"
   ]
  },
  {
   "cell_type": "markdown",
   "id": "1d948a45-a861-423a-b2ce-8fcf1bf976c3",
   "metadata": {},
   "source": [
    "This leads to a first parallel program.  What are the right set of variables. A brute force approach called _All Possible Regressions_. So, let's build a big matrix that and we will regress on subsets."
   ]
  },
  {
   "cell_type": "code",
   "execution_count": 7,
   "id": "615005bd-f622-43a0-a844-c32f11e2676d",
   "metadata": {},
   "outputs": [],
   "source": [
    "from itertools import combinations, chain\n",
    "\n",
    "Y = np.array(dataset.price)\n",
    "X = np.array(dataset.drop(['price'], axis=1))\n",
    "\n",
    "## Let's choose all combinations of 1, 2, and 3 columns.\n",
    "col_idxs = np.array(range(X.shape[1]))\n",
    "combos = list(chain(combinations(col_idxs, 1), combinations(col_idxs, 2), combinations(col_idxs, 3)))"
   ]
  },
  {
   "cell_type": "code",
   "execution_count": 8,
   "id": "bc919ff9-24aa-4a9b-a4ee-efc84f8b51d9",
   "metadata": {},
   "outputs": [
    {
     "name": "stdout",
     "output_type": "stream",
     "text": [
      "0.6095149101819038 (2, 6, 14)\n",
      "0.6095149101819038 (2, 6, 14)\n",
      "0.6095149101819038 (2, 6, 14)\n",
      "0.6095149101819038 (2, 6, 14)\n",
      "0.6095149101819038 (2, 6, 14)\n",
      "0.6095149101819038 (2, 6, 14)\n",
      "0.6095149101819038 (2, 6, 14)\n",
      "0.6095149101819038 (2, 6, 14)\n",
      "2.41 s ± 320 ms per loop (mean ± std. dev. of 7 runs, 1 loop each)\n"
     ]
    }
   ],
   "source": [
    "%%timeit\n",
    "\n",
    "model = LinearRegression()\n",
    "\n",
    "# do in a for loop (dumbest way)\n",
    "r_sq_best = 0.0\n",
    "for combo in combos:\n",
    "    Xp = X[:,combo]\n",
    "#    print(combo)\n",
    "#    print(Xp.shape, Xp[0:10,:])\n",
    "#    print(Xp.shape)\n",
    "    model = model.fit(Xp,Y)\n",
    "    r_sq = model.score(Xp,Y)\n",
    "    if r_sq > r_sq_best:\n",
    "        r_sq_best = r_sq\n",
    "        combo_best = combo\n",
    "    \n",
    "print(r_sq_best, combo_best)"
   ]
  },
  {
   "cell_type": "markdown",
   "id": "603e45b6-80e4-4c6c-9a2f-1e8a728b1e5b",
   "metadata": {},
   "source": [
    "The outcome is kind of crazy. The fields are `sqft-living`, `view`, and `latitude`. Latitude is probably a somewhat accurate proxy for wealth in this area, e.g. N of town richer than south of town. But, this is the kind of outcome that does not translate to other areas.\n",
    "\n",
    "Back to performance.\n",
    "\n",
    "Let's see if a loop comprehension helps much.  Remove control variable overhead."
   ]
  },
  {
   "cell_type": "code",
   "execution_count": 9,
   "id": "7993f4bd-6331-42f5-b909-31c6f1b659cf",
   "metadata": {},
   "outputs": [],
   "source": [
    "def r_sq_regression (combo):\n",
    "    Xp = X[:,combo]\n",
    "    model = LinearRegression()\n",
    "    model = model.fit(Xp,Y)\n",
    "    return model.score(Xp,Y)"
   ]
  },
  {
   "cell_type": "code",
   "execution_count": 10,
   "id": "96184a66-012a-4068-a462-677fcafb2ba7",
   "metadata": {},
   "outputs": [
    {
     "name": "stdout",
     "output_type": "stream",
     "text": [
      "[(2, 6, 14) 0.6095149101819038]\n",
      "[(2, 6, 14) 0.6095149101819038]\n",
      "[(2, 6, 14) 0.6095149101819038]\n",
      "[(2, 6, 14) 0.6095149101819038]\n",
      "[(2, 6, 14) 0.6095149101819038]\n",
      "[(2, 6, 14) 0.6095149101819038]\n",
      "[(2, 6, 14) 0.6095149101819038]\n",
      "[(2, 6, 14) 0.6095149101819038]\n",
      "2.18 s ± 55.2 ms per loop (mean ± std. dev. of 7 runs, 1 loop each)\n"
     ]
    }
   ],
   "source": [
    "%%timeit\n",
    "               \n",
    "r_sq_list = [ (combo, r_sq_regression(combo)) for combo in combos ]\n",
    "r_sq_arr = np.array(r_sq_list, dtype=object)\n",
    "\n",
    "r_sq_idx = np.argmax(r_sq_arr[:,1])\n",
    "print(r_sq_arr[r_sq_idx])"
   ]
  },
  {
   "cell_type": "markdown",
   "id": "e3298cb7-ab53-4a34-8442-883faa04a8ab",
   "metadata": {},
   "source": [
    "It didn't seem to help. Maybe worse because of function call overhead.\n",
    "\n",
    "__RB talk about parallelization strategies here.  How to decompose.  Why?__\n",
    "\n",
    "and we can try to parallelize internally. because sklearn has joblib for individual calls.  not very effective. no parallelism available\n",
    "\n",
    "Now parallelize this let's do this with joblib"
   ]
  },
  {
   "cell_type": "code",
   "execution_count": 11,
   "id": "d1194559-1102-4978-bc80-a4911dddf37f",
   "metadata": {},
   "outputs": [
    {
     "name": "stdout",
     "output_type": "stream",
     "text": [
      "0.6095149101819038 (2, 6, 14)\n",
      "0.6095149101819038 (2, 6, 14)\n",
      "0.6095149101819038 (2, 6, 14)\n",
      "0.6095149101819038 (2, 6, 14)\n",
      "0.6095149101819038 (2, 6, 14)\n",
      "0.6095149101819038 (2, 6, 14)\n",
      "0.6095149101819038 (2, 6, 14)\n",
      "0.6095149101819038 (2, 6, 14)\n",
      "599 ms ± 30.3 ms per loop (mean ± std. dev. of 7 runs, 1 loop each)\n"
     ]
    }
   ],
   "source": [
    "%%timeit\n",
    "from joblib import Parallel, delayed\n",
    "r_sq_arr = Parallel(n_jobs=4)(delayed(r_sq_regression)(combo) for combo in combos)\n",
    "\n",
    "r_sq_idx = np.argmax(r_sq_arr)\n",
    "print(r_sq_arr[r_sq_idx], combos[r_sq_idx])"
   ]
  },
  {
   "cell_type": "markdown",
   "id": "fa71b693-b579-4e16-9df1-ab9df091f274",
   "metadata": {},
   "source": [
    "Activities -- explore the parameters of joblib.\n",
    "  * number of cores\n",
    "  * thread versus process scheduler\n",
    "  * batch size  (very suprising that the batch size documentation says that 1 is reasonable)\n",
    "  * pre-dispatch -- this is dynamic scheduling\n",
    "  \n",
    "  \n",
    "Things in Chapter that we didn't talk about.  Choice of parallelization strategies."
   ]
  },
  {
   "cell_type": "markdown",
   "id": "271c0401-6d43-47f4-8235-17691b6d561c",
   "metadata": {},
   "source": [
    "At only 987 jobs, what batch size will provde the right amount of parallelism.\n",
    "Trades startup costs, versus skew.  What batch size was chosen by the default?  Why is that a reasonable choice?\n",
    "\n",
    "This should come in a section about startup versus skew/load balance"
   ]
  },
  {
   "cell_type": "code",
   "execution_count": 12,
   "id": "182a27a7-8529-4cf2-89c2-9b3155be1d98",
   "metadata": {},
   "outputs": [
    {
     "name": "stdout",
     "output_type": "stream",
     "text": [
      "921 ms ± 66 ms per loop (mean ± std. dev. of 7 runs, 1 loop each)\n",
      "771 ms ± 8.05 ms per loop (mean ± std. dev. of 7 runs, 1 loop each)\n",
      "676 ms ± 13.9 ms per loop (mean ± std. dev. of 7 runs, 1 loop each)\n",
      "616 ms ± 10.5 ms per loop (mean ± std. dev. of 7 runs, 1 loop each)\n",
      "610 ms ± 60.8 ms per loop (mean ± std. dev. of 7 runs, 1 loop each)\n",
      "574 ms ± 2.74 ms per loop (mean ± std. dev. of 7 runs, 1 loop each)\n",
      "565 ms ± 4.8 ms per loop (mean ± std. dev. of 7 runs, 1 loop each)\n",
      "573 ms ± 21.6 ms per loop (mean ± std. dev. of 7 runs, 1 loop each)\n",
      "575 ms ± 8.73 ms per loop (mean ± std. dev. of 7 runs, 1 loop each)\n",
      "576 ms ± 12.9 ms per loop (mean ± std. dev. of 7 runs, 1 loop each)\n"
     ]
    }
   ],
   "source": [
    "from joblib import Parallel, delayed\n",
    "\n",
    "# check out batch sizes\n",
    "%timeit Parallel(n_jobs=4, batch_size=1)(delayed(r_sq_regression)(combo) for combo in combos)\n",
    "%timeit Parallel(n_jobs=4, batch_size=2)(delayed(r_sq_regression)(combo) for combo in combos)\n",
    "%timeit Parallel(n_jobs=4, batch_size=4)(delayed(r_sq_regression)(combo) for combo in combos)\n",
    "%timeit Parallel(n_jobs=4, batch_size=8)(delayed(r_sq_regression)(combo) for combo in combos)\n",
    "%timeit Parallel(n_jobs=4, batch_size=16)(delayed(r_sq_regression)(combo) for combo in combos)\n",
    "%timeit Parallel(n_jobs=4, batch_size=32)(delayed(r_sq_regression)(combo) for combo in combos)\n",
    "%timeit Parallel(n_jobs=4, batch_size=64)(delayed(r_sq_regression)(combo) for combo in combos)\n",
    "%timeit Parallel(n_jobs=4, batch_size=128)(delayed(r_sq_regression)(combo) for combo in combos)\n",
    "%timeit Parallel(n_jobs=4, batch_size=256)(delayed(r_sq_regression)(combo) for combo in combos)\n",
    "%timeit Parallel(n_jobs=4, batch_size=512)(delayed(r_sq_regression)(combo) for combo in combos)"
   ]
  },
  {
   "cell_type": "markdown",
   "id": "b7c2bf52-374b-4bf9-a47a-4198bc9284ea",
   "metadata": {},
   "source": [
    "Explore process v. thread scheduler\n",
    "\n",
    "This result is very surprising. Threads should be better, but they aren't.  Some part of our code is not releasing the GIL.  Put in a section on the python GIL."
   ]
  },
  {
   "cell_type": "code",
   "execution_count": 13,
   "id": "192d3aed-d2c7-45c8-83bd-83462fdc24bb",
   "metadata": {},
   "outputs": [
    {
     "name": "stdout",
     "output_type": "stream",
     "text": [
      "3.34 s ± 17.4 ms per loop (mean ± std. dev. of 7 runs, 1 loop each)\n",
      "580 ms ± 14.4 ms per loop (mean ± std. dev. of 7 runs, 1 loop each)\n"
     ]
    }
   ],
   "source": [
    "from joblib import Parallel, delayed\n",
    "\n",
    "# check out batch sizes\n",
    "%timeit Parallel(n_jobs=4, prefer='threads')(delayed(r_sq_regression)(combo) for combo in combos)\n",
    "%timeit Parallel(n_jobs=4, prefer='processes')(delayed(r_sq_regression)(combo) for combo in combos)"
   ]
  },
  {
   "cell_type": "markdown",
   "id": "9e1fa4e7-7227-4bf8-ad6e-98ad818d8964",
   "metadata": {},
   "source": [
    "Let's try making the call only to the scikit-learn and see if our function is the problem with the GIL.   This ends up very interesting.  It makes threading faster, because the GIL is less of a problem, but it's a problem to serialize/marshall the model objects across the processes.  So, no easy fix for this code.  **Careful** the processes call will crash your Jupyter. "
   ]
  },
  {
   "cell_type": "code",
   "execution_count": 14,
   "id": "a1af01d9-c9ea-485f-977d-f753f5205df8",
   "metadata": {},
   "outputs": [
    {
     "name": "stdout",
     "output_type": "stream",
     "text": [
      "3.01 s ± 24 ms per loop (mean ± std. dev. of 7 runs, 1 loop each)\n"
     ]
    }
   ],
   "source": [
    "from joblib import Parallel, delayed\n",
    "\n",
    "%timeit Parallel(n_jobs=4, prefer='threads')(delayed(LinearRegression().fit)(X[:,combo],Y) for combo in combos)\n",
    "#%timeit Parallel(n_jobs=4, prefer='processes')(delayed(LinearRegression().fit)(X[:,combo],Y) for combo in combos)\n",
    "\n"
   ]
  },
  {
   "cell_type": "markdown",
   "id": "f485dd17-f2ed-4bbb-afc4-d8d9dc270a6b",
   "metadata": {},
   "source": [
    "Explore dispatch, dynamic schedule"
   ]
  },
  {
   "cell_type": "code",
   "execution_count": 15,
   "id": "5b40a4c1-5914-42e1-8396-605827e2eb3f",
   "metadata": {},
   "outputs": [
    {
     "name": "stdout",
     "output_type": "stream",
     "text": [
      "793 ms ± 15.9 ms per loop (mean ± std. dev. of 7 runs, 1 loop each)\n",
      "728 ms ± 8.45 ms per loop (mean ± std. dev. of 7 runs, 1 loop each)\n",
      "721 ms ± 113 ms per loop (mean ± std. dev. of 7 runs, 1 loop each)\n"
     ]
    }
   ],
   "source": [
    "from joblib import Parallel, delayed\n",
    "\n",
    "%timeit Parallel(n_jobs=4, pre_dispatch=4)(delayed(LinearRegression().fit)(X[:,combo],Y) for combo in combos)\n",
    "%timeit Parallel(n_jobs=4, pre_dispatch=64)(delayed(LinearRegression().fit)(X[:,combo],Y) for combo in combos)\n",
    "%timeit Parallel(n_jobs=4, pre_dispatch='all')(delayed(LinearRegression().fit)(X[:,combo],Y) for combo in combos)\n",
    "#%timeit Parallel(n_jobs=4, prefer='processes')(delayed(LinearRegression().fit)(X[:,combo],Y) for combo in combo"
   ]
  },
  {
   "cell_type": "markdown",
   "id": "e299edc2-6ca5-4c3d-a6e6-9f4083b1f4df",
   "metadata": {},
   "source": [
    "**RBTODO** work on decomposition issues with dask.\n",
    "\n",
    "### Reusing Work with \n",
    "\n",
    "$$\\beta = (X'X)^{-1}X'Y$$\n",
    "\n",
    "this example is driven from https://online.stat.psu.edu/stat462/node/132/\n",
    "\n",
    "making sure that we have the linear algebra right.  The standard is to add a constant term to the predictor matrix, that is the column of ones."
   ]
  },
  {
   "cell_type": "code",
   "execution_count": 16,
   "id": "a2e05a8e-9ab2-4ab9-90e6-285de2db1fb4",
   "metadata": {},
   "outputs": [
    {
     "name": "stdout",
     "output_type": "stream",
     "text": [
      "[[ 4.46428571 -0.78571429]\n",
      " [-0.78571429  0.14285714]]\n",
      "[[-2.67857143]\n",
      " [ 9.5       ]]\n"
     ]
    }
   ],
   "source": [
    "import numpy as np\n",
    "\n",
    "X1 = np.ones([7,1])\n",
    "X2 = np.array([[4.0], [4.5], [5.0], [5.5], [6.0], [6.5], [7.0]])\n",
    "\n",
    "Y = np.array([[33], [42], [45], [51], [53], [61], [62]])\n",
    "\n",
    "X = np.append(X1,X2,axis=1)\n",
    "XtX = (X.transpose().dot(X))\n",
    "\n",
    "XtXi = np.linalg.inv(XtX)\n",
    "\n",
    "print(XtXi)\n",
    "\n",
    "XtY = X.transpose().dot(Y)\n",
    "\n",
    "#print(XtY)\n",
    "\n",
    "beta = XtXi.dot(XtY)\n",
    "\n",
    "print(beta)"
   ]
  },
  {
   "cell_type": "markdown",
   "id": "9408add0-29d3-45ad-a990-e5b4bdf293b3",
   "metadata": {},
   "source": [
    "Validate against python. OK interesing it's not exactly the same, but it becomes the same when we use `fit_intercept`"
   ]
  },
  {
   "cell_type": "code",
   "execution_count": 17,
   "id": "89855865-63ed-489c-94c3-182f70c3871f",
   "metadata": {},
   "outputs": [
    {
     "data": {
      "text/plain": [
       "array([[-2.67857143,  9.5       ]])"
      ]
     },
     "execution_count": 17,
     "metadata": {},
     "output_type": "execute_result"
    }
   ],
   "source": [
    "model = LinearRegression(fit_intercept=False)\n",
    "model.fit(X,Y)\n",
    "model.coef_"
   ]
  },
  {
   "cell_type": "markdown",
   "id": "1199439c-1801-4f85-9881-56daafa7dab3",
   "metadata": {},
   "source": [
    "now, onto the big matrix.  Still adding a column of ones."
   ]
  },
  {
   "cell_type": "code",
   "execution_count": 18,
   "id": "2e2240b2-8434-41ec-a259-add70e3560db",
   "metadata": {},
   "outputs": [
    {
     "ename": "FileNotFoundError",
     "evalue": "[Errno 2] No such file or directory: '../../input/kc_house_data.csv'",
     "output_type": "error",
     "traceback": [
      "\u001b[0;31m---------------------------------------------------------------------------\u001b[0m",
      "\u001b[0;31mFileNotFoundError\u001b[0m                         Traceback (most recent call last)",
      "Input \u001b[0;32mIn [18]\u001b[0m, in \u001b[0;36m<cell line: 2>\u001b[0;34m()\u001b[0m\n\u001b[1;32m      1\u001b[0m \u001b[38;5;66;03m#importing dataset using panda\u001b[39;00m\n\u001b[0;32m----> 2\u001b[0m dataset \u001b[38;5;241m=\u001b[39m \u001b[43mpd\u001b[49m\u001b[38;5;241;43m.\u001b[39;49m\u001b[43mread_csv\u001b[49m\u001b[43m(\u001b[49m\u001b[38;5;124;43m'\u001b[39;49m\u001b[38;5;124;43m../../input/kc_house_data.csv\u001b[39;49m\u001b[38;5;124;43m'\u001b[39;49m\u001b[43m)\u001b[49m\n\u001b[1;32m      4\u001b[0m \u001b[38;5;66;03m#dropping the id and date column\u001b[39;00m\n\u001b[1;32m      5\u001b[0m dataset \u001b[38;5;241m=\u001b[39m dataset\u001b[38;5;241m.\u001b[39mdrop([\u001b[38;5;124m'\u001b[39m\u001b[38;5;124mid\u001b[39m\u001b[38;5;124m'\u001b[39m,\u001b[38;5;124m'\u001b[39m\u001b[38;5;124mdate\u001b[39m\u001b[38;5;124m'\u001b[39m], axis \u001b[38;5;241m=\u001b[39m \u001b[38;5;241m1\u001b[39m)\n",
      "File \u001b[0;32m~/opt/anaconda3/envs/ppomp/lib/python3.10/site-packages/pandas/util/_decorators.py:311\u001b[0m, in \u001b[0;36mdeprecate_nonkeyword_arguments.<locals>.decorate.<locals>.wrapper\u001b[0;34m(*args, **kwargs)\u001b[0m\n\u001b[1;32m    305\u001b[0m \u001b[38;5;28;01mif\u001b[39;00m \u001b[38;5;28mlen\u001b[39m(args) \u001b[38;5;241m>\u001b[39m num_allow_args:\n\u001b[1;32m    306\u001b[0m     warnings\u001b[38;5;241m.\u001b[39mwarn(\n\u001b[1;32m    307\u001b[0m         msg\u001b[38;5;241m.\u001b[39mformat(arguments\u001b[38;5;241m=\u001b[39marguments),\n\u001b[1;32m    308\u001b[0m         \u001b[38;5;167;01mFutureWarning\u001b[39;00m,\n\u001b[1;32m    309\u001b[0m         stacklevel\u001b[38;5;241m=\u001b[39mstacklevel,\n\u001b[1;32m    310\u001b[0m     )\n\u001b[0;32m--> 311\u001b[0m \u001b[38;5;28;01mreturn\u001b[39;00m \u001b[43mfunc\u001b[49m\u001b[43m(\u001b[49m\u001b[38;5;241;43m*\u001b[39;49m\u001b[43margs\u001b[49m\u001b[43m,\u001b[49m\u001b[43m \u001b[49m\u001b[38;5;241;43m*\u001b[39;49m\u001b[38;5;241;43m*\u001b[39;49m\u001b[43mkwargs\u001b[49m\u001b[43m)\u001b[49m\n",
      "File \u001b[0;32m~/opt/anaconda3/envs/ppomp/lib/python3.10/site-packages/pandas/io/parsers/readers.py:680\u001b[0m, in \u001b[0;36mread_csv\u001b[0;34m(filepath_or_buffer, sep, delimiter, header, names, index_col, usecols, squeeze, prefix, mangle_dupe_cols, dtype, engine, converters, true_values, false_values, skipinitialspace, skiprows, skipfooter, nrows, na_values, keep_default_na, na_filter, verbose, skip_blank_lines, parse_dates, infer_datetime_format, keep_date_col, date_parser, dayfirst, cache_dates, iterator, chunksize, compression, thousands, decimal, lineterminator, quotechar, quoting, doublequote, escapechar, comment, encoding, encoding_errors, dialect, error_bad_lines, warn_bad_lines, on_bad_lines, delim_whitespace, low_memory, memory_map, float_precision, storage_options)\u001b[0m\n\u001b[1;32m    665\u001b[0m kwds_defaults \u001b[38;5;241m=\u001b[39m _refine_defaults_read(\n\u001b[1;32m    666\u001b[0m     dialect,\n\u001b[1;32m    667\u001b[0m     delimiter,\n\u001b[0;32m   (...)\u001b[0m\n\u001b[1;32m    676\u001b[0m     defaults\u001b[38;5;241m=\u001b[39m{\u001b[38;5;124m\"\u001b[39m\u001b[38;5;124mdelimiter\u001b[39m\u001b[38;5;124m\"\u001b[39m: \u001b[38;5;124m\"\u001b[39m\u001b[38;5;124m,\u001b[39m\u001b[38;5;124m\"\u001b[39m},\n\u001b[1;32m    677\u001b[0m )\n\u001b[1;32m    678\u001b[0m kwds\u001b[38;5;241m.\u001b[39mupdate(kwds_defaults)\n\u001b[0;32m--> 680\u001b[0m \u001b[38;5;28;01mreturn\u001b[39;00m \u001b[43m_read\u001b[49m\u001b[43m(\u001b[49m\u001b[43mfilepath_or_buffer\u001b[49m\u001b[43m,\u001b[49m\u001b[43m \u001b[49m\u001b[43mkwds\u001b[49m\u001b[43m)\u001b[49m\n",
      "File \u001b[0;32m~/opt/anaconda3/envs/ppomp/lib/python3.10/site-packages/pandas/io/parsers/readers.py:575\u001b[0m, in \u001b[0;36m_read\u001b[0;34m(filepath_or_buffer, kwds)\u001b[0m\n\u001b[1;32m    572\u001b[0m _validate_names(kwds\u001b[38;5;241m.\u001b[39mget(\u001b[38;5;124m\"\u001b[39m\u001b[38;5;124mnames\u001b[39m\u001b[38;5;124m\"\u001b[39m, \u001b[38;5;28;01mNone\u001b[39;00m))\n\u001b[1;32m    574\u001b[0m \u001b[38;5;66;03m# Create the parser.\u001b[39;00m\n\u001b[0;32m--> 575\u001b[0m parser \u001b[38;5;241m=\u001b[39m \u001b[43mTextFileReader\u001b[49m\u001b[43m(\u001b[49m\u001b[43mfilepath_or_buffer\u001b[49m\u001b[43m,\u001b[49m\u001b[43m \u001b[49m\u001b[38;5;241;43m*\u001b[39;49m\u001b[38;5;241;43m*\u001b[39;49m\u001b[43mkwds\u001b[49m\u001b[43m)\u001b[49m\n\u001b[1;32m    577\u001b[0m \u001b[38;5;28;01mif\u001b[39;00m chunksize \u001b[38;5;129;01mor\u001b[39;00m iterator:\n\u001b[1;32m    578\u001b[0m     \u001b[38;5;28;01mreturn\u001b[39;00m parser\n",
      "File \u001b[0;32m~/opt/anaconda3/envs/ppomp/lib/python3.10/site-packages/pandas/io/parsers/readers.py:934\u001b[0m, in \u001b[0;36mTextFileReader.__init__\u001b[0;34m(self, f, engine, **kwds)\u001b[0m\n\u001b[1;32m    931\u001b[0m     \u001b[38;5;28mself\u001b[39m\u001b[38;5;241m.\u001b[39moptions[\u001b[38;5;124m\"\u001b[39m\u001b[38;5;124mhas_index_names\u001b[39m\u001b[38;5;124m\"\u001b[39m] \u001b[38;5;241m=\u001b[39m kwds[\u001b[38;5;124m\"\u001b[39m\u001b[38;5;124mhas_index_names\u001b[39m\u001b[38;5;124m\"\u001b[39m]\n\u001b[1;32m    933\u001b[0m \u001b[38;5;28mself\u001b[39m\u001b[38;5;241m.\u001b[39mhandles: IOHandles \u001b[38;5;241m|\u001b[39m \u001b[38;5;28;01mNone\u001b[39;00m \u001b[38;5;241m=\u001b[39m \u001b[38;5;28;01mNone\u001b[39;00m\n\u001b[0;32m--> 934\u001b[0m \u001b[38;5;28mself\u001b[39m\u001b[38;5;241m.\u001b[39m_engine \u001b[38;5;241m=\u001b[39m \u001b[38;5;28;43mself\u001b[39;49m\u001b[38;5;241;43m.\u001b[39;49m\u001b[43m_make_engine\u001b[49m\u001b[43m(\u001b[49m\u001b[43mf\u001b[49m\u001b[43m,\u001b[49m\u001b[43m \u001b[49m\u001b[38;5;28;43mself\u001b[39;49m\u001b[38;5;241;43m.\u001b[39;49m\u001b[43mengine\u001b[49m\u001b[43m)\u001b[49m\n",
      "File \u001b[0;32m~/opt/anaconda3/envs/ppomp/lib/python3.10/site-packages/pandas/io/parsers/readers.py:1218\u001b[0m, in \u001b[0;36mTextFileReader._make_engine\u001b[0;34m(self, f, engine)\u001b[0m\n\u001b[1;32m   1214\u001b[0m     mode \u001b[38;5;241m=\u001b[39m \u001b[38;5;124m\"\u001b[39m\u001b[38;5;124mrb\u001b[39m\u001b[38;5;124m\"\u001b[39m\n\u001b[1;32m   1215\u001b[0m \u001b[38;5;66;03m# error: No overload variant of \"get_handle\" matches argument types\u001b[39;00m\n\u001b[1;32m   1216\u001b[0m \u001b[38;5;66;03m# \"Union[str, PathLike[str], ReadCsvBuffer[bytes], ReadCsvBuffer[str]]\"\u001b[39;00m\n\u001b[1;32m   1217\u001b[0m \u001b[38;5;66;03m# , \"str\", \"bool\", \"Any\", \"Any\", \"Any\", \"Any\", \"Any\"\u001b[39;00m\n\u001b[0;32m-> 1218\u001b[0m \u001b[38;5;28mself\u001b[39m\u001b[38;5;241m.\u001b[39mhandles \u001b[38;5;241m=\u001b[39m \u001b[43mget_handle\u001b[49m\u001b[43m(\u001b[49m\u001b[43m  \u001b[49m\u001b[38;5;66;43;03m# type: ignore[call-overload]\u001b[39;49;00m\n\u001b[1;32m   1219\u001b[0m \u001b[43m    \u001b[49m\u001b[43mf\u001b[49m\u001b[43m,\u001b[49m\n\u001b[1;32m   1220\u001b[0m \u001b[43m    \u001b[49m\u001b[43mmode\u001b[49m\u001b[43m,\u001b[49m\n\u001b[1;32m   1221\u001b[0m \u001b[43m    \u001b[49m\u001b[43mencoding\u001b[49m\u001b[38;5;241;43m=\u001b[39;49m\u001b[38;5;28;43mself\u001b[39;49m\u001b[38;5;241;43m.\u001b[39;49m\u001b[43moptions\u001b[49m\u001b[38;5;241;43m.\u001b[39;49m\u001b[43mget\u001b[49m\u001b[43m(\u001b[49m\u001b[38;5;124;43m\"\u001b[39;49m\u001b[38;5;124;43mencoding\u001b[39;49m\u001b[38;5;124;43m\"\u001b[39;49m\u001b[43m,\u001b[49m\u001b[43m \u001b[49m\u001b[38;5;28;43;01mNone\u001b[39;49;00m\u001b[43m)\u001b[49m\u001b[43m,\u001b[49m\n\u001b[1;32m   1222\u001b[0m \u001b[43m    \u001b[49m\u001b[43mcompression\u001b[49m\u001b[38;5;241;43m=\u001b[39;49m\u001b[38;5;28;43mself\u001b[39;49m\u001b[38;5;241;43m.\u001b[39;49m\u001b[43moptions\u001b[49m\u001b[38;5;241;43m.\u001b[39;49m\u001b[43mget\u001b[49m\u001b[43m(\u001b[49m\u001b[38;5;124;43m\"\u001b[39;49m\u001b[38;5;124;43mcompression\u001b[39;49m\u001b[38;5;124;43m\"\u001b[39;49m\u001b[43m,\u001b[49m\u001b[43m \u001b[49m\u001b[38;5;28;43;01mNone\u001b[39;49;00m\u001b[43m)\u001b[49m\u001b[43m,\u001b[49m\n\u001b[1;32m   1223\u001b[0m \u001b[43m    \u001b[49m\u001b[43mmemory_map\u001b[49m\u001b[38;5;241;43m=\u001b[39;49m\u001b[38;5;28;43mself\u001b[39;49m\u001b[38;5;241;43m.\u001b[39;49m\u001b[43moptions\u001b[49m\u001b[38;5;241;43m.\u001b[39;49m\u001b[43mget\u001b[49m\u001b[43m(\u001b[49m\u001b[38;5;124;43m\"\u001b[39;49m\u001b[38;5;124;43mmemory_map\u001b[39;49m\u001b[38;5;124;43m\"\u001b[39;49m\u001b[43m,\u001b[49m\u001b[43m \u001b[49m\u001b[38;5;28;43;01mFalse\u001b[39;49;00m\u001b[43m)\u001b[49m\u001b[43m,\u001b[49m\n\u001b[1;32m   1224\u001b[0m \u001b[43m    \u001b[49m\u001b[43mis_text\u001b[49m\u001b[38;5;241;43m=\u001b[39;49m\u001b[43mis_text\u001b[49m\u001b[43m,\u001b[49m\n\u001b[1;32m   1225\u001b[0m \u001b[43m    \u001b[49m\u001b[43merrors\u001b[49m\u001b[38;5;241;43m=\u001b[39;49m\u001b[38;5;28;43mself\u001b[39;49m\u001b[38;5;241;43m.\u001b[39;49m\u001b[43moptions\u001b[49m\u001b[38;5;241;43m.\u001b[39;49m\u001b[43mget\u001b[49m\u001b[43m(\u001b[49m\u001b[38;5;124;43m\"\u001b[39;49m\u001b[38;5;124;43mencoding_errors\u001b[39;49m\u001b[38;5;124;43m\"\u001b[39;49m\u001b[43m,\u001b[49m\u001b[43m \u001b[49m\u001b[38;5;124;43m\"\u001b[39;49m\u001b[38;5;124;43mstrict\u001b[39;49m\u001b[38;5;124;43m\"\u001b[39;49m\u001b[43m)\u001b[49m\u001b[43m,\u001b[49m\n\u001b[1;32m   1226\u001b[0m \u001b[43m    \u001b[49m\u001b[43mstorage_options\u001b[49m\u001b[38;5;241;43m=\u001b[39;49m\u001b[38;5;28;43mself\u001b[39;49m\u001b[38;5;241;43m.\u001b[39;49m\u001b[43moptions\u001b[49m\u001b[38;5;241;43m.\u001b[39;49m\u001b[43mget\u001b[49m\u001b[43m(\u001b[49m\u001b[38;5;124;43m\"\u001b[39;49m\u001b[38;5;124;43mstorage_options\u001b[39;49m\u001b[38;5;124;43m\"\u001b[39;49m\u001b[43m,\u001b[49m\u001b[43m \u001b[49m\u001b[38;5;28;43;01mNone\u001b[39;49;00m\u001b[43m)\u001b[49m\u001b[43m,\u001b[49m\n\u001b[1;32m   1227\u001b[0m \u001b[43m\u001b[49m\u001b[43m)\u001b[49m\n\u001b[1;32m   1228\u001b[0m \u001b[38;5;28;01massert\u001b[39;00m \u001b[38;5;28mself\u001b[39m\u001b[38;5;241m.\u001b[39mhandles \u001b[38;5;129;01mis\u001b[39;00m \u001b[38;5;129;01mnot\u001b[39;00m \u001b[38;5;28;01mNone\u001b[39;00m\n\u001b[1;32m   1229\u001b[0m f \u001b[38;5;241m=\u001b[39m \u001b[38;5;28mself\u001b[39m\u001b[38;5;241m.\u001b[39mhandles\u001b[38;5;241m.\u001b[39mhandle\n",
      "File \u001b[0;32m~/opt/anaconda3/envs/ppomp/lib/python3.10/site-packages/pandas/io/common.py:786\u001b[0m, in \u001b[0;36mget_handle\u001b[0;34m(path_or_buf, mode, encoding, compression, memory_map, is_text, errors, storage_options)\u001b[0m\n\u001b[1;32m    781\u001b[0m \u001b[38;5;28;01melif\u001b[39;00m \u001b[38;5;28misinstance\u001b[39m(handle, \u001b[38;5;28mstr\u001b[39m):\n\u001b[1;32m    782\u001b[0m     \u001b[38;5;66;03m# Check whether the filename is to be opened in binary mode.\u001b[39;00m\n\u001b[1;32m    783\u001b[0m     \u001b[38;5;66;03m# Binary mode does not support 'encoding' and 'newline'.\u001b[39;00m\n\u001b[1;32m    784\u001b[0m     \u001b[38;5;28;01mif\u001b[39;00m ioargs\u001b[38;5;241m.\u001b[39mencoding \u001b[38;5;129;01mand\u001b[39;00m \u001b[38;5;124m\"\u001b[39m\u001b[38;5;124mb\u001b[39m\u001b[38;5;124m\"\u001b[39m \u001b[38;5;129;01mnot\u001b[39;00m \u001b[38;5;129;01min\u001b[39;00m ioargs\u001b[38;5;241m.\u001b[39mmode:\n\u001b[1;32m    785\u001b[0m         \u001b[38;5;66;03m# Encoding\u001b[39;00m\n\u001b[0;32m--> 786\u001b[0m         handle \u001b[38;5;241m=\u001b[39m \u001b[38;5;28;43mopen\u001b[39;49m\u001b[43m(\u001b[49m\n\u001b[1;32m    787\u001b[0m \u001b[43m            \u001b[49m\u001b[43mhandle\u001b[49m\u001b[43m,\u001b[49m\n\u001b[1;32m    788\u001b[0m \u001b[43m            \u001b[49m\u001b[43mioargs\u001b[49m\u001b[38;5;241;43m.\u001b[39;49m\u001b[43mmode\u001b[49m\u001b[43m,\u001b[49m\n\u001b[1;32m    789\u001b[0m \u001b[43m            \u001b[49m\u001b[43mencoding\u001b[49m\u001b[38;5;241;43m=\u001b[39;49m\u001b[43mioargs\u001b[49m\u001b[38;5;241;43m.\u001b[39;49m\u001b[43mencoding\u001b[49m\u001b[43m,\u001b[49m\n\u001b[1;32m    790\u001b[0m \u001b[43m            \u001b[49m\u001b[43merrors\u001b[49m\u001b[38;5;241;43m=\u001b[39;49m\u001b[43merrors\u001b[49m\u001b[43m,\u001b[49m\n\u001b[1;32m    791\u001b[0m \u001b[43m            \u001b[49m\u001b[43mnewline\u001b[49m\u001b[38;5;241;43m=\u001b[39;49m\u001b[38;5;124;43m\"\u001b[39;49m\u001b[38;5;124;43m\"\u001b[39;49m\u001b[43m,\u001b[49m\n\u001b[1;32m    792\u001b[0m \u001b[43m        \u001b[49m\u001b[43m)\u001b[49m\n\u001b[1;32m    793\u001b[0m     \u001b[38;5;28;01melse\u001b[39;00m:\n\u001b[1;32m    794\u001b[0m         \u001b[38;5;66;03m# Binary mode\u001b[39;00m\n\u001b[1;32m    795\u001b[0m         handle \u001b[38;5;241m=\u001b[39m \u001b[38;5;28mopen\u001b[39m(handle, ioargs\u001b[38;5;241m.\u001b[39mmode)\n",
      "\u001b[0;31mFileNotFoundError\u001b[0m: [Errno 2] No such file or directory: '../../input/kc_house_data.csv'"
     ]
    }
   ],
   "source": [
    "#importing dataset using panda\n",
    "dataset = pd.read_csv('../../input/kc_house_data.csv')\n",
    "\n",
    "#dropping the id and date column\n",
    "dataset = dataset.drop(['id','date'], axis = 1)\n",
    "\n",
    "# clean out NaN and inf values\n",
    "dataset = dataset[~dataset.isin([np.nan, np.inf, -np.inf]).any(1)]\n",
    "\n",
    "Y = np.array(dataset.price)\n",
    "\n",
    "Xcols= np.array(dataset.drop(['price'], axis=1))\n",
    "print(Xcols.shape)\n",
    "X1 = np.ones((Xcols.shape[0],1))\n",
    "#print(X1.shape)\n",
    "X = np.append(X1,Xcols,axis=1)\n",
    "#print(X.shape)\n",
    "#print(X)\n",
    "\n",
    "XtX = (X.transpose().dot(X))\n",
    "XtXi = np.linalg.inv(XtX)\n",
    "\n",
    "#print(XtXi.shape)\n",
    "\n",
    "XtY = X.transpose().dot(Y)\n",
    "\n",
    "#print(XtY.shape)\n",
    "\n",
    "beta = XtXi.dot(XtY)\n",
    "beta"
   ]
  },
  {
   "cell_type": "markdown",
   "id": "377a649d-f910-49af-b79e-543fa7b3c938",
   "metadata": {},
   "source": [
    "Compare our beta with the model"
   ]
  },
  {
   "cell_type": "code",
   "execution_count": null,
   "id": "cec4e7ab-a37b-43fb-81af-0f347bee1532",
   "metadata": {},
   "outputs": [],
   "source": []
  },
  {
   "cell_type": "code",
   "execution_count": null,
   "id": "8a7d7eb6-79dd-41a0-8967-66dbe6f980b9",
   "metadata": {},
   "outputs": [],
   "source": [
    "model = LinearRegression(fit_intercept=False)\n",
    "model.fit(X,Y)\n",
    "model.coef_"
   ]
  },
  {
   "cell_type": "markdown",
   "id": "caccd558-887d-455d-a39a-ee7ab7a17fd8",
   "metadata": {},
   "source": [
    "OK get it right for 1 column on the big data."
   ]
  },
  {
   "cell_type": "code",
   "execution_count": null,
   "id": "2a1c6ff7-be35-4326-8968-70a6cd67f671",
   "metadata": {},
   "outputs": [],
   "source": [
    "Xcols= np.array(dataset.drop(['price'], axis=1))\n",
    "Xcols=Xcols[:,3].reshape([-1,1])\n",
    "X1 = np.ones((Xcols.shape[0],1))\n",
    "#print(X1.shape)\n",
    "#print(Xcols.shape)\n",
    "X = np.append(X1,Xcols,axis=1)\n",
    "\n",
    "model = LinearRegression(fit_intercept=False)\n",
    "model.fit(X,Y)\n",
    "print(model.coef_)\n",
    "\n",
    "XtX = (X.transpose().dot(X))\n",
    "XtXi = np.linalg.inv(XtX)\n",
    "#print(XtXi)\n",
    "XtY = X.transpose().dot(Y)\n",
    "beta = XtXi.dot(XtY)\n",
    "print(beta)"
   ]
  },
  {
   "cell_type": "markdown",
   "id": "4b4dfb70-7eac-4029-b58f-4d250de4740e",
   "metadata": {},
   "source": [
    "Let's try for two."
   ]
  },
  {
   "cell_type": "code",
   "execution_count": null,
   "id": "5da2d685-2936-4081-943c-d8bde5eb2977",
   "metadata": {},
   "outputs": [],
   "source": [
    "Xcols= np.array(dataset.drop(['price'], axis=1))\n",
    "Xcols=Xcols[:,3:5]\n",
    "X1 = np.ones((Xcols.shape[0],1))\n",
    "#print(X1.shape)\n",
    "#print(Xcols.shape)\n",
    "X = np.append(X1,Xcols,axis=1)\n",
    "\n",
    "model = LinearRegression(fit_intercept=False)\n",
    "model.fit(X,Y)\n",
    "print(model.coef_)\n",
    "\n",
    "XtX = (X.transpose().dot(X))\n",
    "#print(XtX)\n",
    "XtXi = np.linalg.inv(XtX)\n",
    "#print(XtXi)\n",
    "XtY = X.transpose().dot(Y)\n",
    "beta = XtXi.dot(XtY)\n",
    "print(beta)"
   ]
  },
  {
   "cell_type": "markdown",
   "id": "5027fdbc-541f-4f54-bbc8-4911a4a75147",
   "metadata": {},
   "source": [
    "ok, now let's subset from the full matrix and invert to solve"
   ]
  },
  {
   "cell_type": "code",
   "execution_count": null,
   "id": "51d72e5b-a961-4e3b-8845-3e6e8e6a6515",
   "metadata": {},
   "outputs": [],
   "source": [
    "#take the full matrix and compute XtX\n",
    "Xall = np.array(dataset.drop(['price'], axis=1))\n",
    "X1 = np.ones((Xcols.shape[0],1))\n",
    "X = np.append(X1,Xall[:,:],axis=1)\n",
    "\n",
    "#compute XtX on whole matrix\n",
    "XtX = (X.transpose().dot(X))\n",
    "\n",
    "#subset the relevant parameters\n",
    "XtXsub = XtX[np.ix_([0,4,5],[0,4,5])]\n",
    "\n",
    "#verify the same matrix subset\n",
    "#print(XtXsub)\n",
    "\n",
    "#compute based on subset\n",
    "XtXi = np.linalg.inv(XtXsub)\n",
    "XtY = X[:,[0,4,5]].transpose().dot(Y)\n",
    "beta = XtXi.dot(XtY)\n",
    "print(beta)"
   ]
  },
  {
   "cell_type": "markdown",
   "id": "3a08a589-f74e-417f-b666-d98d11c0f2d8",
   "metadata": {},
   "source": [
    "We have verified the correctness of the subset. Let's run the experiment using shared, pre-computed XtX.  First do it in a for loop."
   ]
  },
  {
   "cell_type": "code",
   "execution_count": null,
   "id": "749182ac-dde9-46bd-8269-1dc939a532ef",
   "metadata": {},
   "outputs": [],
   "source": [
    "from itertools import combinations, chain\n",
    "\n",
    "#take the full matrix and compute XtX\n",
    "Xall = np.array(dataset.drop(['price'], axis=1))\n",
    "X1 = np.ones((Xcols.shape[0],1))\n",
    "X = np.append(X1,Xall[:,:],axis=1)\n",
    "\n",
    "#compute XtX on whole matrix\n",
    "XtX = (X.transpose().dot(X))\n",
    "\n",
    "## Let's choose all combinations of 1, 2, and 3 columns.\n",
    "col_idxs = np.array(range(Xall.shape[1]))\n",
    "combos = list(chain(combinations(col_idxs, 1), combinations(col_idxs, 2), combinations(col_idxs, 3)))\n",
    "\n",
    "# indexing is off by one 3,4 -> 4,5 because we added X1\n",
    "for combo in combos:\n",
    "    thiscombo = [0] + [x+1 for x in combo]\n",
    "    #print(thiscombo)\n",
    "    XtXsub = XtX[np.ix_(thiscombo,thiscombo)]\n",
    "    #print(XtXsub)\n",
    "    XtXi = np.linalg.inv(XtXsub)\n",
    "    XtY = X[:,thiscombo].transpose().dot(Y)\n",
    "    beta = XtXi.dot(XtY)\n",
    "    #print(beta)"
   ]
  },
  {
   "cell_type": "code",
   "execution_count": null,
   "id": "d2e4e970-d097-4191-ab35-50740ff1f464",
   "metadata": {},
   "outputs": [],
   "source": [
    "def work_shared_regression (combo):\n",
    "    thiscombo = [0] + [x+1 for x in combo]\n",
    "    XtXsub = XtX[np.ix_(thiscombo,thiscombo)]\n",
    "    XtXi = np.linalg.inv(XtXsub)\n",
    "    XtY = X[:,thiscombo].transpose().dot(Y)\n",
    "    beta = XtXi.dot(XtY)\n",
    "    return beta"
   ]
  },
  {
   "cell_type": "code",
   "execution_count": null,
   "id": "b6119384-698c-4553-800b-07c676e4f84b",
   "metadata": {},
   "outputs": [],
   "source": [
    "%%timeit\n",
    "from joblib import Parallel, delayed\n",
    "\n",
    "# you must pay for the global setup\n",
    "\n",
    "#compute XtX on whole matrix\n",
    "XtX = (X.transpose().dot(X))\n",
    "\n",
    "#then parallelize with work sharing\n",
    "betas = Parallel(n_jobs=4)(delayed(work_shared_regression)(combo) for combo in combos)\n",
    "#print(betas)"
   ]
  },
  {
   "cell_type": "code",
   "execution_count": null,
   "id": "a587499f-8e29-4d7a-9609-22f49c1741c8",
   "metadata": {},
   "outputs": [],
   "source": []
  }
 ],
 "metadata": {
  "kernelspec": {
   "display_name": "Python 3 (ipykernel)",
   "language": "python",
   "name": "python3"
  },
  "language_info": {
   "codemirror_mode": {
    "name": "ipython",
    "version": 3
   },
   "file_extension": ".py",
   "mimetype": "text/x-python",
   "name": "python",
   "nbconvert_exporter": "python",
   "pygments_lexer": "ipython3",
   "version": "3.10.4"
  }
 },
 "nbformat": 4,
 "nbformat_minor": 5
}
