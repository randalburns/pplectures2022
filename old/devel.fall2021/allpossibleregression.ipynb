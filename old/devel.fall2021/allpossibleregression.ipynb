{
 "cells": [
  {
   "cell_type": "markdown",
   "id": "1a67f85d-6cac-47aa-ab01-3bb1654d7099",
   "metadata": {},
   "source": [
    "###  All Possible Regression\n",
    "\n",
    "Python reimplementation of the Section 3.4. in PCDS.\n",
    "Python data and some code from https://www.kaggle.com/divan0/multiple-linear-regression."
   ]
  },
  {
   "cell_type": "code",
   "execution_count": 1,
   "id": "a9525a93-0b4e-4a25-bf87-d4335132cffc",
   "metadata": {},
   "outputs": [
    {
     "data": {
      "text/html": [
       "<div>\n",
       "<style scoped>\n",
       "    .dataframe tbody tr th:only-of-type {\n",
       "        vertical-align: middle;\n",
       "    }\n",
       "\n",
       "    .dataframe tbody tr th {\n",
       "        vertical-align: top;\n",
       "    }\n",
       "\n",
       "    .dataframe thead th {\n",
       "        text-align: right;\n",
       "    }\n",
       "</style>\n",
       "<table border=\"1\" class=\"dataframe\">\n",
       "  <thead>\n",
       "    <tr style=\"text-align: right;\">\n",
       "      <th></th>\n",
       "      <th>id</th>\n",
       "      <th>date</th>\n",
       "      <th>price</th>\n",
       "      <th>bedrooms</th>\n",
       "      <th>bathrooms</th>\n",
       "      <th>sqft_living</th>\n",
       "      <th>sqft_lot</th>\n",
       "      <th>floors</th>\n",
       "      <th>waterfront</th>\n",
       "      <th>view</th>\n",
       "      <th>...</th>\n",
       "      <th>grade</th>\n",
       "      <th>sqft_above</th>\n",
       "      <th>sqft_basement</th>\n",
       "      <th>yr_built</th>\n",
       "      <th>yr_renovated</th>\n",
       "      <th>zipcode</th>\n",
       "      <th>lat</th>\n",
       "      <th>long</th>\n",
       "      <th>sqft_living15</th>\n",
       "      <th>sqft_lot15</th>\n",
       "    </tr>\n",
       "  </thead>\n",
       "  <tbody>\n",
       "    <tr>\n",
       "      <th>0</th>\n",
       "      <td>7129300520</td>\n",
       "      <td>20141013T000000</td>\n",
       "      <td>221900.0</td>\n",
       "      <td>3</td>\n",
       "      <td>1.00</td>\n",
       "      <td>1180</td>\n",
       "      <td>5650</td>\n",
       "      <td>1.0</td>\n",
       "      <td>0</td>\n",
       "      <td>0</td>\n",
       "      <td>...</td>\n",
       "      <td>7</td>\n",
       "      <td>1180.0</td>\n",
       "      <td>0</td>\n",
       "      <td>1955</td>\n",
       "      <td>0</td>\n",
       "      <td>98178</td>\n",
       "      <td>47.5112</td>\n",
       "      <td>-122.257</td>\n",
       "      <td>1340</td>\n",
       "      <td>5650</td>\n",
       "    </tr>\n",
       "    <tr>\n",
       "      <th>1</th>\n",
       "      <td>6414100192</td>\n",
       "      <td>20141209T000000</td>\n",
       "      <td>538000.0</td>\n",
       "      <td>3</td>\n",
       "      <td>2.25</td>\n",
       "      <td>2570</td>\n",
       "      <td>7242</td>\n",
       "      <td>2.0</td>\n",
       "      <td>0</td>\n",
       "      <td>0</td>\n",
       "      <td>...</td>\n",
       "      <td>7</td>\n",
       "      <td>2170.0</td>\n",
       "      <td>400</td>\n",
       "      <td>1951</td>\n",
       "      <td>1991</td>\n",
       "      <td>98125</td>\n",
       "      <td>47.7210</td>\n",
       "      <td>-122.319</td>\n",
       "      <td>1690</td>\n",
       "      <td>7639</td>\n",
       "    </tr>\n",
       "    <tr>\n",
       "      <th>2</th>\n",
       "      <td>5631500400</td>\n",
       "      <td>20150225T000000</td>\n",
       "      <td>180000.0</td>\n",
       "      <td>2</td>\n",
       "      <td>1.00</td>\n",
       "      <td>770</td>\n",
       "      <td>10000</td>\n",
       "      <td>1.0</td>\n",
       "      <td>0</td>\n",
       "      <td>0</td>\n",
       "      <td>...</td>\n",
       "      <td>6</td>\n",
       "      <td>770.0</td>\n",
       "      <td>0</td>\n",
       "      <td>1933</td>\n",
       "      <td>0</td>\n",
       "      <td>98028</td>\n",
       "      <td>47.7379</td>\n",
       "      <td>-122.233</td>\n",
       "      <td>2720</td>\n",
       "      <td>8062</td>\n",
       "    </tr>\n",
       "    <tr>\n",
       "      <th>3</th>\n",
       "      <td>2487200875</td>\n",
       "      <td>20141209T000000</td>\n",
       "      <td>604000.0</td>\n",
       "      <td>4</td>\n",
       "      <td>3.00</td>\n",
       "      <td>1960</td>\n",
       "      <td>5000</td>\n",
       "      <td>1.0</td>\n",
       "      <td>0</td>\n",
       "      <td>0</td>\n",
       "      <td>...</td>\n",
       "      <td>7</td>\n",
       "      <td>1050.0</td>\n",
       "      <td>910</td>\n",
       "      <td>1965</td>\n",
       "      <td>0</td>\n",
       "      <td>98136</td>\n",
       "      <td>47.5208</td>\n",
       "      <td>-122.393</td>\n",
       "      <td>1360</td>\n",
       "      <td>5000</td>\n",
       "    </tr>\n",
       "    <tr>\n",
       "      <th>4</th>\n",
       "      <td>1954400510</td>\n",
       "      <td>20150218T000000</td>\n",
       "      <td>510000.0</td>\n",
       "      <td>3</td>\n",
       "      <td>2.00</td>\n",
       "      <td>1680</td>\n",
       "      <td>8080</td>\n",
       "      <td>1.0</td>\n",
       "      <td>0</td>\n",
       "      <td>0</td>\n",
       "      <td>...</td>\n",
       "      <td>8</td>\n",
       "      <td>1680.0</td>\n",
       "      <td>0</td>\n",
       "      <td>1987</td>\n",
       "      <td>0</td>\n",
       "      <td>98074</td>\n",
       "      <td>47.6168</td>\n",
       "      <td>-122.045</td>\n",
       "      <td>1800</td>\n",
       "      <td>7503</td>\n",
       "    </tr>\n",
       "  </tbody>\n",
       "</table>\n",
       "<p>5 rows × 21 columns</p>\n",
       "</div>"
      ],
      "text/plain": [
       "           id             date     price  bedrooms  bathrooms  sqft_living  \\\n",
       "0  7129300520  20141013T000000  221900.0         3       1.00         1180   \n",
       "1  6414100192  20141209T000000  538000.0         3       2.25         2570   \n",
       "2  5631500400  20150225T000000  180000.0         2       1.00          770   \n",
       "3  2487200875  20141209T000000  604000.0         4       3.00         1960   \n",
       "4  1954400510  20150218T000000  510000.0         3       2.00         1680   \n",
       "\n",
       "   sqft_lot  floors  waterfront  view  ...  grade  sqft_above  sqft_basement  \\\n",
       "0      5650     1.0           0     0  ...      7      1180.0              0   \n",
       "1      7242     2.0           0     0  ...      7      2170.0            400   \n",
       "2     10000     1.0           0     0  ...      6       770.0              0   \n",
       "3      5000     1.0           0     0  ...      7      1050.0            910   \n",
       "4      8080     1.0           0     0  ...      8      1680.0              0   \n",
       "\n",
       "   yr_built  yr_renovated  zipcode      lat     long  sqft_living15  \\\n",
       "0      1955             0    98178  47.5112 -122.257           1340   \n",
       "1      1951          1991    98125  47.7210 -122.319           1690   \n",
       "2      1933             0    98028  47.7379 -122.233           2720   \n",
       "3      1965             0    98136  47.5208 -122.393           1360   \n",
       "4      1987             0    98074  47.6168 -122.045           1800   \n",
       "\n",
       "   sqft_lot15  \n",
       "0        5650  \n",
       "1        7639  \n",
       "2        8062  \n",
       "3        5000  \n",
       "4        7503  \n",
       "\n",
       "[5 rows x 21 columns]"
      ]
     },
     "execution_count": 1,
     "metadata": {},
     "output_type": "execute_result"
    }
   ],
   "source": [
    "import numpy as np\n",
    "import matplotlib.pyplot as plt\n",
    "import pandas as pd\n",
    "\n",
    "%matplotlib inline\n",
    "\n",
    "#importing dataset using panda\n",
    "dataset = pd.read_csv('../../input/kc_house_data.csv')\n",
    "#to see what my dataset is comprised of\n",
    "dataset.head()"
   ]
  },
  {
   "cell_type": "code",
   "execution_count": 2,
   "id": "06ad55ee-ba79-4673-b693-ebca04f1bb77",
   "metadata": {},
   "outputs": [],
   "source": [
    "#dropping the id and date column\n",
    "dataset = dataset.drop(['id','date'], axis = 1)\n",
    "\n",
    "# clean out NaN and inf values\n",
    "dataset = dataset[~dataset.isin([np.nan, np.inf, -np.inf]).any(1)]"
   ]
  },
  {
   "cell_type": "markdown",
   "id": "f724288c-e17e-46a4-939b-c5ec0fc34a3b",
   "metadata": {},
   "source": [
    "Simplest regression. How does square footage predict price by regression.  "
   ]
  },
  {
   "cell_type": "code",
   "execution_count": 3,
   "id": "cbd8b494-d600-4bc9-9af7-15bef7796fb5",
   "metadata": {},
   "outputs": [
    {
     "name": "stdout",
     "output_type": "stream",
     "text": [
      "coefficient of determination: 0.4928817196006995\n"
     ]
    }
   ],
   "source": [
    "from sklearn.linear_model import LinearRegression\n",
    "\n",
    "X = np.array(dataset.sqft_living)\n",
    "Y = np.array(dataset.price)\n",
    "\n",
    "# shape X into matrix of a single column\n",
    "X = X.reshape((X.shape[0],1))\n",
    "\n",
    "model = LinearRegression()\n",
    "model.fit(X,Y)\n",
    "r_sq = model.score(X,Y)\n",
    "print('coefficient of determination:', r_sq)"
   ]
  },
  {
   "cell_type": "code",
   "execution_count": 4,
   "id": "97519567-fe0a-439e-a7e7-d97e4d56dea7",
   "metadata": {},
   "outputs": [
    {
     "data": {
      "image/png": "[encoded data removed]",
      "text/plain": [
       "<Figure size 432x288 with 1 Axes>"
      ]
     },
     "metadata": {},
     "output_type": "display_data"
    }
   ],
   "source": [
    "%matplotlib inline\n",
    "import matplotlib.pyplot as plt\n",
    "\n",
    "# scatter data\n",
    "plt.plot(X,Y,'o')\n",
    "# best fit line\n",
    "y_pred = model.intercept_ + model.coef_ * X\n",
    "plt.plot(X, y_pred, color='red', linewidth=3)\n",
    "\n",
    "plt.xticks(())\n",
    "plt.yticks(())\n",
    "\n",
    "plt.show()"
   ]
  },
  {
   "cell_type": "markdown",
   "id": "0e2d9af2-3882-4c1d-9f58-038567ffd5ac",
   "metadata": {},
   "source": [
    "### Multiple Linear Regression\n",
    "\n",
    "Adding more variables often improves the score.  The best possible regression score is 1.0."
   ]
  },
  {
   "cell_type": "code",
   "execution_count": 5,
   "id": "fccb721f-db9f-4c58-ad3b-d7ed629791a2",
   "metadata": {},
   "outputs": [
    {
     "name": "stdout",
     "output_type": "stream",
     "text": [
      "coefficient of determination: 0.5249639858277426\n"
     ]
    }
   ],
   "source": [
    "X = np.array(dataset[['sqft_living','condition','yr_built']])\n",
    "Y = np.array(dataset.price)\n",
    "\n",
    "# shape X into matrix of a single column\n",
    "X = X.reshape((X.shape[0],3))\n",
    "\n",
    "model = LinearRegression()\n",
    "model.fit(X,Y)\n",
    "r_sq = model.score(X,Y)\n",
    "print('coefficient of determination:', r_sq)"
   ]
  },
  {
   "cell_type": "markdown",
   "id": "e900ab88-873c-4290-9d99-723cef811c6d",
   "metadata": {},
   "source": [
    "but some variables are confounding"
   ]
  },
  {
   "cell_type": "code",
   "execution_count": 6,
   "id": "ff60bd53-6ebc-4f13-8c78-5e81992aebd4",
   "metadata": {},
   "outputs": [
    {
     "name": "stdout",
     "output_type": "stream",
     "text": [
      "coefficient of determination: 0.13588749977708692\n"
     ]
    }
   ],
   "source": [
    "X = np.array(dataset[['zipcode','floors','waterfront']])\n",
    "Y = np.array(dataset.price)\n",
    "\n",
    "# shape X into matrix of a single column\n",
    "X = X.reshape((X.shape[0],3))\n",
    "\n",
    "model = LinearRegression()\n",
    "model.fit(X,Y)\n",
    "r_sq = model.score(X,Y)\n",
    "print('coefficient of determination:', r_sq)"
   ]
  },
  {
   "cell_type": "markdown",
   "id": "1d948a45-a861-423a-b2ce-8fcf1bf976c3",
   "metadata": {},
   "source": [
    "This leads to a first parallel program.  What are the right set of variables. A brute force approach called _All Possible Regressions_. So, let's build a big matrix that and we will regress on subsets."
   ]
  },
  {
   "cell_type": "code",
   "execution_count": 7,
   "id": "615005bd-f622-43a0-a844-c32f11e2676d",
   "metadata": {},
   "outputs": [],
   "source": [
    "from itertools import combinations, chain\n",
    "\n",
    "Y = np.array(dataset.price)\n",
    "X = np.array(dataset.drop(['price'], axis=1))\n",
    "\n",
    "## Let's choose all combinations of 1, 2, and 3 columns.\n",
    "col_idxs = np.array(range(X.shape[1]))\n",
    "combos = list(chain(combinations(col_idxs, 1), combinations(col_idxs, 2), combinations(col_idxs, 3)))"
   ]
  },
  {
   "cell_type": "code",
   "execution_count": 8,
   "id": "bc919ff9-24aa-4a9b-a4ee-efc84f8b51d9",
   "metadata": {},
   "outputs": [
    {
     "name": "stdout",
     "output_type": "stream",
     "text": [
      "0.6095149101819037 (2, 6, 14)\n",
      "0.6095149101819037 (2, 6, 14)\n",
      "0.6095149101819037 (2, 6, 14)\n",
      "0.6095149101819037 (2, 6, 14)\n",
      "0.6095149101819037 (2, 6, 14)\n",
      "0.6095149101819037 (2, 6, 14)\n",
      "0.6095149101819037 (2, 6, 14)\n",
      "0.6095149101819037 (2, 6, 14)\n",
      "1.14 s ± 40.6 ms per loop (mean ± std. dev. of 7 runs, 1 loop each)\n"
     ]
    }
   ],
   "source": [
    "%%timeit\n",
    "\n",
    "model = LinearRegression()\n",
    "\n",
    "# do in a for loop (dumbest way)\n",
    "r_sq_best = 0.0\n",
    "for combo in combos:\n",
    "    Xp = X[:,combo]\n",
    "#    print(combo)\n",
    "#    print(Xp.shape, Xp[0:10,:])\n",
    "#    print(Xp.shape)\n",
    "    model = model.fit(Xp,Y)\n",
    "    r_sq = model.score(Xp,Y)\n",
    "    if r_sq > r_sq_best:\n",
    "        r_sq_best = r_sq\n",
    "        combo_best = combo\n",
    "    \n",
    "print(r_sq_best, combo_best)"
   ]
  },
  {
   "cell_type": "markdown",
   "id": "603e45b6-80e4-4c6c-9a2f-1e8a728b1e5b",
   "metadata": {},
   "source": [
    "The outcome is kind of crazy. The fields are `sqft-living`, `view`, and `latitude`. Latitude is probably a somewhat accurate proxy for wealth in this area, e.g. N of town richer than south of town. But, this is the kind of outcome that does not translate to other areas.\n",
    "\n",
    "Back to performance.\n",
    "\n",
    "Let's see if a loop comprehension helps much.  Remove control variable overhead."
   ]
  },
  {
   "cell_type": "code",
   "execution_count": 9,
   "id": "7993f4bd-6331-42f5-b909-31c6f1b659cf",
   "metadata": {},
   "outputs": [],
   "source": [
    "def r_sq_regression (combo):\n",
    "    Xp = X[:,combo]\n",
    "    model = LinearRegression()\n",
    "    model = model.fit(Xp,Y)\n",
    "    return model.score(Xp,Y)"
   ]
  },
  {
   "cell_type": "code",
   "execution_count": 10,
   "id": "96184a66-012a-4068-a462-677fcafb2ba7",
   "metadata": {},
   "outputs": [
    {
     "name": "stdout",
     "output_type": "stream",
     "text": [
      "[(2, 6, 14) 0.6095149101819037]\n",
      "[(2, 6, 14) 0.6095149101819037]\n",
      "[(2, 6, 14) 0.6095149101819037]\n",
      "[(2, 6, 14) 0.6095149101819037]\n",
      "[(2, 6, 14) 0.6095149101819037]\n",
      "[(2, 6, 14) 0.6095149101819037]\n",
      "[(2, 6, 14) 0.6095149101819037]\n",
      "[(2, 6, 14) 0.6095149101819037]\n",
      "1.21 s ± 50.9 ms per loop (mean ± std. dev. of 7 runs, 1 loop each)\n"
     ]
    }
   ],
   "source": [
    "%%timeit\n",
    "               \n",
    "r_sq_list = [ (combo, r_sq_regression(combo)) for combo in combos ]\n",
    "r_sq_arr = np.array(r_sq_list, dtype=object)\n",
    "\n",
    "r_sq_idx = np.argmax(r_sq_arr[:,1])\n",
    "print(r_sq_arr[r_sq_idx])"
   ]
  },
  {
   "cell_type": "markdown",
   "id": "e3298cb7-ab53-4a34-8442-883faa04a8ab",
   "metadata": {},
   "source": [
    "It didn't seem to help. Maybe worse because of function call overhead.\n",
    "\n",
    "__RB talk about parallelization strategies here.  How to decompose.  Why?__\n",
    "\n",
    "and we can try to parallelize internally. because sklearn has joblib for individual calls.  not very effective. no parallelism available\n",
    "\n",
    "Now parallelize this let's do this with joblib"
   ]
  },
  {
   "cell_type": "code",
   "execution_count": 11,
   "id": "d1194559-1102-4978-bc80-a4911dddf37f",
   "metadata": {},
   "outputs": [
    {
     "name": "stdout",
     "output_type": "stream",
     "text": [
      "0.6095149101819037 (2, 6, 14)\n",
      "0.6095149101819037 (2, 6, 14)\n",
      "0.6095149101819037 (2, 6, 14)\n",
      "0.6095149101819037 (2, 6, 14)\n",
      "0.6095149101819037 (2, 6, 14)\n",
      "0.6095149101819037 (2, 6, 14)\n",
      "0.6095149101819037 (2, 6, 14)\n",
      "0.6095149101819037 (2, 6, 14)\n",
      "928 ms ± 82.1 ms per loop (mean ± std. dev. of 7 runs, 1 loop each)\n"
     ]
    }
   ],
   "source": [
    "%%timeit\n",
    "from joblib import Parallel, delayed\n",
    "r_sq_arr = Parallel(n_jobs=4)(delayed(r_sq_regression)(combo) for combo in combos)\n",
    "\n",
    "r_sq_idx = np.argmax(r_sq_arr)\n",
    "print(r_sq_arr[r_sq_idx], combos[r_sq_idx])"
   ]
  },
  {
   "cell_type": "markdown",
   "id": "fa71b693-b579-4e16-9df1-ab9df091f274",
   "metadata": {},
   "source": [
    "Activities -- explore the parameters of joblib.\n",
    "  * number of cores\n",
    "  * thread versus process scheduler\n",
    "  * batch size  (very suprising that the batch size documentation says that 1 is reasonable)\n",
    "  * pre-dispatch -- this is dynamic scheduling\n",
    "  \n",
    "  \n",
    "Things in Chapter that we didn't talk about.  Choice of parallelization strategies."
   ]
  },
  {
   "cell_type": "markdown",
   "id": "271c0401-6d43-47f4-8235-17691b6d561c",
   "metadata": {},
   "source": [
    "At only 987 jobs, what batch size will provde the right amount of parallelism.\n",
    "Trades startup costs, versus skew.  What batch size was chosen by the default?  Why is that a reasonable choice?\n",
    "\n",
    "This should come in a section about startup versus skew/load balance"
   ]
  },
  {
   "cell_type": "code",
   "execution_count": 12,
   "id": "182a27a7-8529-4cf2-89c2-9b3155be1d98",
   "metadata": {},
   "outputs": [
    {
     "name": "stdout",
     "output_type": "stream",
     "text": [
      "2.33 s ± 228 ms per loop (mean ± std. dev. of 7 runs, 1 loop each)\n",
      "1.53 s ± 48.1 ms per loop (mean ± std. dev. of 7 runs, 1 loop each)\n",
      "1.27 s ± 61.8 ms per loop (mean ± std. dev. of 7 runs, 1 loop each)\n",
      "1.09 s ± 53.2 ms per loop (mean ± std. dev. of 7 runs, 1 loop each)\n",
      "1.08 s ± 82.3 ms per loop (mean ± std. dev. of 7 runs, 1 loop each)\n",
      "1.06 s ± 92.7 ms per loop (mean ± std. dev. of 7 runs, 1 loop each)\n",
      "1.04 s ± 54.6 ms per loop (mean ± std. dev. of 7 runs, 1 loop each)\n",
      "1.07 s ± 100 ms per loop (mean ± std. dev. of 7 runs, 1 loop each)\n",
      "1.02 s ± 129 ms per loop (mean ± std. dev. of 7 runs, 1 loop each)\n",
      "902 ms ± 87.2 ms per loop (mean ± std. dev. of 7 runs, 1 loop each)\n"
     ]
    }
   ],
   "source": [
    "from joblib import Parallel, delayed\n",
    "\n",
    "# check out batch sizes\n",
    "%timeit Parallel(n_jobs=4, batch_size=1)(delayed(r_sq_regression)(combo) for combo in combos)\n",
    "%timeit Parallel(n_jobs=4, batch_size=2)(delayed(r_sq_regression)(combo) for combo in combos)\n",
    "%timeit Parallel(n_jobs=4, batch_size=4)(delayed(r_sq_regression)(combo) for combo in combos)\n",
    "%timeit Parallel(n_jobs=4, batch_size=8)(delayed(r_sq_regression)(combo) for combo in combos)\n",
    "%timeit Parallel(n_jobs=4, batch_size=16)(delayed(r_sq_regression)(combo) for combo in combos)\n",
    "%timeit Parallel(n_jobs=4, batch_size=32)(delayed(r_sq_regression)(combo) for combo in combos)\n",
    "%timeit Parallel(n_jobs=4, batch_size=64)(delayed(r_sq_regression)(combo) for combo in combos)\n",
    "%timeit Parallel(n_jobs=4, batch_size=128)(delayed(r_sq_regression)(combo) for combo in combos)\n",
    "%timeit Parallel(n_jobs=4, batch_size=256)(delayed(r_sq_regression)(combo) for combo in combos)\n",
    "%timeit Parallel(n_jobs=4, batch_size=512)(delayed(r_sq_regression)(combo) for combo in combos)"
   ]
  },
  {
   "cell_type": "markdown",
   "id": "b7c2bf52-374b-4bf9-a47a-4198bc9284ea",
   "metadata": {},
   "source": [
    "Explore process v. thread scheduler\n",
    "\n",
    "This result is very surprising. Threads should be better, but they aren't.  Some part of our code is not releasing the GIL.  Put in a section on the python GIL."
   ]
  },
  {
   "cell_type": "code",
   "execution_count": 13,
   "id": "192d3aed-d2c7-45c8-83bd-83462fdc24bb",
   "metadata": {},
   "outputs": [
    {
     "name": "stdout",
     "output_type": "stream",
     "text": [
      "3.96 s ± 1.28 s per loop (mean ± std. dev. of 7 runs, 1 loop each)\n",
      "973 ms ± 207 ms per loop (mean ± std. dev. of 7 runs, 1 loop each)\n"
     ]
    }
   ],
   "source": [
    "from joblib import Parallel, delayed\n",
    "\n",
    "# check out batch sizes\n",
    "%timeit Parallel(n_jobs=4, prefer='threads')(delayed(r_sq_regression)(combo) for combo in combos)\n",
    "%timeit Parallel(n_jobs=4, prefer='processes')(delayed(r_sq_regression)(combo) for combo in combos)"
   ]
  },
  {
   "cell_type": "markdown",
   "id": "9e1fa4e7-7227-4bf8-ad6e-98ad818d8964",
   "metadata": {},
   "source": [
    "Let's try making the call only to the scikit-learn and see if our function is the problem with the GIL.   This ends up very interesting.  It makes threading faster, because the GIL is less of a problem, but it's a problem to serialize/marshall the model objects across the processes.  So, no easy fix for this code.  **Careful** the processes call will crash your Jupyter. "
   ]
  },
  {
   "cell_type": "code",
   "execution_count": 14,
   "id": "a1af01d9-c9ea-485f-977d-f753f5205df8",
   "metadata": {},
   "outputs": [
    {
     "name": "stdout",
     "output_type": "stream",
     "text": [
      "3.16 s ± 1.65 s per loop (mean ± std. dev. of 7 runs, 1 loop each)\n"
     ]
    }
   ],
   "source": [
    "from joblib import Parallel, delayed\n",
    "\n",
    "%timeit Parallel(n_jobs=4, prefer='threads')(delayed(LinearRegression().fit)(X[:,combo],Y) for combo in combos)\n",
    "#%timeit Parallel(n_jobs=4, prefer='processes')(delayed(LinearRegression().fit)(X[:,combo],Y) for combo in combos)\n",
    "\n"
   ]
  },
  {
   "cell_type": "markdown",
   "id": "f485dd17-f2ed-4bbb-afc4-d8d9dc270a6b",
   "metadata": {},
   "source": [
    "Explore dispatch, dynamic schedule"
   ]
  },
  {
   "cell_type": "code",
   "execution_count": 15,
   "id": "5b40a4c1-5914-42e1-8396-605827e2eb3f",
   "metadata": {},
   "outputs": [
    {
     "name": "stdout",
     "output_type": "stream",
     "text": [
      "1.46 s ± 153 ms per loop (mean ± std. dev. of 7 runs, 1 loop each)\n",
      "1.85 s ± 302 ms per loop (mean ± std. dev. of 7 runs, 1 loop each)\n",
      "1.83 s ± 112 ms per loop (mean ± std. dev. of 7 runs, 1 loop each)\n"
     ]
    }
   ],
   "source": [
    "from joblib import Parallel, delayed\n",
    "\n",
    "%timeit Parallel(n_jobs=4, pre_dispatch=4)(delayed(LinearRegression().fit)(X[:,combo],Y) for combo in combos)\n",
    "%timeit Parallel(n_jobs=4, pre_dispatch=64)(delayed(LinearRegression().fit)(X[:,combo],Y) for combo in combos)\n",
    "%timeit Parallel(n_jobs=4, pre_dispatch='all')(delayed(LinearRegression().fit)(X[:,combo],Y) for combo in combos)\n",
    "#%timeit Parallel(n_jobs=4, prefer='processes')(delayed(LinearRegression().fit)(X[:,combo],Y) for combo in combo"
   ]
  },
  {
   "cell_type": "markdown",
   "id": "e299edc2-6ca5-4c3d-a6e6-9f4083b1f4df",
   "metadata": {},
   "source": [
    "**RBTODO** work on decomposition issues with dask.\n",
    "\n",
    "### Reusing Work with \n",
    "\n",
    "$$\\beta = (X'X)^{-1}X'Y$$\n",
    "\n",
    "this example is driven from https://online.stat.psu.edu/stat462/node/132/\n",
    "\n",
    "making sure that we have the linear algebra right.  The standard is to add a constant term to the predictor matrix, that is the column of ones."
   ]
  },
  {
   "cell_type": "code",
   "execution_count": 16,
   "id": "a2e05a8e-9ab2-4ab9-90e6-285de2db1fb4",
   "metadata": {},
   "outputs": [
    {
     "name": "stdout",
     "output_type": "stream",
     "text": [
      "[[ 4.46428571 -0.78571429]\n",
      " [-0.78571429  0.14285714]]\n",
      "[[-2.67857143]\n",
      " [ 9.5       ]]\n"
     ]
    }
   ],
   "source": [
    "import numpy as np\n",
    "\n",
    "X1 = np.ones([7,1])\n",
    "X2 = np.array([[4.0], [4.5], [5.0], [5.5], [6.0], [6.5], [7.0]])\n",
    "\n",
    "Y = np.array([[33], [42], [45], [51], [53], [61], [62]])\n",
    "\n",
    "X = np.append(X1,X2,axis=1)\n",
    "XtX = (X.transpose().dot(X))\n",
    "\n",
    "XtXi = np.linalg.inv(XtX)\n",
    "\n",
    "print(XtXi)\n",
    "\n",
    "XtY = X.transpose().dot(Y)\n",
    "\n",
    "#print(XtY)\n",
    "\n",
    "beta = XtXi.dot(XtY)\n",
    "\n",
    "print(beta)"
   ]
  },
  {
   "cell_type": "markdown",
   "id": "9408add0-29d3-45ad-a990-e5b4bdf293b3",
   "metadata": {},
   "source": [
    "Validate against python. OK interesing it's not exactly the same, but it becomes the same when we use `fit_intercept`"
   ]
  },
  {
   "cell_type": "code",
   "execution_count": 17,
   "id": "89855865-63ed-489c-94c3-182f70c3871f",
   "metadata": {},
   "outputs": [
    {
     "data": {
      "text/plain": [
       "array([[-2.67857143,  9.5       ]])"
      ]
     },
     "execution_count": 17,
     "metadata": {},
     "output_type": "execute_result"
    }
   ],
   "source": [
    "model = LinearRegression(fit_intercept=False)\n",
    "model.fit(X,Y)\n",
    "model.coef_"
   ]
  },
  {
   "cell_type": "markdown",
   "id": "1199439c-1801-4f85-9881-56daafa7dab3",
   "metadata": {},
   "source": [
    "now, onto the big matrix.  Still adding a column of ones."
   ]
  },
  {
   "cell_type": "code",
   "execution_count": 18,
   "id": "2e2240b2-8434-41ec-a259-add70e3560db",
   "metadata": {},
   "outputs": [
    {
     "name": "stdout",
     "output_type": "stream",
     "text": [
      "(21611, 18)\n"
     ]
    },
    {
     "data": {
      "text/plain": [
       "array([ 9.71206732e+06, -1.01054194e+06,  7.52030410e+05,  9.81500995e+03,\n",
       "       -5.25399159e-02,  4.31542974e+03, -1.37125608e+06,  2.60295135e+05,\n",
       "        2.78173602e+04,  4.10149673e+03, -9.52050699e+03, -9.65571661e+03,\n",
       "       -2.62069425e+03,  1.97942310e+01, -5.82812760e+02,  6.02776383e+05,\n",
       "       -2.14716799e+05,  2.16582683e+01, -3.82786541e-01])"
      ]
     },
     "execution_count": 18,
     "metadata": {},
     "output_type": "execute_result"
    }
   ],
   "source": [
    "#importing dataset using panda\n",
    "dataset = pd.read_csv('../../input/kc_house_data.csv')\n",
    "\n",
    "#dropping the id and date column\n",
    "dataset = dataset.drop(['id','date'], axis = 1)\n",
    "\n",
    "# clean out NaN and inf values\n",
    "dataset = dataset[~dataset.isin([np.nan, np.inf, -np.inf]).any(1)]\n",
    "\n",
    "Y = np.array(dataset.price)\n",
    "\n",
    "Xcols= np.array(dataset.drop(['price'], axis=1))\n",
    "print(Xcols.shape)\n",
    "X1 = np.ones((Xcols.shape[0],1))\n",
    "#print(X1.shape)\n",
    "X = np.append(X1,Xcols,axis=1)\n",
    "#print(X.shape)\n",
    "#print(X)\n",
    "\n",
    "XtX = (X.transpose().dot(X))\n",
    "XtXi = np.linalg.inv(XtX)\n",
    "\n",
    "#print(XtXi.shape)\n",
    "\n",
    "XtY = X.transpose().dot(Y)\n",
    "\n",
    "#print(XtY.shape)\n",
    "\n",
    "beta = XtXi.dot(XtY)\n",
    "beta"
   ]
  },
  {
   "cell_type": "markdown",
   "id": "377a649d-f910-49af-b79e-543fa7b3c938",
   "metadata": {},
   "source": [
    "Compare our beta with the model"
   ]
  },
  {
   "cell_type": "code",
   "execution_count": null,
   "id": "cec4e7ab-a37b-43fb-81af-0f347bee1532",
   "metadata": {},
   "outputs": [],
   "source": []
  },
  {
   "cell_type": "code",
   "execution_count": 19,
   "id": "8a7d7eb6-79dd-41a0-8967-66dbe6f980b9",
   "metadata": {},
   "outputs": [
    {
     "data": {
      "text/plain": [
       "array([ 6.73020517e+06, -3.57878576e+04,  4.11258225e+04,  1.10499660e+02,\n",
       "        1.28523487e-01,  6.69734377e+03,  5.82968552e+05,  5.28564052e+04,\n",
       "        2.63645375e+04,  9.58850129e+04,  7.07733568e+01,  3.97165187e+01,\n",
       "       -2.62069425e+03,  1.97942310e+01, -5.82812760e+02,  6.02776383e+05,\n",
       "       -2.14716799e+05,  2.16582682e+01, -3.82786541e-01])"
      ]
     },
     "execution_count": 19,
     "metadata": {},
     "output_type": "execute_result"
    }
   ],
   "source": [
    "model = LinearRegression(fit_intercept=False)\n",
    "model.fit(X,Y)\n",
    "model.coef_"
   ]
  },
  {
   "cell_type": "markdown",
   "id": "caccd558-887d-455d-a39a-ee7ab7a17fd8",
   "metadata": {},
   "source": [
    "OK get it right for 1 column on the big data."
   ]
  },
  {
   "cell_type": "code",
   "execution_count": 20,
   "id": "2a1c6ff7-be35-4326-8968-70a6cd67f671",
   "metadata": {},
   "outputs": [
    {
     "name": "stdout",
     "output_type": "stream",
     "text": [
      "[5.28078836e+05 7.94706033e-01]\n",
      "[5.28078836e+05 7.94706033e-01]\n"
     ]
    }
   ],
   "source": [
    "Xcols= np.array(dataset.drop(['price'], axis=1))\n",
    "Xcols=Xcols[:,3].reshape([-1,1])\n",
    "X1 = np.ones((Xcols.shape[0],1))\n",
    "#print(X1.shape)\n",
    "#print(Xcols.shape)\n",
    "X = np.append(X1,Xcols,axis=1)\n",
    "\n",
    "model = LinearRegression(fit_intercept=False)\n",
    "model.fit(X,Y)\n",
    "print(model.coef_)\n",
    "\n",
    "XtX = (X.transpose().dot(X))\n",
    "XtXi = np.linalg.inv(XtX)\n",
    "#print(XtXi)\n",
    "XtY = X.transpose().dot(Y)\n",
    "beta = XtXi.dot(XtY)\n",
    "print(beta)"
   ]
  },
  {
   "cell_type": "markdown",
   "id": "4b4dfb70-7eac-4029-b58f-4d250de4740e",
   "metadata": {},
   "source": [
    "Let's try for two."
   ]
  },
  {
   "cell_type": "code",
   "execution_count": 21,
   "id": "5da2d685-2936-4081-943c-d8bde5eb2977",
   "metadata": {},
   "outputs": [
    {
     "name": "stdout",
     "output_type": "stream",
     "text": [
      "[2.66499983e+05 8.06578955e-01 1.74927360e+05]\n",
      "[2.66499983e+05 8.06578955e-01 1.74927360e+05]\n"
     ]
    }
   ],
   "source": [
    "Xcols= np.array(dataset.drop(['price'], axis=1))\n",
    "Xcols=Xcols[:,3:5]\n",
    "X1 = np.ones((Xcols.shape[0],1))\n",
    "#print(X1.shape)\n",
    "#print(Xcols.shape)\n",
    "X = np.append(X1,Xcols,axis=1)\n",
    "\n",
    "model = LinearRegression(fit_intercept=False)\n",
    "model.fit(X,Y)\n",
    "print(model.coef_)\n",
    "\n",
    "XtX = (X.transpose().dot(X))\n",
    "#print(XtX)\n",
    "XtXi = np.linalg.inv(XtX)\n",
    "#print(XtXi)\n",
    "XtY = X.transpose().dot(Y)\n",
    "beta = XtXi.dot(XtY)\n",
    "print(beta)"
   ]
  },
  {
   "cell_type": "markdown",
   "id": "5027fdbc-541f-4f54-bbc8-4911a4a75147",
   "metadata": {},
   "source": [
    "ok, now let's subset from the full matrix and invert to solve"
   ]
  },
  {
   "cell_type": "code",
   "execution_count": 22,
   "id": "51d72e5b-a961-4e3b-8845-3e6e8e6a6515",
   "metadata": {},
   "outputs": [
    {
     "name": "stdout",
     "output_type": "stream",
     "text": [
      "[2.66499983e+05 8.06578955e-01 1.74927360e+05]\n"
     ]
    }
   ],
   "source": [
    "#take the full matrix and compute XtX\n",
    "Xall = np.array(dataset.drop(['price'], axis=1))\n",
    "X1 = np.ones((Xcols.shape[0],1))\n",
    "X = np.append(X1,Xall[:,:],axis=1)\n",
    "\n",
    "#compute XtX on whole matrix\n",
    "XtX = (X.transpose().dot(X))\n",
    "\n",
    "#subset the relevant parameters\n",
    "XtXsub = XtX[np.ix_([0,4,5],[0,4,5])]\n",
    "\n",
    "#verify the same matrix subset\n",
    "#print(XtXsub)\n",
    "\n",
    "#compute based on subset\n",
    "XtXi = np.linalg.inv(XtXsub)\n",
    "XtY = X[:,[0,4,5]].transpose().dot(Y)\n",
    "beta = XtXi.dot(XtY)\n",
    "print(beta)"
   ]
  },
  {
   "cell_type": "markdown",
   "id": "3a08a589-f74e-417f-b666-d98d11c0f2d8",
   "metadata": {},
   "source": [
    "We have verified the correctness of the subset. Let's run the experiment using shared, pre-computed XtX.  First do it in a for loop."
   ]
  },
  {
   "cell_type": "code",
   "execution_count": 23,
   "id": "749182ac-dde9-46bd-8269-1dc939a532ef",
   "metadata": {},
   "outputs": [],
   "source": [
    "from itertools import combinations, chain\n",
    "\n",
    "#take the full matrix and compute XtX\n",
    "Xall = np.array(dataset.drop(['price'], axis=1))\n",
    "X1 = np.ones((Xcols.shape[0],1))\n",
    "X = np.append(X1,Xall[:,:],axis=1)\n",
    "\n",
    "#compute XtX on whole matrix\n",
    "XtX = (X.transpose().dot(X))\n",
    "\n",
    "## Let's choose all combinations of 1, 2, and 3 columns.\n",
    "col_idxs = np.array(range(Xall.shape[1]))\n",
    "combos = list(chain(combinations(col_idxs, 1), combinations(col_idxs, 2), combinations(col_idxs, 3)))\n",
    "\n",
    "# indexing is off by one 3,4 -> 4,5 because we added X1\n",
    "for combo in combos:\n",
    "    thiscombo = [0] + [x+1 for x in combo]\n",
    "    #print(thiscombo)\n",
    "    XtXsub = XtX[np.ix_(thiscombo,thiscombo)]\n",
    "    #print(XtXsub)\n",
    "    XtXi = np.linalg.inv(XtXsub)\n",
    "    XtY = X[:,thiscombo].transpose().dot(Y)\n",
    "    beta = XtXi.dot(XtY)\n",
    "    #print(beta)"
   ]
  },
  {
   "cell_type": "code",
   "execution_count": 24,
   "id": "d2e4e970-d097-4191-ab35-50740ff1f464",
   "metadata": {},
   "outputs": [],
   "source": [
    "def work_shared_regression (combo):\n",
    "    thiscombo = [0] + [x+1 for x in combo]\n",
    "    XtXsub = XtX[np.ix_(thiscombo,thiscombo)]\n",
    "    XtXi = np.linalg.inv(XtXsub)\n",
    "    XtY = X[:,thiscombo].transpose().dot(Y)\n",
    "    beta = XtXi.dot(XtY)\n",
    "    return beta"
   ]
  },
  {
   "cell_type": "code",
   "execution_count": 25,
   "id": "b6119384-698c-4553-800b-07c676e4f84b",
   "metadata": {},
   "outputs": [
    {
     "name": "stdout",
     "output_type": "stream",
     "text": [
      "451 ms ± 33.2 ms per loop (mean ± std. dev. of 7 runs, 1 loop each)\n"
     ]
    }
   ],
   "source": [
    "%%timeit\n",
    "from joblib import Parallel, delayed\n",
    "\n",
    "# you must pay for the global setup\n",
    "\n",
    "#compute XtX on whole matrix\n",
    "XtX = (X.transpose().dot(X))\n",
    "\n",
    "#then parallelize with work sharing\n",
    "betas = Parallel(n_jobs=4)(delayed(work_shared_regression)(combo) for combo in combos)\n",
    "#print(betas)"
   ]
  },
  {
   "cell_type": "code",
   "execution_count": null,
   "id": "a587499f-8e29-4d7a-9609-22f49c1741c8",
   "metadata": {},
   "outputs": [],
   "source": []
  }
 ],
 "metadata": {
  "kernelspec": {
   "display_name": "Python 3",
   "language": "python",
   "name": "python3"
  },
  "language_info": {
   "codemirror_mode": {
    "name": "ipython",
    "version": 3
   },
   "file_extension": ".py",
   "mimetype": "text/x-python",
   "name": "python",
   "nbconvert_exporter": "python",
   "pygments_lexer": "ipython3",
   "version": "3.9.5"
  }
 },
 "nbformat": 4,
 "nbformat_minor": 5
}
