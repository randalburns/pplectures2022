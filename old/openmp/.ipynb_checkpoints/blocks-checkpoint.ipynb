{
 "cells": [
  {
   "cell_type": "code",
   "execution_count": null,
   "metadata": {},
   "outputs": [],
   "source": []
  },
  {
   "cell_type": "markdown",
   "metadata": {},
   "source": [
    "### Notebook moved\n",
    "\n",
    "The xeus-cling and openmp build is super slow.  I have taken them out of this project so that this build will continue to be fast.\n",
    "\n",
    "Jupyter/C++ examples built and run from project `gigantum.com/jhupp/jhupp-openmp`.\n",
    "\n",
    "This notebook will now use the examples in directory `code/openmp/omp_c` built on the command line in a terminal."
   ]
  },
  {
   "cell_type": "markdown",
   "metadata": {},
   "source": [
    "### Block Parallelism\n",
    "\n",
    "* The main OpenMP parallelism contruct is on the  _block_ of code within _curly braces_.\n",
    "  * a block has a single entry, a single entry, and defines a scope\n",
    "  * in a _parallel block_ OpenMP runs the same block on multiple threads\n",
    "* OpenMP programs are serial programs that add \n",
    "  * compiler directivers in the form of _#pragma_ to tell the compiler to generate parallel threads\n",
    "  * a runtime environment\n",
    "  * library calls to manipulate the environment (functions defined in _omp.h_)\n",
    "* The compiler generates code that interacts with the runtime system to\n",
    "    * figure out how many parallel resources the system has\n",
    "    * launch threads on those parallel resources"
   ]
  },
  {
   "cell_type": "code",
   "execution_count": null,
   "metadata": {},
   "outputs": [],
   "source": [
    "// from block.c\n",
    "\n",
    "#include <iostream> \n",
    "#include <omp.h>\n",
    "\n",
    "{\n",
    "  int i;\n",
    "\n",
    "//  omp_set_num_threads ( 32 );\n",
    "\n",
    "  #pragma omp parallel \n",
    "  { \n",
    "    int tid = omp_get_thread_num();\n",
    "    std::cout << \"OMP Thread# \" << tid << \"\\n\";\n",
    "    if ( 0 == tid )\n",
    "    {\n",
    "      std::cout << \"Master says that there are \" <<  omp_get_num_threads() << \" threads\"  << \"\\n\";\n",
    "    }\n",
    "  }\n",
    "}"
   ]
  },
  {
   "cell_type": "markdown",
   "metadata": {},
   "source": [
    "### Parallel Block Observations\n",
    "\n",
    "* Number of threads determined by system \n",
    "  * Generally matches the number of cores (or hyperthreads)\n",
    "* Can be overridden by user.\n",
    "  \n",
    "### Parallel Programming Pattern\n",
    "1. Discover how many parallel executors there are and which one you are, i.e. I am 7 of 9.\n",
    "2. Customize behavior based on id an universe\n",
    "  a. Break the problem into 9 parts and execute the 7th part.\n",
    "\n",
    "This pattern will recur in almost every programming environment.  (CUDA, Spark, MPI.)"
   ]
  },
  {
   "cell_type": "markdown",
   "metadata": {},
   "source": [
    "### Block Scoping\n",
    "\n",
    "A __block__ in C/C++ is a group of statements, separated by semicolons, enclosed in braces.\n",
    "\n",
    "Blocks are an important concept for compilers, programming languages, and parallelism.\n",
    "\n",
    "* Each block defines a scope for variables\n",
    "  * This is why they are used for functions, loops, etc.\n",
    "* Blocks properties\n",
    "  * Single entry/exit point\n",
    "  * Statements in a block run sequentially\n",
    "*  The scoping is super-valuable in OpenMP\n",
    "  * Variables from outside the block are shared among threads\n",
    "  * Variables inside block are private to each block and, thus, thread!"
   ]
  },
  {
   "cell_type": "code",
   "execution_count": null,
   "metadata": {},
   "outputs": [],
   "source": [
    "// from innerouter.c\n",
    "{\n",
    "  int x = 1;\n",
    "  {\n",
    "    int x = 0;\n",
    "    std::cout <<  \"Inner scope x = \" << x << \"\\n\";\n",
    "  }\n",
    "  std::cout <<  \"Outer scope x = \" << x << \"\\n\";\n",
    "}"
   ]
  },
  {
   "cell_type": "code",
   "execution_count": null,
   "metadata": {},
   "outputs": [],
   "source": [
    "// from noscope.c\n",
    "{\n",
    "  int x = 1;\n",
    "}\n",
    "std::cout <<  \"No scope x = \" << x << \"\\n\";"
   ]
  }
 ],
 "metadata": {
  "kernelspec": {
   "display_name": "Python 3",
   "language": "python",
   "name": "python3"
  },
  "language_info": {
   "codemirror_mode": {
    "name": "ipython",
    "version": 3
   },
   "file_extension": ".py",
   "mimetype": "text/x-python",
   "name": "python",
   "nbconvert_exporter": "python",
   "pygments_lexer": "ipython3",
   "version": "3.7.6"
  }
 },
 "nbformat": 4,
 "nbformat_minor": 4
}
