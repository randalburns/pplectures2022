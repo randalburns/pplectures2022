{
 "cells": [
  {
   "cell_type": "code",
   "execution_count": 15,
   "metadata": {},
   "outputs": [],
   "source": [
    ".L omp"
   ]
  },
  {
   "cell_type": "markdown",
   "metadata": {},
   "source": [
    "### Loop Variables\n",
    "\n",
    "__Don't update loop variable inside block__\n",
    "\n",
    "This will produce weird results where the number of iterations will change depending upon scheduling.\n",
    "Change the scheduling discipline below to `static,2` or `static,4`.  You different iterations.  Why?"
   ]
  },
  {
   "cell_type": "code",
   "execution_count": 17,
   "metadata": {},
   "outputs": [
    {
     "name": "stdout",
     "output_type": "stream",
     "text": [
      "OMP Thread# 0 i 0\n",
      "OMP Thread# 0 i 1\n",
      "OMP Thread# 0 i 2\n",
      "OMP Thread# 0 i 3\n",
      "OMP Thread# 4 i 14\n",
      "OMP Thread# 4 i 15\n",
      "OMP Thread# 4 i 16\n",
      "OMP Thread# 3 i 11\n",
      "OMP Thread# 3 i 12\n",
      "OMP Thread# 3 i 13\n",
      "OMP Thread# 2 i 8\n",
      "OMP Thread# 2 i 9\n",
      "OMP Thread# 2 i 10\n",
      "OMP Thread# 5 i 17\n",
      "OMP Thread# 5 i 18\n",
      "OMP Thread# 5 i 19\n",
      "OMP Thread# 1 i 4\n",
      "OMP Thread# 1 i 5\n",
      "OMP Thread# 1 i 6\n",
      "OMP Thread# 1 i 7\n"
     ]
    }
   ],
   "source": [
    "#include <iostream>\n",
    "#include <omp.h>\n",
    "{\n",
    "  int i;\n",
    "\n",
    "  \n",
    "// #pragma omp parallel for schedule(static:1)\n",
    "  #pragma omp parallel for \n",
    "  for ( i=0; i<20; i++ )\n",
    "  {\n",
    "    std::cout << \"OMP Thread# \" << omp_get_thread_num() << \" i \" << i << \"\\n\";\n",
    "    ++i;\n",
    "  }\n",
    "}"
   ]
  },
  {
   "cell_type": "markdown",
   "metadata": {},
   "source": [
    "### Private\n",
    "\n",
    "Notice that private is not initiliazed."
   ]
  },
  {
   "cell_type": "code",
   "execution_count": 3,
   "metadata": {},
   "outputs": [
    {
     "name": "stdout",
     "output_type": "stream",
     "text": [
      "OMP Thread# 0 shared++ 0 private++ 0\n",
      "OMP Thread# 0 shared++ 1 private++ 1\n",
      "OMP Thread# 3 shared++ 2 private++ 0\n",
      "OMP Thread# 3 shared++ 3 private++ 1\n",
      "OMP Thread# 1 shared++ 4 private++ 0\n",
      "OMP Thread# 1 shared++ 5 private++ 1\n",
      "OMP Thread# 4 shared++ 6 private++ 331331329\n",
      "OMP Thread# 5 shared++ 7 private++ 0\n",
      "OMP Thread# 2 shared++ 8 private++ 542762497\n",
      "OMP Thread# 2 shared++ 9 private++ 542762498\n"
     ]
    }
   ],
   "source": [
    "#include <iostream>\n",
    "#include <omp.h>\n",
    "{\n",
    "  int i;\n",
    "  int sh = 0;\n",
    "  int pr = 0;\n",
    "\n",
    "  #pragma omp parallel for private(pr) shared(sh)\n",
    "  for ( i=0; i<10; i++ )\n",
    "  {\n",
    "    std::cout << \"OMP Thread# \" << omp_get_thread_num() << \" shared++ \" << sh++ << \" private++ \" << pr++ << \"\\n\";\n",
    "  }\n",
    "}"
   ]
  },
  {
   "cell_type": "markdown",
   "metadata": {},
   "source": [
    "### First Private\n",
    "\n",
    "Note that first private is....."
   ]
  },
  {
   "cell_type": "code",
   "execution_count": 4,
   "metadata": {},
   "outputs": [
    {
     "name": "stdout",
     "output_type": "stream",
     "text": [
      "OMP Thread# 3 shared++ 0 firstprivate++ 0\n",
      "OMP Thread# 3 shared++ 1 firstprivate++ 1\n",
      "OMP Thread# 0 shared++ 2 firstprivate++ 0\n",
      "OMP Thread# 0 shared++ 3 firstprivate++ 1\n",
      "OMP Thread# 1 shared++ 4 firstprivate++ 0\n",
      "OMP Thread# 1 shared++ 5 firstprivate++ 1\n",
      "OMP Thread# 2 shared++ 6 firstprivate++ 0\n",
      "OMP Thread# 2 shared++ 7 firstprivate++ 1\n",
      "OMP Thread# 4 shared++ 8 firstprivate++ 0\n",
      "OMP Thread# 5 shared++ 9 firstprivate++ 0\n"
     ]
    }
   ],
   "source": [
    "#include <iostream>\n",
    "#include <omp.h>\n",
    "{\n",
    "  int i;\n",
    "  int sh = 0;\n",
    "  int pr = 0;\n",
    "\n",
    "  #pragma omp parallel for firstprivate(pr) shared(sh)\n",
    "  for ( i=0; i<10; i++ )\n",
    "  {\n",
    "    std::cout << \"OMP Thread# \" << omp_get_thread_num() << \" shared++ \" << sh++ << \" firstprivate++ \" << pr++ << \"\\n\";\n",
    "  }\n",
    "}"
   ]
  }
 ],
 "metadata": {
  "kernelspec": {
   "display_name": "Python 3",
   "language": "python",
   "name": "python3"
  },
  "language_info": {
   "codemirror_mode": {
    "name": "ipython",
    "version": 3
   },
   "file_extension": ".py",
   "mimetype": "text/x-python",
   "name": "python",
   "nbconvert_exporter": "python",
   "pygments_lexer": "ipython3",
   "version": "3.7.6"
  }
 },
 "nbformat": 4,
 "nbformat_minor": 4
}
