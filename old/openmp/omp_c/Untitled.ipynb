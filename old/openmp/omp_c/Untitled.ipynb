{
 "cells": [
  {
   "cell_type": "code",
   "execution_count": 1,
   "id": "024d69c8-9ac1-461a-8379-544bd6f8efbe",
   "metadata": {},
   "outputs": [
    {
     "name": "stdout",
     "output_type": "stream",
     "text": [
      "Hello World!"
     ]
    },
    {
     "data": {
      "text/plain": [
       "0"
      ]
     },
     "execution_count": 1,
     "metadata": {},
     "output_type": "execute_result"
    }
   ],
   "source": [
    "#include <iostream>\n",
    "\n",
    "int main() {\n",
    "    std::cout << \"Hello World!\";\n",
    "    return 0;\n",
    "}\n",
    "\n",
    "main()"
   ]
  },
  {
   "cell_type": "code",
   "execution_count": 2,
   "id": "be1a6ab0-fcd3-4ae2-b7a0-4e9109cebcd4",
   "metadata": {},
   "outputs": [],
   "source": [
    "#include \"omp.h\""
   ]
  },
  {
   "cell_type": "code",
   "execution_count": 14,
   "id": "ff6ff457-d60d-406b-bb67-26d75fada622",
   "metadata": {},
   "outputs": [
    {
     "name": "stdout",
     "output_type": "stream",
     "text": [
      "4\n",
      "1\n",
      "1\n",
      "OMP Thread# 0\n",
      "Master says that there are 1 threads\n"
     ]
    }
   ],
   "source": [
    "#include <stdio.h>\n",
    "#include <stdlib.h>\n",
    "#include <string.h>\n",
    "#include <errno.h>\n",
    "#include <assert.h>\n",
    "#include <dirent.h>\n",
    "#include <sys/types.h>\n",
    "#include <sys/stat.h>\n",
    "#include <fcntl.h>\n",
    "\n",
    "#include \"omp.h\"\n",
    "#pragma cling load(\"/home/randal/anaconda3/envs/xeus.cling/lib/libomp.so\")\n",
    "\n",
    "{\n",
    "  printf(\"%d\\n\",omp_get_max_threads());\n",
    "  printf(\"%d\\n\",omp_get_num_threads());\n",
    "  omp_set_dynamic(0);\n",
    "  omp_set_num_threads(4);\n",
    "  printf(\"%d\\n\",omp_get_num_threads());\n",
    "\n",
    "  #pragma omp parallel num_threads(4)\n",
    "  { \n",
    "    int tid = omp_get_thread_num();\n",
    "    printf(\"OMP Thread# %d\\n\", tid);\n",
    "    if ( 0 == tid )\n",
    "    {\n",
    "      printf (\"Master says that there are %d threads\\n\", omp_get_num_threads());\n",
    "    }\n",
    "  }\n",
    "}\n",
    "\n"
   ]
  },
  {
   "cell_type": "code",
   "execution_count": null,
   "id": "04bc772c-fc31-4fa1-b0d0-129156bf3777",
   "metadata": {},
   "outputs": [],
   "source": []
  },
  {
   "cell_type": "code",
   "execution_count": null,
   "id": "4f22f6d6-7dc2-4944-bb70-3a56071ccf12",
   "metadata": {},
   "outputs": [],
   "source": []
  }
 ],
 "metadata": {
  "kernelspec": {
   "display_name": "C++11",
   "language": "C++11",
   "name": "xcpp11"
  },
  "language_info": {
   "codemirror_mode": "text/x-c++src",
   "file_extension": ".cpp",
   "mimetype": "text/x-c++src",
   "name": "c++",
   "version": "11"
  }
 },
 "nbformat": 4,
 "nbformat_minor": 5
}
