{
 "cells": [
  {
   "cell_type": "markdown",
   "metadata": {},
   "source": [
    "### Loop Parallelism"
   ]
  },
  {
   "cell_type": "code",
   "execution_count": 1,
   "metadata": {},
   "outputs": [],
   "source": [
    ".L omp"
   ]
  },
  {
   "cell_type": "code",
   "execution_count": 9,
   "metadata": {},
   "outputs": [
    {
     "name": "stdout",
     "output_type": "stream",
     "text": [
      "OMP Thread# 0 loop variable 0\n",
      "OMP Thread# 0 loop variable 1\n",
      "OMP Thread# 0 loop variable 2\n",
      "OMP Thread# 0 loop variable 3\n",
      "OMP Thread# 3 loop variable 12\n",
      "OMP Thread# 3 loop variable 13\n",
      "OMP Thread# 3 loop variable 14\n",
      "OMP Thread# 3 loop variable 15\n",
      "OMP Thread# 1 loop variable 4\n",
      "OMP Thread# 1 loop variable 5\n",
      "OMP Thread# 1 loop variable 6\n",
      "OMP Thread# 1 loop variable 7\n",
      "OMP Thread# 2 loop variable 8\n",
      "OMP Thread# 2 loop variable 9\n",
      "OMP Thread# 2 loop variable 10\n",
      "OMP Thread# 2 loop variable 11\n",
      "OMP Thread# 4 loop variable 16\n",
      "OMP Thread# 4 loop variable 17\n",
      "OMP Thread# 4 loop variable 18\n",
      "OMP Thread# 4 loop variable 19\n"
     ]
    }
   ],
   "source": [
    "#include <iostream>\n",
    "#include <omp.h>\n",
    "\n",
    "{\n",
    "  #pragma omp parallel for schedule(static,4)\n",
    "  for ( int i=0; i<20; i++ )\n",
    "  {\n",
    "    std::cout << \"OMP Thread# \" << omp_get_thread_num() << \" loop variable \" << i << \"\\n\";\n",
    "  }\n",
    "}"
   ]
  },
  {
   "cell_type": "markdown",
   "metadata": {},
   "source": [
    "Next blocks don't work use the command.  Go to OpenMP examples.\n",
    "```sh\n",
    "clang -Xpreprocessor -fopenmp -lomp dynamic_schedule.c \n",
    "```\n"
   ]
  },
  {
   "cell_type": "markdown",
   "metadata": {},
   "source": [
    "### Static Scheduling"
   ]
  },
  {
   "cell_type": "code",
   "execution_count": 3,
   "metadata": {},
   "outputs": [
    {
     "name": "stdout",
     "output_type": "stream",
     "text": [
      "OMP Thread# 0 loop variable 0\n",
      "OMP Thread# 0 loop variable 1\n",
      "OMP Thread# 0 loop variable 2\n",
      "OMP Thread# 0 loop variable 3\n",
      "OMP Thread# 0 loop variable 24\n",
      "OMP Thread# 0 loop variable 25\n",
      "OMP Thread# 0 loop variable 26\n",
      "OMP Thread# 0 loop variable 27\n",
      "OMP Thread# 0 loop variable 48\n",
      "OMP Thread# 0 loop variable 49\n",
      "OMP Thread# 0 loop variable 50\n",
      "OMP Thread# 0 loop variable 51\n",
      "OMP Thread# 0 loop variable 72\n",
      "OMP Thread# 0 loop variable 73\n",
      "OMP Thread# 0 loop variable 74\n",
      "OMP Thread# 0 loop variable 75\n",
      "OMP Thread# 0 loop variable 96\n",
      "OMP Thread# 0 loop variable 97\n",
      "OMP Thread# 0 loop variable 98\n",
      "OMP Thread# 0 loop variable 99\n",
      "OMP Thread# 1 loop variable 4\n",
      "OMP Thread# 1 loop variable 5\n",
      "OMP Thread# 1 loop variable 6\n",
      "OMP Thread# 1 loop variable 7\n",
      "OMP Thread# 1 loop variable 28\n",
      "OMP Thread# 1 loop variable 29\n",
      "OMP Thread# 1 loop variable 30\n",
      "OMP Thread# 1 loop variable 31\n",
      "OMP Thread# 1 loop variable 52\n",
      "OMP Thread# 1 loop variable 53\n",
      "OMP Thread# 1 loop variable 54\n",
      "OMP Thread# 1 loop variable 55\n",
      "OMP Thread# 1 loop variable 76\n",
      "OMP Thread# 1 loop variable 77\n",
      "OMP Thread# 1 loop variable 78\n",
      "OMP Thread# 1 loop variable 79\n",
      "OMP Thread# 2 loop variable 8\n",
      "OMP Thread# 2 loop variable 9\n",
      "OMP Thread# 2 loop variable 10\n",
      "OMP Thread# 2 loop variable 11\n",
      "OMP Thread# 2 loop variable 32\n",
      "OMP Thread# 2 loop variable 33\n",
      "OMP Thread# 2 loop variable 34\n",
      "OMP Thread# 2 loop variable 35\n",
      "OMP Thread# 2 loop variable 56\n",
      "OMP Thread# 2 loop variable 57\n",
      "OMP Thread# 2 loop variable 58\n",
      "OMP Thread# 2 loop variable 59\n",
      "OMP Thread# 2 loop variable 80\n",
      "OMP Thread# 2 loop variable 81\n",
      "OMP Thread# 2 loop variable 82\n",
      "OMP Thread# 2 loop variable 83\n",
      "OMP Thread# 3 loop variable 12\n",
      "OMP Thread# 3 loop variable 13\n",
      "OMP Thread# 3 loop variable 14\n",
      "OMP Thread# 3 loop variable 15\n",
      "OMP Thread# 3 loop variable 36\n",
      "OMP Thread# 3 loop variable 37\n",
      "OMP Thread# 3 loop variable 38\n",
      "OMP Thread# 3 loop variable 39\n",
      "OMP Thread# 3 loop variable 60\n",
      "OMP Thread# 3 loop variable 61\n",
      "OMP Thread# 3 loop variable 62\n",
      "OMP Thread# 3 loop variable 63\n",
      "OMP Thread# 3 loop variable 84\n",
      "OMP Thread# 3 loop variable 85\n",
      "OMP Thread# 3 loop variable 86\n",
      "OMP Thread# 3 loop variable 87\n",
      "OMP Thread# 4 loop variable 16\n",
      "OMP Thread# 4 loop variable 17\n",
      "OMP Thread# 4 loop variable 18\n",
      "OMP Thread# 4 loop variable 19\n",
      "OMP Thread# 4 loop variable 40\n",
      "OMP Thread# 4 loop variable 41\n",
      "OMP Thread# 4 loop variable 42\n",
      "OMP Thread# 4 loop variable 43\n",
      "OMP Thread# 4 loop variable 64\n",
      "OMP Thread# 4 loop variable 65\n",
      "OMP Thread# 4 loop variable 66\n",
      "OMP Thread# 4 loop variable 67\n",
      "OMP Thread# 4 loop variable 88\n",
      "OMP Thread# 4 loop variable 89\n",
      "OMP Thread# 4 loop variable 90\n",
      "OMP Thread# 4 loop variable 91\n",
      "OMP Thread# 5 loop variable 20\n",
      "OMP Thread# 5 loop variable 21\n",
      "OMP Thread# 5 loop variable 22\n",
      "OMP Thread# 5 loop variable 23\n",
      "OMP Thread# 5 loop variable 44\n",
      "OMP Thread# 5 loop variable 45\n",
      "OMP Thread# 5 loop variable 46\n",
      "OMP Thread# 5 loop variable 47\n",
      "OMP Thread# 5 loop variable 68\n",
      "OMP Thread# 5 loop variable 69\n",
      "OMP Thread# 5 loop variable 70\n",
      "OMP Thread# 5 loop variable 71\n",
      "OMP Thread# 5 loop variable 92\n",
      "OMP Thread# 5 loop variable 93\n",
      "OMP Thread# 5 loop variable 94\n",
      "OMP Thread# 5 loop variable 95\n"
     ]
    }
   ],
   "source": [
    "#include <iostream>\n",
    "#include <omp.h>\n",
    "\n",
    "{\n",
    "  #pragma omp parallel for schedule(static,4)\n",
    "  for ( int i=0; i<100; i++ )\n",
    "  {\n",
    "    std::cout << \"OMP Thread# \" << omp_get_thread_num() << \" loop variable \" << i << \"\\n\";\n",
    "  }\n",
    "}"
   ]
  },
  {
   "cell_type": "markdown",
   "metadata": {},
   "source": [
    "### Dynamic Scheduling"
   ]
  },
  {
   "cell_type": "code",
   "execution_count": 1,
   "metadata": {},
   "outputs": [],
   "source": [
    ".L omp"
   ]
  },
  {
   "cell_type": "code",
   "execution_count": null,
   "metadata": {},
   "outputs": [],
   "source": [
    "\n",
    "#include <iostream>\n",
    "#include <omp.h>\n",
    "\n",
    "{\n",
    "  #pragma omp parallel for schedule(dynamic,4)\n",
    "  for ( int i=0; i<100; i++ )\n",
    "  {\n",
    "    std::cout << \"OMP Thread# \" << omp_get_thread_num() << \" loop variable \" << i << \"\\n\";\n",
    "  }\n",
    "}"
   ]
  },
  {
   "cell_type": "markdown",
   "metadata": {},
   "source": [
    "### Guided Scheduling"
   ]
  },
  {
   "cell_type": "code",
   "execution_count": null,
   "metadata": {},
   "outputs": [],
   "source": [
    "#include <iostream>\n",
    "#include <omp.h>\n",
    "\n",
    "{\n",
    "  #pragma omp parallel for schedule(guided)\n",
    "  for ( int i=0; i<100; i++ )\n",
    "  {\n",
    "    std::cout << \"OMP Thread# \" << omp_get_thread_num() << \" loop variable \" << i << \"\\n\";\n",
    "  }\n",
    "}"
   ]
  },
  {
   "cell_type": "code",
   "execution_count": null,
   "metadata": {},
   "outputs": [],
   "source": []
  }
 ],
 "metadata": {
  "kernelspec": {
   "display_name": "Python 3",
   "language": "python",
   "name": "python3"
  },
  "language_info": {
   "codemirror_mode": {
    "name": "ipython",
    "version": 3
   },
   "file_extension": ".py",
   "mimetype": "text/x-python",
   "name": "python",
   "nbconvert_exporter": "python",
   "pygments_lexer": "ipython3",
   "version": "3.8.6"
  }
 },
 "nbformat": 4,
 "nbformat_minor": 4
}
