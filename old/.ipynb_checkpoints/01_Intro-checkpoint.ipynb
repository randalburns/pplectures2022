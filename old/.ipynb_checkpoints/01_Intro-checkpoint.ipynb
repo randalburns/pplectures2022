{
 "cells": [
  {
   "cell_type": "markdown",
   "metadata": {},
   "source": [
    "## Introduction to Parallel Programming\n",
    "\n",
    "### Motivation for this Class\n",
    "\n",
    "* Parallelism is everywhere!\n",
    "    * Multicore, GPU, cloud, HPC\n",
    "    * Every program/programmer needs to address it\n",
    "* Traditional CS curriculum totally misses the point\n",
    "    * Model the world as serial algorithms\n",
    "    \n",
    "### Who should take this course?\n",
    "\n",
    "* Anyone who needs to program ever. Period! Exclamation point!! …  \n",
    "* Designed for Undergraduates in CS: \n",
    "    * quick lift of skills good for employers and internships\n",
    "* Suitable for graduate students in Science and Engineering\n",
    "    * Mimimize dependencies on other CS courses\n",
    "    * Self-contained treatment of OS, architecture, PL\n",
    "\n"
   ]
  },
  {
   "cell_type": "markdown",
   "metadata": {},
   "source": [
    "### What's a computer look like?\n",
    "\n",
    "* Turing machine \n",
    "\n",
    "![Turing Machhine Cartoon](https://i0.wp.com/www.worldofcomputing.net/wp-content/uploads/2013/01/turingMachine.gif?zoom=2&resize=400%2C274 \"Cartoon\")\n",
    "\n",
    "* Universal Turing Machine\n",
    "\n",
    "<img src=\"https://upload.wikimedia.org/wikipedia/commons/thumb/4/43/Universal_Turing_machine.svg/1600px-Universal_Turing_machine.svg.png\" width=\"512\" title=\"Universal TM\" />\n",
    "\n",
    "* Von Neumann Architecture\n",
    "\n",
    "<img src=\"https://upload.wikimedia.org/wikipedia/commons/thumb/e/e5/Von_Neumann_Architecture.svg/2880px-Von_Neumann_Architecture.svg.png\" width=\"512\" title=\"Von Neumann Architecture\" />    \n",
    "\n",
    "#### Properties of \"Computers\"\n",
    "\n",
    "* Sequential processing\n",
    "    * Control or logic flow  \n",
    "* Algorithm costs measured in this model\n",
    "    * Big-O notation counts number of sequential steps\n",
    "* This is the basis for the CS curriculum\n",
    "    * And it’s just wrong\n",
    "    * Computers are not sequential and performance is more nuanced than counting the number of steps \n",
    "* We look at computers as parallel entities\n",
    "    * Do many tasks concurrently\n",
    "    * Tasks interfere with each other\n",
    "    * More accurately reflects hardware and bottlenecks\n",
    "* What about parallel computation models?\n",
    "    * Exist but not useful, because reality collides with the abstraction\n",
    " \n",
    "<img src=\"https://d3e8mc9t3dqxs7.cloudfront.net/wp-content/uploads/sites/11/2016/02/PRAM-Model.png\" width=\"512\" title=\"PRAM\" /> \n"
   ]
  },
  {
   "cell_type": "markdown",
   "metadata": {},
   "source": [
    "### Rethinking Serial\n",
    "\n",
    "* Realities of computing\n",
    "    * We have tons of wasted cycles\n",
    "    * CPU utilization typically <10% (of useful work)\n",
    "* Many other things limit performance\n",
    "    * Pipeline stalls\n",
    "    * Lock interference\n",
    "    * Waiting for I/O and network\n",
    "    * Data dependencies\n",
    "* Writing serial programs is broken\n",
    "    * Parallelism is everywhere\n",
    "    * Must exploit it to realize time efficiency, power savings"
   ]
  },
  {
   "cell_type": "markdown",
   "metadata": {},
   "source": [
    "### How much parallelism is needed?\n",
    "\n",
    "More than you could imagine.  \n",
    "  * Ten years ago on a \"serial\" processor we needed ~100 independent instructions\n",
    " \n",
    "<img src=\"./images/monet.screenshot.png\" width=\"512\" title=\"MonetDB\" /> "
   ]
  },
  {
   "cell_type": "markdown",
   "metadata": {},
   "source": [
    "### Why do I want to write parallel programs?\n",
    "  * to solve problems faster (strong scaling)\n",
    "  * to solve bigger problems (weak scaling and memory)\n",
    " \n",
    "### Why don't I want to write parallel programs? \n",
    "  * the tools are more difficult to use: expect 10x programming effort\n",
    "  * for many problem performance does not improve\n",
    " \n",
    "This course will help to decide when to write parallel code and how to write it.\n",
    "\n",
    "### Conclusions\n",
    "\n",
    "Every computer is a parallel computer\n",
    "\n",
    "Parallel computers need independent work to run their many cores (or other resources) efficiently\n",
    "\n",
    "Themes of this class:\n",
    "* Identify available parallelism in programming tasks\n",
    "* Encode parallelism in parallel programs\n",
    "* Understand parallel hardware and how to optimize parallel performance\n"
   ]
  },
  {
   "cell_type": "code",
   "execution_count": null,
   "metadata": {},
   "outputs": [],
   "source": []
  }
 ],
 "metadata": {
  "kernelspec": {
   "display_name": "R",
   "language": "R",
   "name": "ir"
  },
  "language_info": {
   "codemirror_mode": "r",
   "file_extension": ".r",
   "mimetype": "text/x-r-source",
   "name": "R",
   "pygments_lexer": "r",
   "version": "4.0.5"
  }
 },
 "nbformat": 4,
 "nbformat_minor": 4
}
