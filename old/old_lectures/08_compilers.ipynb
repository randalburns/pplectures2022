{
 "cells": [
  {
   "cell_type": "markdown",
   "metadata": {},
   "source": [
    "## OpenMP: Compilers and Toolchain\n",
    "\n",
    "Let's recall that an OpenMP program consists of:\n",
    "1. Compiler directives that generate parallel code\n",
    "2. Library calls to configure runtime\n",
    "  a. Need to `#include <omp.h>` to get symbols/functions\n",
    "\n",
    "* For gcc/g++, OpenMP is built in.  Use the openmp option.\n",
    "```sh\n",
    "gcc -fopenmp program.c\n",
    "````\n",
    "* For clang, OpenMP is kind of built in.  On MacOSX, it needs help with linking.\n",
    "```sh\n",
    "clang -Xpreprocessor -fopenmp -lomp program.c \n",
    "```\n",
    "\n",
    "### Compiler Optimization\n",
    "\n",
    "The goal is to develop __fast__ and parallel code.  OpenMP makes it parallel. Compilers make it fast.  They perform things like:\n",
    "  * loop unrolling\n",
    "  * inline functions\n",
    "  * branch prediction\n",
    "  * vectorization\n",
    "These can effect performance by __large constant factors__.\n",
    "\n",
    "The degree of optimization is specified at compile time.  It is typical to debug unoptimized code and deploy optimized code.  In gcc/g++:\n",
    "  * -O0 (default) = Reduce compilation time and make debugging produce the expected results.\n",
    "  * -O1 = simple optimizations that don’t take a lot of compile time\n",
    "  * -O2 = rewrite loops, follow jump pointers, inline small functions, no time/space tradeoffs\n",
    "  * -O3 = vectorize, inline functions, branch prediction\n",
    "  * and, -g include debugging symbols\n",
    "  \n"
   ]
  },
  {
   "cell_type": "markdown",
   "metadata": {},
   "source": [
    "\n"
   ]
  },
  {
   "cell_type": "markdown",
   "metadata": {},
   "source": [
    "### Things we learned in `stencil.c`\n",
    "\n",
    "1. Compiler optimization matters\n",
    "2. Different compilers produce different code\n",
    "  * clang rewrote the loop, gcc didn't\n",
    "3. Iteration order matters\n",
    "  * if your compiler doesn't rewrite the loop\n",
    "  * many things will prevent your compiler from rewriting (more on this later)\n",
    "4. Caching affects performance (particularly initial runs)\n",
    "  * Measure on a warm cache.\n",
    "  * The initial run will often load data into processor cache from memory."
   ]
  },
  {
   "cell_type": "code",
   "execution_count": null,
   "metadata": {},
   "outputs": [],
   "source": []
  }
 ],
 "metadata": {
  "kernelspec": {
   "display_name": "Python 3 (ipykernel)",
   "language": "python",
   "name": "python3"
  },
  "language_info": {
   "codemirror_mode": {
    "name": "ipython",
    "version": 3
   },
   "file_extension": ".py",
   "mimetype": "text/x-python",
   "name": "python",
   "nbconvert_exporter": "python",
   "pygments_lexer": "ipython3",
   "version": "3.9.7"
  }
 },
 "nbformat": 4,
 "nbformat_minor": 4
}
