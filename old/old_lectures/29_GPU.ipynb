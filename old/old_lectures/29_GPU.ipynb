{
 "cells": [
  {
   "cell_type": "markdown",
   "metadata": {},
   "source": [
    "## GPUs: From Pipelines to Accelerators\n",
    "\n",
    "A GPU is:\n",
    "* Specialized hardare for graphics rendering\n",
    "* Optimized for floating point transformations on \n",
    "    * 3-d models (representations of physical objects)\n",
    "    * 2-d dense arrays (presentation) \n",
    "    \n",
    "_A little history_. The GPU pipeline evolved from customized hardware for 3-d rendering onto 2-d planes for visualization.  The translation of the representation of a physical system into monitor/screen views.\n",
    "  * Input: vertexes and primitves, lighting parameters, transformations\n",
    "  * Output: 2-d image for display\n",
    "  \n",
    "The pipeline was fixed function transforming models into images.\n",
    "The user prepared and loaded data then invoked the pipeline with DirectX or OpenGL.\n",
    "The pipeline had phases:\n",
    "* Command:\n",
    "  * triangulate polygons\n",
    "  * prepare vertex data streams\n",
    "* Geometry: vertex operaations\n",
    "  * model transformations\n",
    "  * view transformations\n",
    "  * vertex-based lighting\n",
    "  * perspective transformations\n",
    "* Rasterization: 3-d to 2-d\n",
    "  * map triangle\n",
    "  * interpolate vertex attributes\n",
    "  * clipping\n",
    "  * create fragments\n",
    "* Texture: \n",
    "  * lookup and apply texture\n",
    "  * perform texture filtering\n",
    "* Fragement:\n",
    "  * lighting\n",
    "  * anti-aliasing\n",
    "  * alpha blending\n",
    "  * image effects\n",
    "* Display: convert fragments to pixels\n",
    "  * depth buffer test\n",
    "  * stencil buffer test\n",
    "  * accumulation\n",
    "  * output\n",
    "  \n",
    "<img src=\"http://romain.vergne.free.fr/teaching/IS/imgs03/pipeline-v1-06.png\" title=\"Pixel Processing in OpenFL\" />\n",
    "\n",
    "* Hardware Evolution\n",
    "  * CPU not fast enough to render data to screen\n",
    "    * goal was 20-60 frames per second\n",
    "    * customized HW developed\n",
    "  * Early pipelines had each function in separate hardware\n",
    "    * pipeline parallelism\n",
    "  * Hardware evolved to two units\n",
    "      * 3-d vertex processing\n",
    "      * 2-d raster proessing\n",
    "  * Then became programmable\n",
    "    * texture and blending operations in 2-d\n",
    "  * As of 2003\n",
    "  \n",
    "<img src=\"./images/gpupipeline.png\" width=512 />\n",
    "    \n"
   ]
  },
  {
   "cell_type": "markdown",
   "metadata": {},
   "source": [
    "### To GPGPU\n",
    "\n",
    "This hardware (in the fragment unit) had the capability to do:\n",
    "  * dense floating point operations on arrays with low power\n",
    "  * for computations that were simple\n",
    "    * no recursion\n",
    "    * no stack\n",
    "    * limited branching\n",
    "Clever scientists started hacking code onto GPUs.  This was:\n",
    "\n",
    "__GPGPU__ general purpose computing on graphics processing units."
   ]
  },
  {
   "cell_type": "markdown",
   "metadata": {},
   "source": [
    "## The Advent of CUDA\n",
    "\n",
    "* GPGPU had limitations:\n",
    "  * poor utilization: only fragment unit\n",
    "  * hard to program in the graphics API\n",
    "  * no data reuse: pipeline went one direction\n",
    "* nVidia normalized hardware and made more programmable\n",
    "  * vertex, geometry and fragment unit are now jobs schedule on one architecture\n",
    "  * create unified programmable framework for general purpose computations\n",
    "  \n",
    "### CUDA == Compute Unified Device Architecture\n",
    "\n",
    "* CUDA is the whole thing:\n",
    "  * hardware architecture\n",
    "  * API to interface GPU\n",
    "  * toolkit to develop general purpose code\n",
    "* Initial support for general computations\n",
    "  * random memory access\n",
    "  * integer arithmetic\n"
   ]
  },
  {
   "cell_type": "markdown",
   "metadata": {},
   "source": [
    "### From CUDA TO CUDA 10.1\n",
    "\n",
    "CUDA has become a general purpose processing framework that has maintained the value proposition of GPUs, while becoming easier to program.\n",
    "  * Good for FP/Integer dense computing\n",
    "  * Low power per FLOP\n",
    "  * Limited support for branching, recursion, speculation, etc."
   ]
  },
  {
   "cell_type": "code",
   "execution_count": null,
   "metadata": {},
   "outputs": [],
   "source": []
  }
 ],
 "metadata": {
  "kernelspec": {
   "display_name": "Python 3",
   "language": "python",
   "name": "python3"
  },
  "language_info": {
   "codemirror_mode": {
    "name": "ipython",
    "version": 3
   },
   "file_extension": ".py",
   "mimetype": "text/x-python",
   "name": "python",
   "nbconvert_exporter": "python",
   "pygments_lexer": "ipython3",
   "version": "3.7.6"
  }
 },
 "nbformat": 4,
 "nbformat_minor": 4
}
