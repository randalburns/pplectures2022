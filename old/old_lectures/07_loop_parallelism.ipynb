{
 "cells": [
  {
   "cell_type": "markdown",
   "metadata": {},
   "source": [
    "### Loop Parallelism\n",
    "\n",
    "Loop parallelism is a form of parallelism and _programming pattern_ that derives parallel tasks from the iterations of loops.\n",
    "\n",
    "* Most common use and programming pattern for OpenMP\n",
    "  * add parallel directives to a for loop\n",
    "  * OpenMP divides the loops iterations into _chunks_ assigned to threads\n",
    "* Merits of loop parallelism\n",
    "  * __Sequential equivalence__: parallel program is equivalent to a serial program (easy to write and maintain, good tools)\n",
    "  * __Refactoring__: Incremental conversion of a serial program to a parallel program (easy to test and debug)\n",
    "* Drawbacks of loop parallelism\n",
    "  * __Memory utilization__: if loop access patterns don’t match cache hierarchy, programs often require massive restructuring\n",
    "  \n",
    "### #pragma parallel for"
   ]
  },
  {
   "cell_type": "code",
   "execution_count": 1,
   "metadata": {},
   "outputs": [],
   "source": [
    ".L omp"
   ]
  },
  {
   "cell_type": "code",
   "execution_count": null,
   "metadata": {},
   "outputs": [],
   "source": [
    "#include <iostream>\n",
    "#include <omp.h>\n",
    "\n",
    "{\n",
    "  #pragma omp parallel for \n",
    "  for ( int i=0; i<100; i++ )\n",
    "  {\n",
    "    std::cout << \"OMP Thread# \" << omp_get_thread_num() << \" loop variable \" << i << \"\\n\";\n",
    "  }\n",
    "}"
   ]
  },
  {
   "cell_type": "markdown",
   "metadata": {},
   "source": [
    "OpenMP divided the iterations of the loops into contiguous _chunks_ assigned to threads\n",
    "  * number of threads derived from environment\n",
    "  * chunks are (by default) sequential: leads to _coalesced_ and _sequential_ memory utilization\n",
    " \n",
    "  \n",
    "### Loop Scheduling\n",
    "\n",
    "The full looping directive includes the specification of a scheduling directive and a chunk size\n",
    "```c\n",
    "#pragma omp parallel for schedule(kind [,chunk size])\n",
    "```\n",
    "in which schedule can be one of:\n",
    "* Static – divide loop into equal sized chunks\n",
    "* Dynamic — build internal work queue and dispatch blocksize at a time\n",
    "* Guided — dynamic scheduling with decreasing block size for load balance\n",
    "* Auto — compiler chooses from above\n",
    "* Runtime — runtime configuration chooses from above\n",
    "\n",
    "__NoteBook__: <a href=\"openmp/loops.ipynb\">Loop Parallelism</a>\n"
   ]
  },
  {
   "cell_type": "code",
   "execution_count": null,
   "metadata": {},
   "outputs": [],
   "source": []
  }
 ],
 "metadata": {
  "kernelspec": {
   "display_name": "Python 3",
   "language": "python",
   "name": "python3"
  },
  "language_info": {
   "codemirror_mode": {
    "name": "ipython",
    "version": 3
   },
   "file_extension": ".py",
   "mimetype": "text/x-python",
   "name": "python",
   "nbconvert_exporter": "python",
   "pygments_lexer": "ipython3",
   "version": "3.7.3"
  }
 },
 "nbformat": 4,
 "nbformat_minor": 4
}
