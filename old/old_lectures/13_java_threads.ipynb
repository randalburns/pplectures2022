{
 "cells": [
  {
   "cell_type": "markdown",
   "metadata": {},
   "source": [
    "## Java Threads\n",
    "\n",
    "* To run a Java thread, you define a `Thread` object and call `start()` on the object.\n",
    "    * the `Thread` class takes a `Runnable` object in it's constructor\n",
    "* `Runnable` is an interface that any class can implement\n",
    "  * `must include a `run` method as an entry point.\n",
    "* `thread.start()` is the fork/exec analogy\n",
    "  * it returns immediately in the calling thread\n",
    "  * and invokes `Runnable.run()` in a new thread\n",
    "  \n",
    "The following is a minimal example for creating parallel threads in Java.  \n",
    "\n",
    "_Note_: the snippet uses `StringIO` instead of `System.out.println` because I/O is weird in IJava notebooks."
   ]
  },
  {
   "cell_type": "code",
   "execution_count": 1,
   "metadata": {},
   "outputs": [
    {
     "name": "stdout",
     "output_type": "stream",
     "text": [
      "5: Running thread\n",
      "7: Running thread\n",
      "1: Running thread\n",
      "2: Running thread\n",
      "4: Running thread\n",
      "0: Running thread\n",
      "6: Running thread\n",
      "3: Running thread\n",
      "\n"
     ]
    }
   ],
   "source": [
    "import java.io.StringWriter;\n",
    "\n",
    "class SimpleConc implements Runnable\n",
    "{\n",
    "  int thread_id;    // Variable containing specific id of this thread.\n",
    "  StringWriter outstream;\n",
    "  \n",
    "  // Run: overides Runnabale.Run, thread entry point\n",
    "  public void run ()\n",
    "  {\n",
    "    this.outstream.write( thread_id + \": Running thread\\n\" );\n",
    "  }\n",
    "\n",
    "  // Constructor: set thread id\n",
    "  SimpleConc ( int id, StringWriter outstream )\n",
    "  {\n",
    "    this.thread_id = id;\n",
    "    this.outstream = outstream;\n",
    "  }\n",
    "}\n",
    "\n",
    "int numthreads = 8;\n",
    "\n",
    "StringWriter outstream = new StringWriter();\n",
    "\n",
    "// create and start specified thread objects of class SimpleConc\n",
    "for ( int i=0; i<numthreads; i++ )\n",
    "{\n",
    "    new Thread ( new SimpleConc(i, outstream) ).start();\n",
    "}\n",
    "\n",
    "System.out.println(outstream)"
   ]
  },
  {
   "cell_type": "markdown",
   "metadata": {},
   "source": [
    "**Small Caution** Java has multiple ways to create threads.  The other way (not shown) is to inherit from or extend the `Thread` class.  This is inferior. Because, `Thread` is a class you cannot extend `Thread` and another class, e.g. `Applet`.  Good practice is to onlhy inherit when you want to extend base class functionality.  That's not what we're doing.\n",
    "\n",
    "Use Runnable: it’s preferable.\n",
    "\n",
    "### Awaiting Thread Completion\n",
    "\n",
    "* `join()` a thread\n",
    "  * wait for a thread to finish.\n",
    "  * return immediately if already finished.\n",
    "  * finished threads __are not__ garbage collected (until they are dereferenced)\n",
    "    * you can call functions on `join()`ed threads\n"
   ]
  },
  {
   "cell_type": "code",
   "execution_count": 2,
   "metadata": {},
   "outputs": [
    {
     "name": "stdout",
     "output_type": "stream",
     "text": [
      "All threads complete.\n",
      "Shared variable = 10007082\n",
      "Thread 0 is alive? false\n"
     ]
    }
   ],
   "source": [
    "class SummingShared implements Runnable\n",
    "{\n",
    "  // Create shared variable\n",
    "  static int sharedvar = 0;\n",
    "\n",
    "  public void run ()\n",
    "  { \n",
    "    for ( int i=0; i<10000000; i++ )\n",
    "    {\n",
    "      sharedvar++;\n",
    "    }\n",
    "  }\n",
    "}\n",
    "\n",
    "int numthreads = 4;\n",
    "\n",
    "// Array to hold references to thread objects\n",
    "Thread[] threads = new Thread[numthreads];\n",
    "\n",
    "// create and start specified thread objects of class SynchronizedWorks\n",
    "for ( int i=0; i<numthreads; i++ )\n",
    "{\n",
    "    threads[i] = new Thread ( new SummingShared() );\n",
    "    threads[i].start();\n",
    "}\n",
    "\n",
    "// Await the completion of all threads\n",
    "for ( int i=0; i<numthreads; i++ )\n",
    "{\n",
    "    try\n",
    "    {\n",
    "        threads[i].join();\n",
    "    }\n",
    "    catch (InterruptedException e)\n",
    "    {\n",
    "        System.out.println(\"Thread interrupted.  Exception: \" + e.toString() +\n",
    "                           \" Message: \" + e.getMessage()) ;\n",
    "        return -1;\n",
    "    }\n",
    "}\n",
    "\n",
    "System.out.println(\"All threads complete.\");\n",
    "System.out.println(\"Shared variable = \" + SummingShared.sharedvar);\n",
    "\n",
    "System.out.println(\"Thread 0 is alive? \" + threads[0].isAlive())"
   ]
  },
  {
   "cell_type": "markdown",
   "metadata": {},
   "source": [
    "This example get references to the thread objects which it can manipulate.  Joins them and then reports the aggregate sum when all threads are complete.\n",
    "\n",
    "We see that the threads exist after they are joined.\n",
    "\n",
    "But, we also see that we got the \"wrong\" answer.  That brings us to synchronization."
   ]
  },
  {
   "cell_type": "code",
   "execution_count": null,
   "metadata": {},
   "outputs": [],
   "source": []
  }
 ],
 "metadata": {
  "kernelspec": {
   "display_name": "Java",
   "language": "java",
   "name": "java"
  },
  "language_info": {
   "codemirror_mode": "java",
   "file_extension": ".jshell",
   "mimetype": "text/x-java-source",
   "name": "Java",
   "pygments_lexer": "java",
   "version": "11.0.5+10-post-Ubuntu-0ubuntu1.118.04"
  }
 },
 "nbformat": 4,
 "nbformat_minor": 4
}
