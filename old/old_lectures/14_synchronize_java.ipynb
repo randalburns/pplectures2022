{
 "cells": [
  {
   "cell_type": "markdown",
   "metadata": {},
   "source": [
    "### Synchronization and Thread Safety\n",
    "\n",
    "Uncontrolled reading and writing of shared variables leads to unpredictable outcomes.  Reading and writing without synchronization leads to __race conditions__ in which computations produce different results depending the order in which threads are executed by the operating system.\n",
    "\n",
    "<img src=\"https://i.stack.imgur.com/m7HYo.png\" width=512 title=\"Race Condition\" />\n",
    "\n",
    "The problem arises because `x = x + 1` is actually multiple operations.  Each thread:\n",
    "\n",
    "```\n",
    "reads value of x for memory\n",
    "updates local copy of x\n",
    "writes local copy to memory\n",
    "```\n",
    "\n",
    "Race conditions lead to bugs when one of the outcomes is undesirable.  It is the job of the programmer to __explicitly order__ operations so that bugs do not arise.\n",
    "\n",
    "__Thread safety__ is the idea that functions can be called from multiple threads concurrently and will produce correct results.  When you synchronize your code, it should be thread safe.\n",
    "\n",
    "We will look at several constructs for synchronization in Java:\n",
    "  * `synchronized` blocks\n",
    "  * the volatile keyword\n",
    "  * `Atomic` variables \n",
    "\n",
    "The most frequent and useful operation is to place a `synchronize` block around racing operations.  This synchronization creates a __critical section__ of code."
   ]
  },
  {
   "cell_type": "code",
   "execution_count": 1,
   "metadata": {},
   "outputs": [
    {
     "name": "stdout",
     "output_type": "stream",
     "text": [
      "Shared variable = 39686495\n",
      "Shared synchronized variable = 40000000\n"
     ]
    }
   ],
   "source": [
    "class SynchronizedWorks implements Runnable\n",
    "{\n",
    "  // Create variables for testing.\n",
    "  static int sharedvar = 0;\n",
    "  static int sharedsynchvar = 0;\n",
    "\n",
    "  public void run ()\n",
    "  { \n",
    "    for ( int i=0; i<10000000; i++ )\n",
    "    {\n",
    "      sharedvar++;\n",
    "      synchronized(SynchronizedWorks.class){sharedsynchvar++;}\n",
    "    }\n",
    "  }\n",
    "}\n",
    "\n",
    "int numthreads = 4;\n",
    "Thread[] threads = new Thread[numthreads];\n",
    "\n",
    "// create and start thread objects\n",
    "for ( int i=0; i<numthreads; i++ )\n",
    "{\n",
    "    threads[i] = new Thread ( new SynchronizedWorks() );\n",
    "    threads[i].start();\n",
    "}\n",
    "\n",
    "// Await the completion of all threads\n",
    "for ( int i=0; i<numthreads; i++ )\n",
    "{\n",
    "    threads[i].join();\n",
    "}\n",
    "\n",
    "System.out.println(\"Shared variable = \" + SynchronizedWorks.sharedvar);\n",
    "System.out.println(\"Shared synchronized variable = \" + SynchronizedWorks.sharedsynchvar);"
   ]
  },
  {
   "cell_type": "markdown",
   "metadata": {},
   "source": [
    "### synchronized\n",
    "\n",
    "* A Java `synchronize` block:\n",
    "  * Has only one thread accessing the block at a time.\n",
    "  * Is reconciled with memory at start and end of block.\n",
    "  * This notion of black is the same as OpenMP.  Single entry point, single exit point.\n",
    "      \n",
    "These guarantees ensure that the all of the operations of a thread are completed and all changes are written to a shared coherent memory before any other threads execute the block.  This is good enough to make the operation __atomic__.\n",
    "\n",
    "_Def'n_ __atomic__ a sequence of operations is executed by a processor as an indivisible unit that cannot be interrupted.\n",
    "\n",
    "This is a lame and controversial definition (see https://en.wikipedia.org/wiki/Linearizability), but is adequate for us.  The notion is that all the operations happen as an \"atom\" that cannot be divided. \n",
    "\n",
    "While we're criticizing definitions, _synchronized_ is a terrible word.  It means _v. To make two or more events happen at exactly the same time or at the same rate._  This is not what the way it's used in CS.\n",
    "\n",
    "\n",
    "### volatile\n",
    "\n",
    "Java implements the the declaration specifier `volatile`, which it inherited from C/C++.  Variables that are declared as `volatile`\n",
    "* read the variable from memory\n",
    "* write the variable to memory\n",
    "* ensure the all operators are atomic\n",
    "This seems like it might be good enough.......but alas.  The problem is that even though all operations are atomic, the combination of operations is not.\n",
    "\n",
    "I point this out because many programmers have read about volatile and thought it would get the job done.  `volatile` is an important building block for concurrency control, but not useful to application programmers directly."
   ]
  },
  {
   "cell_type": "code",
   "execution_count": 2,
   "metadata": {},
   "outputs": [
    {
     "name": "stdout",
     "output_type": "stream",
     "text": [
      "Shared variable = 12470527\n",
      "Shared volatile variable = 12859733\n"
     ]
    }
   ],
   "source": [
    "class VolatileWorks implements Runnable\n",
    "{\n",
    "  static int sharedvar = 0;\n",
    "  static volatile int sharedvolvar = 0;\n",
    "\n",
    "  public void run ()\n",
    "  {\n",
    "    for ( int i=0; i<10000000; i++ )\n",
    "    {\n",
    "      sharedvar++;\n",
    "      sharedvolvar++;\n",
    "    }\n",
    "  }\n",
    "}\n",
    "\n",
    "int numthreads = 4;\n",
    "Thread[] threads = new Thread[numthreads];\n",
    "\n",
    "// create and start thread objects\n",
    "for ( int i=0; i<numthreads; i++ )\n",
    "{\n",
    "    threads[i] = new Thread ( new VolatileWorks() );\n",
    "    threads[i].start();\n",
    "}\n",
    "\n",
    "// Await the completion of all threads\n",
    "for ( int i=0; i<numthreads; i++ )\n",
    "{\n",
    "    threads[i].join();\n",
    "}\n",
    "\n",
    "System.out.println(\"Shared variable = \" + VolatileWorks.sharedvar);\n",
    "System.out.println(\"Shared volatile variable = \" + VolatileWorks.sharedvolvar);"
   ]
  },
  {
   "cell_type": "markdown",
   "metadata": {},
   "source": [
    "### java.util.concurrent.atomic\n",
    "\n",
    "Jave also provides \"atomic\" classes that wrap all basic types.  They make all basic operations on these variables atomic through member functions.  They do so with a \"lock-free, thread safe encapsulation of fundamental types.\"  All operations are of the read/modify/write type that we will discuss in the concurrency lectutre. That doesn't mean much now.  But, they guarantee atomicity."
   ]
  },
  {
   "cell_type": "code",
   "execution_count": 2,
   "metadata": {},
   "outputs": [
    {
     "name": "stdout",
     "output_type": "stream",
     "text": [
      "Shared variable = 15572713\n",
      "Shared atomic variable = 40000000\n"
     ]
    }
   ],
   "source": [
    "import java.util.concurrent.atomic.AtomicInteger;\n",
    "\n",
    "class AtomicWorks implements Runnable\n",
    "{\n",
    "  static int sharedvar = 0;\n",
    "  static AtomicInteger sharedatomint = new AtomicInteger();\n",
    "\n",
    "  public void run ()\n",
    "  {\n",
    "    for ( int i=0; i<10000000; i++ )\n",
    "    {\n",
    "      sharedvar++;\n",
    "      sharedatomint.incrementAndGet();\n",
    "    }\n",
    "  }\n",
    "}\n",
    "\n",
    "int numthreads = 4;\n",
    "Thread[] threads = new Thread[numthreads];\n",
    "\n",
    "// create and start thread objects\n",
    "for ( int i=0; i<numthreads; i++ )\n",
    "{\n",
    "    threads[i] = new Thread ( new AtomicWorks() );\n",
    "    threads[i].start();\n",
    "}\n",
    "\n",
    "// Await the completion of all threads\n",
    "for ( int i=0; i<numthreads; i++ )\n",
    "{\n",
    "    threads[i].join();\n",
    "}\n",
    "\n",
    "System.out.println(\"Shared variable = \" + AtomicWorks.sharedvar);\n",
    "System.out.println(\"Shared atomic variable = \" + AtomicWorks.sharedatomint);"
   ]
  },
  {
   "cell_type": "markdown",
   "metadata": {},
   "source": [
    "### On Performance\n",
    "\n",
    "The relative performance of these constructs depends on many things.  Here are some guidelines.\n",
    "* Atomics are best for single operations.  \n",
    "  * they are implemented with single instruction hardware support.\n",
    "  * they have to perform reads/writes to memory on every operation\n",
    "* Sychronized blocks are more flexible and better for multiple operations\n",
    "  * they are implemented with lockiing\n",
    "  * compiler can cache values during block execution\n",
    "  * memory is written only on block exit\n",
    "\n",
    "Typical practice is to use synchronized blocks and not worry too much.  But rememeber, __all code in a sycnhronized block is running serially__, regardless of how many threads/cores/etc. your system has.  Minimize code in synchronized blocks."
   ]
  },
  {
   "cell_type": "markdown",
   "metadata": {},
   "source": [
    "## The `synchronize` bug\n",
    "\n",
    "Synchronized only applies to an object (or class). A frequent mistake is to apply to an object and assume it will synchronize all objects of this class. This type of error quite difficult to find and debug.\n",
    "\n",
    "It can be right to synchronize to an object and I have many examples.  But, our examples do the following:\n",
    "  * map an object to a thread\n",
    "  * synchronize on the class to ensure that only one thread access shared data\n",
    "  \n",
    "This approach is good parallel design and is robust."
   ]
  },
  {
   "cell_type": "code",
   "execution_count": 3,
   "metadata": {},
   "outputs": [
    {
     "name": "stdout",
     "output_type": "stream",
     "text": [
      "Shared variable = 24820557\n",
      "Shared synchronized variable = 20730602\n"
     ]
    }
   ],
   "source": [
    "class SynchronizedBug implements Runnable\n",
    "{\n",
    "  static int sharedvar = 0;\n",
    "  static int sharedsynchvar = 0;\n",
    "\n",
    "  public void run ()\n",
    "  { \n",
    "    for ( int i=0; i<10000000; i++ )\n",
    "    {\n",
    "      sharedvar++;\n",
    "      // NOTE synchronizing on object not class\n",
    "      synchronized(this){sharedsynchvar++;}\n",
    "    }\n",
    "  }\n",
    "}\n",
    "\n",
    "int numthreads = 4;\n",
    "Thread[] threads = new Thread[numthreads];\n",
    "\n",
    "// create and start thread objects\n",
    "for ( int i=0; i<numthreads; i++ )\n",
    "{\n",
    "    threads[i] = new Thread ( new SynchronizedBug() );\n",
    "    threads[i].start();\n",
    "}\n",
    "\n",
    "// Await the completion of all threads\n",
    "for ( int i=0; i<numthreads; i++ )\n",
    "{\n",
    "    threads[i].join();\n",
    "}\n",
    "\n",
    "System.out.println(\"Shared variable = \" + SynchronizedBug.sharedvar);\n",
    "System.out.println(\"Shared synchronized variable = \" + SynchronizedBug.sharedsynchvar);"
   ]
  },
  {
   "cell_type": "code",
   "execution_count": null,
   "metadata": {},
   "outputs": [],
   "source": []
  }
 ],
 "metadata": {
  "kernelspec": {
   "display_name": "Java",
   "language": "java",
   "name": "java"
  },
  "language_info": {
   "codemirror_mode": "java",
   "file_extension": ".jshell",
   "mimetype": "text/x-java-source",
   "name": "Java",
   "pygments_lexer": "java",
   "version": "11.0.5+10-post-Ubuntu-0ubuntu1.118.04"
  }
 },
 "nbformat": 4,
 "nbformat_minor": 4
}
