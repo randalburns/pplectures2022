{
 "cells": [
  {
   "cell_type": "markdown",
   "metadata": {},
   "source": [
    "## Loop Optimization\n",
    "\n",
    "This lecture is almost all by example in file [stencil.c](./openmp/omp_c/stencil.c).  \n",
    "\n",
    "The file demonstrates successive optimizations to a loop.  These include:\n",
    "\n",
    "* Choosing a memory efficient loop iteration order\n",
    "  * xy or yx iteration order for 2-d array\n",
    "<img src=\"https://images.slideplayer.com/23/6540072/slides/slide_3.jpg\" width=512 title=\"from Edgar Gabriel at UH\" />\n",
    "* Unroll loops to minimize branching inside loops (shown in `stencil_average_unrolled_omp()`)\n",
    "  * How many instructions does this eliminate?\n",
    "* Fuse loops to reduce startup costs (shown in `fused_stencil_sum_omp()`)\n",
    "* Seperate dependencies and use reductions (shown in `max_el_reduce()`)\n",
    "  * Note the the compiler actually does a reasonable job of this at `-O3`\n",
    "\n",
    "### Other Optimizations\n",
    "\n",
    "* Split loops -- rarely effective\n",
    "\n",
    "\n"
   ]
  },
  {
   "cell_type": "code",
   "execution_count": null,
   "metadata": {},
   "outputs": [],
   "source": []
  }
 ],
 "metadata": {
  "kernelspec": {
   "display_name": "Python 3",
   "language": "python",
   "name": "python3"
  },
  "language_info": {
   "codemirror_mode": {
    "name": "ipython",
    "version": 3
   },
   "file_extension": ".py",
   "mimetype": "text/x-python",
   "name": "python",
   "nbconvert_exporter": "python",
   "pygments_lexer": "ipython3",
   "version": "3.7.3"
  }
 },
 "nbformat": 4,
 "nbformat_minor": 4
}
