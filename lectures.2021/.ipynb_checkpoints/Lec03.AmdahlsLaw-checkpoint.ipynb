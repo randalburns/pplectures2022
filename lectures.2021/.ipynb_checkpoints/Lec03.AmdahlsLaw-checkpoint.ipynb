{
 "cells": [
  {
   "cell_type": "markdown",
   "id": "74b81e18-13c6-42f9-83f1-b1b7134fb213",
   "metadata": {},
   "source": [
    "## Amdahl's and Strong Scaling  \n",
    "\n",
    "Amdahl's law is the fundamental principle behind _strong scaling_ in parallel computing.  \n",
    "Strong scaling is the process of solving a problem of the _fixed size_ faster with parallel resources.  The improvement in performance is measured as _speedup_.  \n",
    "\n",
    "  * $T(1)$ = time to execute task on a single resource\n",
    "  * $T(n)$ = time to execute task on n resources\n",
    "  * Speedup = $T(1)/T(n)$\n",
    "\n",
    "Examples include:\n",
    "\n",
    "  * parallel data analysis for high-frequency trading\n",
    "  * key cracking in cryptosystems\n",
    "  * training a deep-neural network on a corpus of examples\n",
    "  \n",
    "In all, the data remains the same size and the goal is to complete the computation faster.\n",
    " \n",
    "_Activity_: write down an example problem that would benefit from speedup.\n",
    "\n",
    "### Concepts in this unit\n",
    "  * Amdahl's law\n",
    "  * strong scaling\n",
    "  * speedup\n",
    "  * speedup estimation\n",
    "  \n",
    "### Outcomes\n",
    "The ability to apply Amdahl's in both directions:\n",
    "  * to estimate scalability parameters based on a black box implementation of a parallel program\n",
    "  * to estimate how a given problem will scale based on an instrumentation of a serial program"
   ]
  },
  {
   "cell_type": "markdown",
   "id": "d0cbee9f-0791-4b84-8ffb-ad86c6ff16aa",
   "metadata": {},
   "source": [
    "## Amdahl's Law \n",
    "\n",
    "Improving a portion $p$ of a computation by factor $s$ results in an overall speedup of\n",
    "\n",
    "$$S_{\\mbox{latency}}(s) = \\frac{1}{1-p+\\frac{p}{s}}$$\n",
    "\n",
    "* _p_ is the proportion of execution time that benefits from improved resources, i.e. the parallel part\n",
    "* _(1-p)_ is the portion that does not benefit; i.e. the serial part\n",
    "* _s_ is the speedup of the optimized part\n",
    "* _S<sub>latency</sub>(s)_ theoretical speedup of the whole task\n",
    "\n",
    "Paraphrased: speedup limited to fraction improved\n",
    "\n",
    "<img src=\"./old/images/al2.png\" width=\"512\" title=\"Amdahl's Law Graph (from Greg Ganger)\" />\n",
    "\n",
    "### Visualizing Amdahl's Law\n",
    "\n",
    "Let's look at the Amdahl curve for a given parallel fraction (.95).\n"
   ]
  },
  {
   "cell_type": "code",
   "execution_count": 9,
   "id": "1832c50b-b187-443c-9dab-b04e450bcf03",
   "metadata": {},
   "outputs": [
    {
     "data": {
      "text/html": [
       "<div>\n",
       "<style scoped>\n",
       "    .dataframe tbody tr th:only-of-type {\n",
       "        vertical-align: middle;\n",
       "    }\n",
       "\n",
       "    .dataframe tbody tr th {\n",
       "        vertical-align: top;\n",
       "    }\n",
       "\n",
       "    .dataframe thead th {\n",
       "        text-align: right;\n",
       "    }\n",
       "</style>\n",
       "<table border=\"1\" class=\"dataframe\">\n",
       "  <thead>\n",
       "    <tr style=\"text-align: right;\">\n",
       "      <th></th>\n",
       "      <th>resources</th>\n",
       "      <th>speedup</th>\n",
       "    </tr>\n",
       "  </thead>\n",
       "  <tbody>\n",
       "    <tr>\n",
       "      <th>0</th>\n",
       "      <td>1</td>\n",
       "      <td>1.000000</td>\n",
       "    </tr>\n",
       "    <tr>\n",
       "      <th>1</th>\n",
       "      <td>2</td>\n",
       "      <td>1.904762</td>\n",
       "    </tr>\n",
       "    <tr>\n",
       "      <th>2</th>\n",
       "      <td>3</td>\n",
       "      <td>2.727273</td>\n",
       "    </tr>\n",
       "    <tr>\n",
       "      <th>3</th>\n",
       "      <td>4</td>\n",
       "      <td>3.478261</td>\n",
       "    </tr>\n",
       "    <tr>\n",
       "      <th>4</th>\n",
       "      <td>5</td>\n",
       "      <td>4.166667</td>\n",
       "    </tr>\n",
       "    <tr>\n",
       "      <th>...</th>\n",
       "      <td>...</td>\n",
       "      <td>...</td>\n",
       "    </tr>\n",
       "    <tr>\n",
       "      <th>59</th>\n",
       "      <td>60</td>\n",
       "      <td>15.189873</td>\n",
       "    </tr>\n",
       "    <tr>\n",
       "      <th>60</th>\n",
       "      <td>61</td>\n",
       "      <td>15.250000</td>\n",
       "    </tr>\n",
       "    <tr>\n",
       "      <th>61</th>\n",
       "      <td>62</td>\n",
       "      <td>15.308642</td>\n",
       "    </tr>\n",
       "    <tr>\n",
       "      <th>62</th>\n",
       "      <td>63</td>\n",
       "      <td>15.365854</td>\n",
       "    </tr>\n",
       "    <tr>\n",
       "      <th>63</th>\n",
       "      <td>64</td>\n",
       "      <td>15.421687</td>\n",
       "    </tr>\n",
       "  </tbody>\n",
       "</table>\n",
       "<p>64 rows × 2 columns</p>\n",
       "</div>"
      ],
      "text/plain": [
       "    resources    speedup\n",
       "0           1   1.000000\n",
       "1           2   1.904762\n",
       "2           3   2.727273\n",
       "3           4   3.478261\n",
       "4           5   4.166667\n",
       "..        ...        ...\n",
       "59         60  15.189873\n",
       "60         61  15.250000\n",
       "61         62  15.308642\n",
       "62         63  15.365854\n",
       "63         64  15.421687\n",
       "\n",
       "[64 rows x 2 columns]"
      ]
     },
     "execution_count": 9,
     "metadata": {},
     "output_type": "execute_result"
    }
   ],
   "source": [
    "import numpy as np\n",
    "import pandas as pd\n",
    "\n",
    "resources = np.array(range(1,65))\n",
    "p=0.95\n",
    "\n",
    "dfdata = {'resources': resources, 'speedup': 1/((1-p)+p/resources)}\n",
    "df = pd.DataFrame(dfdata)\n",
    "df"
   ]
  },
  {
   "cell_type": "code",
   "execution_count": 2,
   "id": "c91d3e31-bca8-4b0c-94f0-6b196df14c34",
   "metadata": {},
   "outputs": [
    {
     "data": {
      "image/png": "[encoded data removed]",
      "text/plain": [
       "<Figure size 576x432 with 1 Axes>"
      ]
     },
     "metadata": {
      "needs_background": "light"
     },
     "output_type": "display_data"
    }
   ],
   "source": [
    "%matplotlib inline\n",
    "\n",
    "import matplotlib.pyplot as plt\n",
    "\n",
    "plt.figure(figsize=(8,6))\n",
    "plt.plot(df.resources, df.speedup, linewidth=3, label='speedup')\n",
    "plt.plot(df.resources, df.resources, linewidth=3, label='ideal')\n",
    "plt.xlabel('resources')\n",
    "plt.ylabel('speedup')\n",
    "plt.legend()\n",
    "plt.show()"
   ]
  },
  {
   "cell_type": "markdown",
   "id": "7309b0ec-341a-4df7-ad03-e5af8e32684c",
   "metadata": {},
   "source": [
    "#### Linear (Ideal) Speedup\n",
    "\n",
    "According to Amdahl's law, the best speedup is achieved when $p=1$ and $S=s$.\n",
    "  * entire computation optimized\n",
    "  * doubling resources doubles speed\n",
    " \n",
    "This is the efficiency limit and is often plotted in speedup charts to see the loss of parallelism.\n",
    "\n",
    "#### Properties of a Speedup Plot\n",
    "\n",
    "* x-axis should have resources\n",
    "* y-axis should be speedup ($T(1)/T(n)$)\n",
    "* axes should be linear-linear or log-log (log-log more common)\n",
    "\n",
    "Let's compare with log-log. Same \"shape\", different scale."
   ]
  },
  {
   "cell_type": "code",
   "execution_count": 12,
   "id": "7f39f737-da1a-4a7d-9f93-c76ec734b30a",
   "metadata": {},
   "outputs": [
    {
     "data": {
      "image/png": "[encoded data removed]",
      "text/plain": [
       "<Figure size 576x432 with 1 Axes>"
      ]
     },
     "metadata": {
      "needs_background": "light"
     },
     "output_type": "display_data"
    }
   ],
   "source": [
    "plt.figure(figsize=(8,6))\n",
    "plt.plot(df.resources, df.speedup, linewidth=3, label='speedup')\n",
    "plt.plot(df.resources, df.resources, linewidth=3, label='ideal')\n",
    "plt.xlabel('resources')\n",
    "plt.ylabel('speedup')\n",
    "plt.xscale('log')\n",
    "plt.yscale('log')\n",
    "plt.legend()\n",
    "plt.show()"
   ]
  },
  {
   "cell_type": "markdown",
   "id": "71bcf92b-ff59-4e01-ba51-3b4d64b0e18e",
   "metadata": {},
   "source": [
    "### Scaling\n",
    "\n",
    "Let's now look at how performance scales as function of the parallel fraction.\n"
   ]
  },
  {
   "cell_type": "code",
   "execution_count": 14,
   "id": "0c205951-7d5a-4ab2-ae2a-09e2ba41ea5e",
   "metadata": {},
   "outputs": [
    {
     "data": {
      "text/plain": [
       "<Figure size 576x432 with 0 Axes>"
      ]
     },
     "execution_count": 14,
     "metadata": {},
     "output_type": "execute_result"
    },
    {
     "data": {
      "image/png": "[encoded data removed]",
      "text/plain": [
       "<Figure size 432x288 with 1 Axes>"
      ]
     },
     "metadata": {
      "needs_background": "light"
     },
     "output_type": "display_data"
    },
    {
     "data": {
      "text/plain": [
       "<Figure size 576x432 with 0 Axes>"
      ]
     },
     "metadata": {},
     "output_type": "display_data"
    }
   ],
   "source": [
    "%matplotlib inline\n",
    "\n",
    "from itertools import product\n",
    "import numpy as np\n",
    "import pandas as pd\n",
    "\n",
    "resources = range(1,65)\n",
    "p = [0,.5,.9,.95,.99,.999, 1.0]\n",
    "\n",
    "data_arr = np.empty((len(resources), len(p)))\n",
    "\n",
    "#initialize array -- using embedded for loops\n",
    "#for i in range(len(p)):\n",
    "#    for j in range(len(resources)):\n",
    "#        data_arr[i,j] = 1/(1-p[i]+p[i]/resources[j])  \n",
    "        \n",
    "# initiliaze array using numpy indexing\n",
    "for i,j in np.ndindex(data_arr.shape):\n",
    "    data_arr[i,j] = 1/(1-p[j]+p[j]/resources[i])  \n",
    "    \n",
    "# RB I tried to fool around with map/vectorize here and failed.\n",
    "\n",
    "df = pd.DataFrame(data=data_arr, index=resources, columns=p)\n",
    "df.plot()"
   ]
  },
  {
   "cell_type": "markdown",
   "id": "04f3587a-3f01-49cc-8a9a-154c9337752f",
   "metadata": {},
   "source": [
    "### Amdahl's law defeats parallel performance\n",
    "\n",
    "The graph indicates that even a small amount of inefficiency reduces scaleup at a modest amount of parallelism.\n",
    "Let's look at this the other way around.\n",
    "\n",
    "* Suppose you want to achieve a speedup of 80 with 100 processors, what fraction of the original computation must be optimized?"
   ]
  },
  {
   "cell_type": "code",
   "execution_count": 5,
   "id": "19af67a0-43c4-4f38-a457-fa876be79c97",
   "metadata": {},
   "outputs": [
    {
     "data": {
      "text/plain": [
       "0.9974747474747475"
      ]
     },
     "execution_count": 5,
     "metadata": {},
     "output_type": "execute_result"
    }
   ],
   "source": [
    "# 80 = 1 / ((1-p)+p/100)\n",
    "p = (100-100/80)/99\n",
    "p"
   ]
  },
  {
   "cell_type": "markdown",
   "id": "9a3dbbc9-3ecb-4cea-b814-326ece88a46a",
   "metadata": {},
   "source": [
    "So, about $1/4$ of one percent can be unoptimized (or serial). Not much!  This is the downfall of parallelism.\n",
    "\n",
    "#### So what is serial?\n",
    "\n",
    "We say 'serial' as a simple abstraction for the unoptimized portion.  Its an abstraction to reason about parallelism.\n",
    "* Sometimes literal:\n",
    "  * Code running in a single thread before the parallel part starts\n",
    "  * File I/O before launching a program\n",
    "* Sometimes metaphorical:\n",
    "  * When one/few processes are running while others are idle \n",
    "  * When parallelism introduces additional computation\n",
    "\n",
    "The unoptimized fraction of the code occurs\n",
    "when not all resources are doing useful work at full capacity.\n",
    "\n",
    "### Inferring parallelism from Amdahl's Law\n",
    "\n",
    "Simplifying unoptimized into serial and parallel allows us to infer an __Amdahl Number__ from \n",
    "the empirical performance of a code."
   ]
  },
  {
   "cell_type": "code",
   "execution_count": 15,
   "id": "16ac8d23-94be-4748-9727-4196793d2c93",
   "metadata": {},
   "outputs": [
    {
     "data": {
      "text/plain": [
       "array([0.91891892, 0.92929293, 0.92883895, 0.92252252, 0.92244338])"
      ]
     },
     "execution_count": 15,
     "metadata": {},
     "output_type": "execute_result"
    }
   ],
   "source": [
    "# we measure perforamnce as a function of processors. \n",
    "processors = np.array([2,4,8,16,32])\n",
    "speedup = np.array([1.85, 3.30, 5.34, 7.4, 9.4])\n",
    "amdahl_number = processors/(processors-1)*(1-1/speedup)\n",
    "amdahl_number"
   ]
  },
  {
   "cell_type": "markdown",
   "id": "13ae4cee-6613-4a4f-bdca-45469f8f2697",
   "metadata": {},
   "source": [
    "So, we would say that this code seems to have an Amdahl # of about .92.  The can be converted into a maximum possible speedup.\n",
    "\n",
    "* Amdahl's law implies that the unoptimized fraction of the code dictates exactly how much speedup can be obtained on __an infinite number of cores__.\n",
    "\n",
    "$$S_{\\mbox{latency}}(s) = \\frac{1}{1-p+\\frac{p}{\\infty}} = \\frac{1}{1-p}$$"
   ]
  },
  {
   "cell_type": "code",
   "execution_count": 7,
   "id": "293f4388-9c62-4024-9438-d11bcd005a82",
   "metadata": {},
   "outputs": [
    {
     "data": {
      "text/plain": [
       "12.500000000000007"
      ]
     },
     "execution_count": 7,
     "metadata": {},
     "output_type": "execute_result"
    }
   ],
   "source": [
    "slim = 1/(1-0.92)\n",
    "slim"
   ]
  },
  {
   "cell_type": "markdown",
   "id": "21a99cca-dbad-4d0e-bbde-84ca72e2cac8",
   "metadata": {},
   "source": [
    "Lets look at this limit on the speedup plot."
   ]
  },
  {
   "cell_type": "code",
   "execution_count": 16,
   "id": "ebb062c2-a148-428b-af3b-07d92ae2ff0a",
   "metadata": {},
   "outputs": [
    {
     "data": {
      "image/png": "[encoded data removed]",
      "text/plain": [
       "<Figure size 576x432 with 1 Axes>"
      ]
     },
     "metadata": {
      "needs_background": "light"
     },
     "output_type": "display_data"
    }
   ],
   "source": [
    "%matplotlib inline\n",
    "\n",
    "import numpy as np\n",
    "import pandas as pd\n",
    "import matplotlib.pyplot as plt\n",
    "\n",
    "resources = np.array(range(1,65))\n",
    "p=0.92\n",
    "\n",
    "dfdata = {'resources': resources, 'speedup': 1/((1-p)+p/resources)}\n",
    "df = pd.DataFrame(dfdata)\n",
    "\n",
    "%matplotlib inline\n",
    "\n",
    "plt.figure(figsize=(8,6))\n",
    "plt.plot(df.resources, df.speedup, linewidth=3, label='speedup')\n",
    "plt.plot(df.resources, df.resources, linewidth=3, label='ideal')\n",
    "plt.plot(df.resources, slim + 0*df.resources, linewidth=3, label='limit')\n",
    "plt.xlabel('resources')\n",
    "plt.ylabel('speedup')\n",
    "plt.legend()\n",
    "plt.show()"
   ]
  },
  {
   "cell_type": "markdown",
   "id": "5c2be741-dabf-4969-b948-8d353978d889",
   "metadata": {},
   "source": [
    "_Activity_: Given the fraction of serial computation that is optimized and unoptimized for the following code snippet\n",
    "<code>\n",
    "    \n",
    "    // 2% of serial execution spent outside of the loop\n",
    "    ...some computation here...\n",
    "\n",
    "    // 98% of serial execution spent in this loop that is parallelized\n",
    "    #pragma omp parallel for \n",
    "    for (int i=0; i<N; i++ )\n",
    "    { \n",
    "        ...other computation here...\n",
    "    }\n",
    "</code> \n",
    "\n",
    "__draw a speedup chart__ that includes\n",
    "  - 3 points on the Amdahl's law curve (give exact values),\n",
    "  - include the line of ideal parallelism that serves as an upper\n",
    "    bound for all speedup, and \n",
    "  - include the asymptote for the maximum possible speedup\n",
    "    for this code."
   ]
  },
  {
   "cell_type": "markdown",
   "id": "12841918-565a-4c2c-bcc3-d40a893b892c",
   "metadata": {},
   "source": [
    "## Parting Thoughts\n",
    "\n",
    "Performance in practice is much more complex than splitting a code into a \"unoptimized\" and \"optimized\" portion.  But we will see that Amdahl's law is incredibly useful in:\n",
    "  * Back of the envelope calculations about scalability limits (setting a speed limit)\n",
    "  * Deciding what portions of a complex software application is worth optimizing\n",
    "  \n",
    "A typical optimization process for a piece of software\n",
    "  * implement a serial solution\n",
    "  * instrument/profile code to determine how much time is spent in what steps\n",
    "  * optimize only the expensive steps \n",
    "    * it's hard work writing parallel programs (10x harder than serial)\n",
    "    * or choose not to parallelize, because the speedup limit is not good enough\n",
    "    \n",
    "So we use Amdahl's law to:\n",
    "  * choose whether to parallelize a solution\n",
    "  * pick what part of our program to optimize"
   ]
  },
  {
   "cell_type": "code",
   "execution_count": null,
   "id": "e0c0b6ff-4828-4802-8962-dc9818135e98",
   "metadata": {},
   "outputs": [],
   "source": []
  }
 ],
 "metadata": {
  "kernelspec": {
   "display_name": "Python 3",
   "language": "python",
   "name": "python3"
  },
  "language_info": {
   "codemirror_mode": {
    "name": "ipython",
    "version": 3
   },
   "file_extension": ".py",
   "mimetype": "text/x-python",
   "name": "python",
   "nbconvert_exporter": "python",
   "pygments_lexer": "ipython3",
   "version": "3.9.5"
  }
 },
 "nbformat": 4,
 "nbformat_minor": 5
}
