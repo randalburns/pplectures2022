{
 "cells": [
  {
   "cell_type": "markdown",
   "id": "1a67f85d-6cac-47aa-ab01-3bb1654d7099",
   "metadata": {},
   "source": [
    "###  Homework 1.5: All Possible Regressions\n",
    "\n",
    "This is a quick assignment, not an entire project.  I would expect it to only take a couple of hours to complete. The start of this notebook develops the example.  You will then parallelize the exammple using `joblib`. Fill out the requested cells.\n",
    "\n",
    "**Due date**: October 1, 2021, 5:00 pm EDT.\n",
    "\n",
    "\n",
    "#### Example code\n",
    "\n",
    "This is a Python reimplementation of the Section 3.4. in _Matloff_, Parallel Computing for Data Science. It is based on data from https://www.kaggle.com/divan0/multiple-linear-regression. The notebook asks the question what combination of variables best predict the price of a house."
   ]
  },
  {
   "cell_type": "code",
   "execution_count": 2,
   "id": "a9525a93-0b4e-4a25-bf87-d4335132cffc",
   "metadata": {},
   "outputs": [
    {
     "data": {
      "text/html": [
       "<div>\n",
       "<style scoped>\n",
       "    .dataframe tbody tr th:only-of-type {\n",
       "        vertical-align: middle;\n",
       "    }\n",
       "\n",
       "    .dataframe tbody tr th {\n",
       "        vertical-align: top;\n",
       "    }\n",
       "\n",
       "    .dataframe thead th {\n",
       "        text-align: right;\n",
       "    }\n",
       "</style>\n",
       "<table border=\"1\" class=\"dataframe\">\n",
       "  <thead>\n",
       "    <tr style=\"text-align: right;\">\n",
       "      <th></th>\n",
       "      <th>id</th>\n",
       "      <th>date</th>\n",
       "      <th>price</th>\n",
       "      <th>bedrooms</th>\n",
       "      <th>bathrooms</th>\n",
       "      <th>sqft_living</th>\n",
       "      <th>sqft_lot</th>\n",
       "      <th>floors</th>\n",
       "      <th>waterfront</th>\n",
       "      <th>view</th>\n",
       "      <th>...</th>\n",
       "      <th>grade</th>\n",
       "      <th>sqft_above</th>\n",
       "      <th>sqft_basement</th>\n",
       "      <th>yr_built</th>\n",
       "      <th>yr_renovated</th>\n",
       "      <th>zipcode</th>\n",
       "      <th>lat</th>\n",
       "      <th>long</th>\n",
       "      <th>sqft_living15</th>\n",
       "      <th>sqft_lot15</th>\n",
       "    </tr>\n",
       "  </thead>\n",
       "  <tbody>\n",
       "    <tr>\n",
       "      <th>0</th>\n",
       "      <td>7129300520</td>\n",
       "      <td>20141013T000000</td>\n",
       "      <td>221900.0</td>\n",
       "      <td>3</td>\n",
       "      <td>1.00</td>\n",
       "      <td>1180</td>\n",
       "      <td>5650</td>\n",
       "      <td>1.0</td>\n",
       "      <td>0</td>\n",
       "      <td>0</td>\n",
       "      <td>...</td>\n",
       "      <td>7</td>\n",
       "      <td>1180.0</td>\n",
       "      <td>0</td>\n",
       "      <td>1955</td>\n",
       "      <td>0</td>\n",
       "      <td>98178</td>\n",
       "      <td>47.5112</td>\n",
       "      <td>-122.257</td>\n",
       "      <td>1340</td>\n",
       "      <td>5650</td>\n",
       "    </tr>\n",
       "    <tr>\n",
       "      <th>1</th>\n",
       "      <td>6414100192</td>\n",
       "      <td>20141209T000000</td>\n",
       "      <td>538000.0</td>\n",
       "      <td>3</td>\n",
       "      <td>2.25</td>\n",
       "      <td>2570</td>\n",
       "      <td>7242</td>\n",
       "      <td>2.0</td>\n",
       "      <td>0</td>\n",
       "      <td>0</td>\n",
       "      <td>...</td>\n",
       "      <td>7</td>\n",
       "      <td>2170.0</td>\n",
       "      <td>400</td>\n",
       "      <td>1951</td>\n",
       "      <td>1991</td>\n",
       "      <td>98125</td>\n",
       "      <td>47.7210</td>\n",
       "      <td>-122.319</td>\n",
       "      <td>1690</td>\n",
       "      <td>7639</td>\n",
       "    </tr>\n",
       "    <tr>\n",
       "      <th>2</th>\n",
       "      <td>5631500400</td>\n",
       "      <td>20150225T000000</td>\n",
       "      <td>180000.0</td>\n",
       "      <td>2</td>\n",
       "      <td>1.00</td>\n",
       "      <td>770</td>\n",
       "      <td>10000</td>\n",
       "      <td>1.0</td>\n",
       "      <td>0</td>\n",
       "      <td>0</td>\n",
       "      <td>...</td>\n",
       "      <td>6</td>\n",
       "      <td>770.0</td>\n",
       "      <td>0</td>\n",
       "      <td>1933</td>\n",
       "      <td>0</td>\n",
       "      <td>98028</td>\n",
       "      <td>47.7379</td>\n",
       "      <td>-122.233</td>\n",
       "      <td>2720</td>\n",
       "      <td>8062</td>\n",
       "    </tr>\n",
       "    <tr>\n",
       "      <th>3</th>\n",
       "      <td>2487200875</td>\n",
       "      <td>20141209T000000</td>\n",
       "      <td>604000.0</td>\n",
       "      <td>4</td>\n",
       "      <td>3.00</td>\n",
       "      <td>1960</td>\n",
       "      <td>5000</td>\n",
       "      <td>1.0</td>\n",
       "      <td>0</td>\n",
       "      <td>0</td>\n",
       "      <td>...</td>\n",
       "      <td>7</td>\n",
       "      <td>1050.0</td>\n",
       "      <td>910</td>\n",
       "      <td>1965</td>\n",
       "      <td>0</td>\n",
       "      <td>98136</td>\n",
       "      <td>47.5208</td>\n",
       "      <td>-122.393</td>\n",
       "      <td>1360</td>\n",
       "      <td>5000</td>\n",
       "    </tr>\n",
       "    <tr>\n",
       "      <th>4</th>\n",
       "      <td>1954400510</td>\n",
       "      <td>20150218T000000</td>\n",
       "      <td>510000.0</td>\n",
       "      <td>3</td>\n",
       "      <td>2.00</td>\n",
       "      <td>1680</td>\n",
       "      <td>8080</td>\n",
       "      <td>1.0</td>\n",
       "      <td>0</td>\n",
       "      <td>0</td>\n",
       "      <td>...</td>\n",
       "      <td>8</td>\n",
       "      <td>1680.0</td>\n",
       "      <td>0</td>\n",
       "      <td>1987</td>\n",
       "      <td>0</td>\n",
       "      <td>98074</td>\n",
       "      <td>47.6168</td>\n",
       "      <td>-122.045</td>\n",
       "      <td>1800</td>\n",
       "      <td>7503</td>\n",
       "    </tr>\n",
       "  </tbody>\n",
       "</table>\n",
       "<p>5 rows × 21 columns</p>\n",
       "</div>"
      ],
      "text/plain": [
       "           id             date     price  bedrooms  bathrooms  sqft_living  \\\n",
       "0  7129300520  20141013T000000  221900.0         3       1.00         1180   \n",
       "1  6414100192  20141209T000000  538000.0         3       2.25         2570   \n",
       "2  5631500400  20150225T000000  180000.0         2       1.00          770   \n",
       "3  2487200875  20141209T000000  604000.0         4       3.00         1960   \n",
       "4  1954400510  20150218T000000  510000.0         3       2.00         1680   \n",
       "\n",
       "   sqft_lot  floors  waterfront  view  ...  grade  sqft_above  sqft_basement  \\\n",
       "0      5650     1.0           0     0  ...      7      1180.0              0   \n",
       "1      7242     2.0           0     0  ...      7      2170.0            400   \n",
       "2     10000     1.0           0     0  ...      6       770.0              0   \n",
       "3      5000     1.0           0     0  ...      7      1050.0            910   \n",
       "4      8080     1.0           0     0  ...      8      1680.0              0   \n",
       "\n",
       "   yr_built  yr_renovated  zipcode      lat     long  sqft_living15  \\\n",
       "0      1955             0    98178  47.5112 -122.257           1340   \n",
       "1      1951          1991    98125  47.7210 -122.319           1690   \n",
       "2      1933             0    98028  47.7379 -122.233           2720   \n",
       "3      1965             0    98136  47.5208 -122.393           1360   \n",
       "4      1987             0    98074  47.6168 -122.045           1800   \n",
       "\n",
       "   sqft_lot15  \n",
       "0        5650  \n",
       "1        7639  \n",
       "2        8062  \n",
       "3        5000  \n",
       "4        7503  \n",
       "\n",
       "[5 rows x 21 columns]"
      ]
     },
     "execution_count": 2,
     "metadata": {},
     "output_type": "execute_result"
    }
   ],
   "source": [
    "import numpy as np\n",
    "import matplotlib.pyplot as plt\n",
    "import pandas as pd\n",
    "\n",
    "%matplotlib inline\n",
    "\n",
    "#importing dataset using panda\n",
    "dataset = pd.read_csv('../data/kc_house_data.csv')\n",
    "#to see what my dataset is comprised of\n",
    "dataset.head()"
   ]
  },
  {
   "cell_type": "code",
   "execution_count": 3,
   "id": "06ad55ee-ba79-4673-b693-ebca04f1bb77",
   "metadata": {},
   "outputs": [],
   "source": [
    "#dropping the id and date column\n",
    "dataset = dataset.drop(['id','date'], axis = 1)\n",
    "\n",
    "# clean out NaN and inf values\n",
    "dataset = dataset[~dataset.isin([np.nan, np.inf, -np.inf]).any(1)]"
   ]
  },
  {
   "cell_type": "markdown",
   "id": "f724288c-e17e-46a4-939b-c5ec0fc34a3b",
   "metadata": {},
   "source": [
    "Let's first do a simple regression. How does square footage predict price? "
   ]
  },
  {
   "cell_type": "code",
   "execution_count": 4,
   "id": "cbd8b494-d600-4bc9-9af7-15bef7796fb5",
   "metadata": {},
   "outputs": [
    {
     "name": "stdout",
     "output_type": "stream",
     "text": [
      "coefficient of determination: 0.4928817196006995\n"
     ]
    }
   ],
   "source": [
    "from sklearn.linear_model import LinearRegression\n",
    "\n",
    "X = np.array(dataset.sqft_living)\n",
    "Y = np.array(dataset.price)\n",
    "\n",
    "# shape X into matrix of a single column\n",
    "X = X.reshape((X.shape[0],1))\n",
    "\n",
    "model = LinearRegression()\n",
    "model.fit(X,Y)\n",
    "r_sq = model.score(X,Y)\n",
    "print('coefficient of determination:', r_sq)"
   ]
  },
  {
   "cell_type": "code",
   "execution_count": 5,
   "id": "97519567-fe0a-439e-a7e7-d97e4d56dea7",
   "metadata": {},
   "outputs": [
    {
     "data": {
      "image/png": "[encoded data removed]",
      "text/plain": [
       "<Figure size 432x288 with 1 Axes>"
      ]
     },
     "metadata": {},
     "output_type": "display_data"
    }
   ],
   "source": [
    "%matplotlib inline\n",
    "import matplotlib.pyplot as plt\n",
    "\n",
    "# scatter data\n",
    "plt.plot(X,Y,'o')\n",
    "# best fit line\n",
    "y_pred = model.intercept_ + model.coef_ * X\n",
    "plt.plot(X, y_pred, color='red', linewidth=3)\n",
    "\n",
    "plt.xticks(())\n",
    "plt.yticks(())\n",
    "\n",
    "plt.show()"
   ]
  },
  {
   "cell_type": "markdown",
   "id": "c639cbb5-6bdd-4032-812a-5bf8e0174833",
   "metadata": {},
   "source": [
    "We see that there is a strong correlation between square footage and house price.  The coefficient of determination measures the strength of the correlation and varies between 0 (no correlation) and 1.0 (perfectly correlated)."
   ]
  },
  {
   "cell_type": "markdown",
   "id": "0e2d9af2-3882-4c1d-9f58-038567ffd5ac",
   "metadata": {},
   "source": [
    "### Multiple Linear Regression\n",
    "\n",
    "Adding more variables often improves the score."
   ]
  },
  {
   "cell_type": "code",
   "execution_count": 6,
   "id": "fccb721f-db9f-4c58-ad3b-d7ed629791a2",
   "metadata": {},
   "outputs": [
    {
     "name": "stdout",
     "output_type": "stream",
     "text": [
      "coefficient of determination: 0.5249639858277426\n"
     ]
    }
   ],
   "source": [
    "X = np.array(dataset[['sqft_living','condition','yr_built']])\n",
    "Y = np.array(dataset.price)\n",
    "\n",
    "# shape X into matrix of a single column\n",
    "X = X.reshape((X.shape[0],3))\n",
    "\n",
    "model = LinearRegression()\n",
    "model.fit(X,Y)\n",
    "r_sq = model.score(X,Y)\n",
    "print('coefficient of determination:', r_sq)"
   ]
  },
  {
   "cell_type": "markdown",
   "id": "e900ab88-873c-4290-9d99-723cef811c6d",
   "metadata": {},
   "source": [
    "but some variables are confounding"
   ]
  },
  {
   "cell_type": "code",
   "execution_count": 7,
   "id": "ff60bd53-6ebc-4f13-8c78-5e81992aebd4",
   "metadata": {},
   "outputs": [
    {
     "name": "stdout",
     "output_type": "stream",
     "text": [
      "coefficient of determination: 0.13588749977708692\n"
     ]
    }
   ],
   "source": [
    "X = np.array(dataset[['zipcode','floors','waterfront']])\n",
    "Y = np.array(dataset.price)\n",
    "\n",
    "# shape X into matrix of a single column\n",
    "X = X.reshape((X.shape[0],3))\n",
    "\n",
    "model = LinearRegression()\n",
    "model.fit(X,Y)\n",
    "r_sq = model.score(X,Y)\n",
    "print('coefficient of determination:', r_sq)"
   ]
  },
  {
   "cell_type": "markdown",
   "id": "1d948a45-a861-423a-b2ce-8fcf1bf976c3",
   "metadata": {},
   "source": [
    "This leads to a first parallel program.  What are the right set of variables? A brute force approach called _All Possible Regressions_ examines all combinations. So, let's build a big matrix that and we will regress on subsets.  We will look at all combinations of 1, 2, or 3 variables."
   ]
  },
  {
   "cell_type": "code",
   "execution_count": 8,
   "id": "615005bd-f622-43a0-a844-c32f11e2676d",
   "metadata": {},
   "outputs": [],
   "source": [
    "from itertools import combinations, chain\n",
    "\n",
    "Y = np.array(dataset.price)\n",
    "X = np.array(dataset.drop(['price'], axis=1))\n",
    "\n",
    "## Let's choose all combinations of 1, 2, and 3 columns.\n",
    "col_idxs = np.array(range(X.shape[1]))\n",
    "combos = list(chain(combinations(col_idxs, 1), combinations(col_idxs, 2), combinations(col_idxs, 3)))"
   ]
  },
  {
   "cell_type": "code",
   "execution_count": 11,
   "id": "bc919ff9-24aa-4a9b-a4ee-efc84f8b51d9",
   "metadata": {},
   "outputs": [
    {
     "name": "stdout",
     "output_type": "stream",
     "text": [
      "0.6095149101819037 (2, 6, 14)\n"
     ]
    }
   ],
   "source": [
    "model = LinearRegression()\n",
    "\n",
    "# do in a for loop (dumbest way)\n",
    "r_sq_best = 0.0\n",
    "for combo in combos:\n",
    "    Xp = X[:,combo]\n",
    "    model = model.fit(Xp,Y)\n",
    "    r_sq = model.score(Xp,Y)\n",
    "    if r_sq > r_sq_best:\n",
    "        r_sq_best = r_sq\n",
    "        combo_best = combo\n",
    "    \n",
    "print(r_sq_best, combo_best)"
   ]
  },
  {
   "cell_type": "markdown",
   "id": "603e45b6-80e4-4c6c-9a2f-1e8a728b1e5b",
   "metadata": {},
   "source": [
    "The outcome is kind of crazy. The fields are `sqft-living`, `view`, and `latitude`. Latitude is probably a somewhat accurate proxy for wealth in this area, e.g. N of town richer than south of town. But, this is the kind of outcome that would not translate to other regions, i.e. is likely specific to this data.  _Neat_.\n",
    "\n",
    "Back to performance."
   ]
  },
  {
   "cell_type": "code",
   "execution_count": 16,
   "id": "0e8377d0-63a9-439c-be04-92d19f25e71c",
   "metadata": {},
   "outputs": [
    {
     "name": "stdout",
     "output_type": "stream",
     "text": [
      "1.07 s ± 27.5 ms per loop (mean ± std. dev. of 7 runs, 1 loop each)\n"
     ]
    }
   ],
   "source": [
    "%%timeit\n",
    "model = LinearRegression()\n",
    "\n",
    "r_sq_best = 0.0\n",
    "for combo in combos:\n",
    "    Xp = X[:,combo]\n",
    "    model = model.fit(Xp,Y)\n",
    "    r_sq = model.score(Xp,Y)\n",
    "    if r_sq > r_sq_best:\n",
    "        r_sq_best = r_sq\n",
    "        combo_best = combo"
   ]
  },
  {
   "cell_type": "markdown",
   "id": "9f8f2fb1-6df7-4902-9e5a-ed4ccfc231a1",
   "metadata": {},
   "source": [
    "Let's see if flattening the loop matters. Replace for loop with a list comprehension of all combination of variables."
   ]
  },
  {
   "cell_type": "code",
   "execution_count": 19,
   "id": "7993f4bd-6331-42f5-b909-31c6f1b659cf",
   "metadata": {},
   "outputs": [],
   "source": [
    "def r_sq_regression (combo):\n",
    "    Xp = X[:,combo]\n",
    "    model = LinearRegression()\n",
    "    model = model.fit(Xp,Y)\n",
    "    return model.score(Xp,Y)"
   ]
  },
  {
   "cell_type": "code",
   "execution_count": 21,
   "id": "96184a66-012a-4068-a462-677fcafb2ba7",
   "metadata": {},
   "outputs": [
    {
     "name": "stdout",
     "output_type": "stream",
     "text": [
      "[(2, 6, 14) 0.6095149101819037]\n"
     ]
    }
   ],
   "source": [
    "r_sq_list = [ (combo, r_sq_regression(combo)) for combo in combos ]\n",
    "r_sq_arr = np.array(r_sq_list, dtype=object)\n",
    "r_sq_idx = np.argmax(r_sq_arr[:,1])\n",
    "print(r_sq_arr[r_sq_idx])"
   ]
  },
  {
   "cell_type": "code",
   "execution_count": 23,
   "id": "efbf14c0-c47c-4b51-aed3-cde5f1b9af7e",
   "metadata": {},
   "outputs": [
    {
     "name": "stdout",
     "output_type": "stream",
     "text": [
      "1.06 s ± 9.42 ms per loop (mean ± std. dev. of 7 runs, 1 loop each)\n"
     ]
    }
   ],
   "source": [
    "%%timeit\n",
    "r_sq_list = [ (combo, r_sq_regression(combo)) for combo in combos ]\n",
    "r_sq_arr = np.array(r_sq_list, dtype=object)\n",
    "r_sq_idx = np.argmax(r_sq_arr[:,1])"
   ]
  },
  {
   "cell_type": "markdown",
   "id": "e3298cb7-ab53-4a34-8442-883faa04a8ab",
   "metadata": {},
   "source": [
    "It didn't seem to help. But, this is a step toward parallelization.\n",
    "\n",
    "#### Exercise (This is the assignment)\n",
    "\n",
    "1. Use `joblib.Parallel` and `joblib.delayed` to parallelize the computation of the calls to `r_sq_regression`. \n",
    "    1. In one cell, print the answer to verify that your parallel program is correct.\n",
    "    2. In another cell time the computation. What is the speedup at `n_jobs=4`?"
   ]
  },
  {
   "cell_type": "code",
   "execution_count": 69,
   "id": "d1194559-1102-4978-bc80-a4911dddf37f",
   "metadata": {},
   "outputs": [
    {
     "name": "stdout",
     "output_type": "stream",
     "text": [
      "0.6095149101819037 (2, 6, 14)\n"
     ]
    }
   ],
   "source": [
    "# code for 1A\n",
    "from joblib import Parallel, delayed\n",
    "r_sq_arr = Parallel(n_jobs=4)(delayed(r_sq_regression)(combo) for combo in combos)\n",
    "r_sq_idx = np.argmax(r_sq_arr)\n",
    "print(r_sq_arr[r_sq_idx], combos[r_sq_idx])"
   ]
  },
  {
   "cell_type": "code",
   "execution_count": 25,
   "id": "3643a3bb-383c-4da9-aa94-e2f35e9b67ad",
   "metadata": {},
   "outputs": [
    {
     "name": "stdout",
     "output_type": "stream",
     "text": [
      "751 ms ± 21.5 ms per loop (mean ± std. dev. of 7 runs, 1 loop each)\n"
     ]
    }
   ],
   "source": [
    "%%timeit \n",
    "# code for 1B \n",
    "r_sq_arr = Parallel(n_jobs=4)(delayed(r_sq_regression)(combo) for combo in combos)\n",
    "r_sq_idx = np.argmax(r_sq_arr)"
   ]
  },
  {
   "cell_type": "markdown",
   "id": "ed98d844-2cb4-4760-928d-bc2511399d9d",
   "metadata": {},
   "source": [
    "#### Answer for 1B"
   ]
  },
  {
   "cell_type": "code",
   "execution_count": 26,
   "id": "c287ff78-f2db-46a4-a331-a66e8a52842f",
   "metadata": {},
   "outputs": [
    {
     "name": "stdout",
     "output_type": "stream",
     "text": [
      "1.23 s ± 95.1 ms per loop (mean ± std. dev. of 7 runs, 1 loop each)\n"
     ]
    }
   ],
   "source": [
    "%%timeit \n",
    "r_sq_arr = Parallel(n_jobs=2)(delayed(r_sq_regression)(combo) for combo in combos)\n",
    "r_sq_idx = np.argmax(r_sq_arr)"
   ]
  },
  {
   "cell_type": "code",
   "execution_count": 27,
   "id": "59959e6e-d8bf-4475-bdb0-58324d0d74ba",
   "metadata": {},
   "outputs": [
    {
     "name": "stdout",
     "output_type": "stream",
     "text": [
      "786 ms ± 6.1 ms per loop (mean ± std. dev. of 7 runs, 1 loop each)\n"
     ]
    }
   ],
   "source": [
    "%%timeit \n",
    "r_sq_arr = Parallel(n_jobs=6)(delayed(r_sq_regression)(combo) for combo in combos)\n",
    "r_sq_idx = np.argmax(r_sq_arr)"
   ]
  },
  {
   "cell_type": "markdown",
   "id": "ec4d94a2-fb3d-4d04-a315-6c913e677fad",
   "metadata": {},
   "source": [
    "2. Use the batch size parameter to vary the number of jobs in each batch from 1,2,...128 @ n_jobs=4. \n",
    "   1. Plot your results (use %timeit -o to capture output)\n",
    "   3. Model the problem as having three performance components: a fixed startup cost per batch ($C_B$) and perfect parallelism.  Estimate the batch startup cost (give a range). Is this a good model?  Explain."
   ]
  },
  {
   "cell_type": "code",
   "execution_count": 43,
   "id": "0ebbd6e8-16ae-4a89-bed8-05f10bda3f17",
   "metadata": {},
   "outputs": [
    {
     "name": "stdout",
     "output_type": "stream",
     "text": [
      "1.85 s ± 154 ms per loop (mean ± std. dev. of 7 runs, 1 loop each)\n",
      "1.12 s ± 30.5 ms per loop (mean ± std. dev. of 7 runs, 1 loop each)\n",
      "979 ms ± 197 ms per loop (mean ± std. dev. of 7 runs, 1 loop each)\n",
      "873 ms ± 134 ms per loop (mean ± std. dev. of 7 runs, 1 loop each)\n",
      "823 ms ± 80.2 ms per loop (mean ± std. dev. of 7 runs, 1 loop each)\n",
      "724 ms ± 59.6 ms per loop (mean ± std. dev. of 7 runs, 1 loop each)\n",
      "686 ms ± 31.9 ms per loop (mean ± std. dev. of 7 runs, 1 loop each)\n",
      "660 ms ± 24.8 ms per loop (mean ± std. dev. of 7 runs, 1 loop each)\n",
      "643 ms ± 7.66 ms per loop (mean ± std. dev. of 7 runs, 1 loop each)\n",
      "[(1, 1.8528281857101578), (2, 1.1172747857095342), (4, 0.9791148142830934), (8, 0.8734947428581238), (16, 0.8231251428577318), (32, 0.7237191142838648), (64, 0.6862323285729092), (128, 0.6601556142850313), (256, 0.6427002428515282)]\n"
     ]
    }
   ],
   "source": [
    "# code for 2A\n",
    "from joblib import Parallel, delayed\n",
    "\n",
    "timings = list()\n",
    "for i in [1,2,4,8,16,32,64,128]: \n",
    "  result = %timeit -o Parallel(n_jobs=4, batch_size=i)(delayed(r_sq_regression)(combo) for combo in combos)\n",
    "  timings.append((i,result.average))\n",
    "    \n",
    "print(timings)"
   ]
  },
  {
   "cell_type": "code",
   "execution_count": 44,
   "id": "f3b5cf1b-4914-4294-8077-844c16e8aabc",
   "metadata": {},
   "outputs": [
    {
     "name": "stderr",
     "output_type": "stream",
     "text": [
      "No handles with labels found to put in legend.\n"
     ]
    },
    {
     "data": {
      "image/png": "[encoded data removed]",
      "text/plain": [
       "<Figure size 576x432 with 1 Axes>"
      ]
     },
     "metadata": {
      "needs_background": "light"
     },
     "output_type": "display_data"
    }
   ],
   "source": [
    "%matplotlib inline\n",
    "\n",
    "import pandas as pd\n",
    "\n",
    "df = pd.DataFrame(data=timings, columns=['batch_size', 'time'])\n",
    "\n",
    "plt.figure(figsize=(8,6))\n",
    "plt.plot(df.batch_size, df.time, linewidth=3)\n",
    "plt.xlabel('batch size')\n",
    "plt.ylabel('time')\n",
    "plt.legend()\n",
    "plt.show()"
   ]
  },
  {
   "cell_type": "code",
   "execution_count": 66,
   "id": "a3b23ce8-19a3-4505-9904-f042ec73745e",
   "metadata": {},
   "outputs": [
    {
     "name": "stdout",
     "output_type": "stream",
     "text": [
      "[983. 490. 243. 120.  58.  27.  12.   4.   0.]\n"
     ]
    },
    {
     "name": "stderr",
     "output_type": "stream",
     "text": [
      "<ipython-input-66-90681056edb5>:8: RuntimeWarning: invalid value encountered in true_divide\n",
      "  result/result2\n"
     ]
    },
    {
     "data": {
      "text/plain": [
       "array([0.00123106, 0.00096852, 0.00138442, 0.00192329, 0.00311077,\n",
       "       0.0030007 , 0.00362767, 0.00436384,        nan])"
      ]
     },
     "execution_count": 66,
     "metadata": {},
     "output_type": "execute_result"
    }
   ],
   "source": [
    "# code for 2B\n",
    "import numpy as np\n",
    "import math\n",
    "\n",
    "ar =np.array(timings)\n",
    "result = (ar[:,1]-ar[-1,1])\n",
    "result2 = np.ceil(987/ar[:,0])-4\n",
    "print(result2)\n",
    "result/result2"
   ]
  },
  {
   "cell_type": "markdown",
   "id": "9d662db6-2c99-45c2-a71b-a4482c454371",
   "metadata": {},
   "source": [
    "#### Answer for 2B"
   ]
  },
  {
   "cell_type": "markdown",
   "id": "57b3cb77-8d34-4eab-bc1a-09fd8266a07f",
   "metadata": {},
   "source": [
    "3) Run the job with `prefer='threads'` and `prefer='processes'`. Which is faster? Assuming that `LinearRegression.fit()` consumes almost all the runtime, what can you conclude about `LinearRegression.fit()`?  "
   ]
  },
  {
   "cell_type": "code",
   "execution_count": 67,
   "id": "192d3aed-d2c7-45c8-83bd-83462fdc24bb",
   "metadata": {},
   "outputs": [
    {
     "name": "stdout",
     "output_type": "stream",
     "text": [
      "2.13 s ± 77.4 ms per loop (mean ± std. dev. of 7 runs, 1 loop each)\n",
      "831 ms ± 25.1 ms per loop (mean ± std. dev. of 7 runs, 1 loop each)\n"
     ]
    }
   ],
   "source": [
    "# Code for 3\n",
    "from joblib import Parallel, delayed\n",
    "\n",
    "# check out batch sizes\n",
    "%timeit Parallel(n_jobs=4, prefer='threads')(delayed(r_sq_regression)(combo) for combo in combos)\n",
    "%timeit Parallel(n_jobs=4, prefer='processes')(delayed(r_sq_regression)(combo) for combo in combos)"
   ]
  },
  {
   "cell_type": "markdown",
   "id": "3b831431-437f-48e8-b24c-3952a8ab2ebf",
   "metadata": {},
   "source": [
    "#### Answer to 3"
   ]
  },
  {
   "cell_type": "markdown",
   "id": "9e1fa4e7-7227-4bf8-ad6e-98ad818d8964",
   "metadata": {},
   "source": [
    "Let's try making the call only to the scikit-learn and see if our function is the problem with the GIL.   This ends up very interesting.  It makes threading faster, because the GIL is less of a problem, but it's a problem to serialize/marshall the model objects across the processes.  So, no easy fix for this code.  **Careful** the processes call will crash your Jupyter. "
   ]
  },
  {
   "cell_type": "code",
   "execution_count": 68,
   "id": "a1af01d9-c9ea-485f-977d-f753f5205df8",
   "metadata": {},
   "outputs": [
    {
     "name": "stdout",
     "output_type": "stream",
     "text": [
      "1.71 s ± 275 ms per loop (mean ± std. dev. of 7 runs, 1 loop each)\n"
     ]
    }
   ],
   "source": [
    "from joblib import Parallel, delayed\n",
    "\n",
    "%timeit Parallel(n_jobs=4, prefer='threads')(delayed(LinearRegression().fit)(X[:,combo],Y) for combo in combos)\n",
    "#%timeit Parallel(n_jobs=4, prefer='processes')(delayed(LinearRegression().fit)(X[:,combo],Y) for combo in combos)\n",
    "\n"
   ]
  },
  {
   "cell_type": "markdown",
   "id": "f485dd17-f2ed-4bbb-afc4-d8d9dc270a6b",
   "metadata": {},
   "source": [
    "Explore dispatch, dynamic schedule"
   ]
  },
  {
   "cell_type": "code",
   "execution_count": 15,
   "id": "5b40a4c1-5914-42e1-8396-605827e2eb3f",
   "metadata": {},
   "outputs": [
    {
     "name": "stdout",
     "output_type": "stream",
     "text": [
      "1.46 s ± 153 ms per loop (mean ± std. dev. of 7 runs, 1 loop each)\n",
      "1.85 s ± 302 ms per loop (mean ± std. dev. of 7 runs, 1 loop each)\n",
      "1.83 s ± 112 ms per loop (mean ± std. dev. of 7 runs, 1 loop each)\n"
     ]
    }
   ],
   "source": [
    "from joblib import Parallel, delayed\n",
    "\n",
    "%timeit Parallel(n_jobs=4, pre_dispatch=4)(delayed(LinearRegression().fit)(X[:,combo],Y) for combo in combos)\n",
    "%timeit Parallel(n_jobs=4, pre_dispatch=64)(delayed(LinearRegression().fit)(X[:,combo],Y) for combo in combos)\n",
    "%timeit Parallel(n_jobs=4, pre_dispatch='all')(delayed(LinearRegression().fit)(X[:,combo],Y) for combo in combos)\n",
    "#%timeit Parallel(n_jobs=4, prefer='processes')(delayed(LinearRegression().fit)(X[:,combo],Y) for combo in combo"
   ]
  },
  {
   "cell_type": "markdown",
   "id": "e299edc2-6ca5-4c3d-a6e6-9f4083b1f4df",
   "metadata": {},
   "source": [
    "**RBTODO** work on decomposition issues with dask.\n",
    "\n",
    "### Reusing Work with \n",
    "\n",
    "$$\\beta = (X'X)^{-1}X'Y$$\n",
    "\n",
    "this example is driven from https://online.stat.psu.edu/stat462/node/132/\n",
    "\n",
    "making sure that we have the linear algebra right.  The standard is to add a constant term to the predictor matrix, that is the column of ones."
   ]
  },
  {
   "cell_type": "code",
   "execution_count": 16,
   "id": "a2e05a8e-9ab2-4ab9-90e6-285de2db1fb4",
   "metadata": {},
   "outputs": [
    {
     "name": "stdout",
     "output_type": "stream",
     "text": [
      "[[ 4.46428571 -0.78571429]\n",
      " [-0.78571429  0.14285714]]\n",
      "[[-2.67857143]\n",
      " [ 9.5       ]]\n"
     ]
    }
   ],
   "source": [
    "import numpy as np\n",
    "\n",
    "X1 = np.ones([7,1])\n",
    "X2 = np.array([[4.0], [4.5], [5.0], [5.5], [6.0], [6.5], [7.0]])\n",
    "\n",
    "Y = np.array([[33], [42], [45], [51], [53], [61], [62]])\n",
    "\n",
    "X = np.append(X1,X2,axis=1)\n",
    "XtX = (X.transpose().dot(X))\n",
    "\n",
    "XtXi = np.linalg.inv(XtX)\n",
    "\n",
    "print(XtXi)\n",
    "\n",
    "XtY = X.transpose().dot(Y)\n",
    "\n",
    "#print(XtY)\n",
    "\n",
    "beta = XtXi.dot(XtY)\n",
    "\n",
    "print(beta)"
   ]
  },
  {
   "cell_type": "markdown",
   "id": "9408add0-29d3-45ad-a990-e5b4bdf293b3",
   "metadata": {},
   "source": [
    "Validate against python. OK interesing it's not exactly the same, but it becomes the same when we use `fit_intercept`"
   ]
  },
  {
   "cell_type": "code",
   "execution_count": 17,
   "id": "89855865-63ed-489c-94c3-182f70c3871f",
   "metadata": {},
   "outputs": [
    {
     "data": {
      "text/plain": [
       "array([[-2.67857143,  9.5       ]])"
      ]
     },
     "execution_count": 17,
     "metadata": {},
     "output_type": "execute_result"
    }
   ],
   "source": [
    "model = LinearRegression(fit_intercept=False)\n",
    "model.fit(X,Y)\n",
    "model.coef_"
   ]
  },
  {
   "cell_type": "markdown",
   "id": "1199439c-1801-4f85-9881-56daafa7dab3",
   "metadata": {},
   "source": [
    "now, onto the big matrix.  Still adding a column of ones."
   ]
  },
  {
   "cell_type": "code",
   "execution_count": 18,
   "id": "2e2240b2-8434-41ec-a259-add70e3560db",
   "metadata": {},
   "outputs": [
    {
     "name": "stdout",
     "output_type": "stream",
     "text": [
      "(21611, 18)\n"
     ]
    },
    {
     "data": {
      "text/plain": [
       "array([ 9.71206732e+06, -1.01054194e+06,  7.52030410e+05,  9.81500995e+03,\n",
       "       -5.25399159e-02,  4.31542974e+03, -1.37125608e+06,  2.60295135e+05,\n",
       "        2.78173602e+04,  4.10149673e+03, -9.52050699e+03, -9.65571661e+03,\n",
       "       -2.62069425e+03,  1.97942310e+01, -5.82812760e+02,  6.02776383e+05,\n",
       "       -2.14716799e+05,  2.16582683e+01, -3.82786541e-01])"
      ]
     },
     "execution_count": 18,
     "metadata": {},
     "output_type": "execute_result"
    }
   ],
   "source": [
    "#importing dataset using panda\n",
    "dataset = pd.read_csv('../../input/kc_house_data.csv')\n",
    "\n",
    "#dropping the id and date column\n",
    "dataset = dataset.drop(['id','date'], axis = 1)\n",
    "\n",
    "# clean out NaN and inf values\n",
    "dataset = dataset[~dataset.isin([np.nan, np.inf, -np.inf]).any(1)]\n",
    "\n",
    "Y = np.array(dataset.price)\n",
    "\n",
    "Xcols= np.array(dataset.drop(['price'], axis=1))\n",
    "print(Xcols.shape)\n",
    "X1 = np.ones((Xcols.shape[0],1))\n",
    "#print(X1.shape)\n",
    "X = np.append(X1,Xcols,axis=1)\n",
    "#print(X.shape)\n",
    "#print(X)\n",
    "\n",
    "XtX = (X.transpose().dot(X))\n",
    "XtXi = np.linalg.inv(XtX)\n",
    "\n",
    "#print(XtXi.shape)\n",
    "\n",
    "XtY = X.transpose().dot(Y)\n",
    "\n",
    "#print(XtY.shape)\n",
    "\n",
    "beta = XtXi.dot(XtY)\n",
    "beta"
   ]
  },
  {
   "cell_type": "markdown",
   "id": "377a649d-f910-49af-b79e-543fa7b3c938",
   "metadata": {},
   "source": [
    "Compare our beta with the model"
   ]
  },
  {
   "cell_type": "code",
   "execution_count": null,
   "id": "cec4e7ab-a37b-43fb-81af-0f347bee1532",
   "metadata": {},
   "outputs": [],
   "source": []
  },
  {
   "cell_type": "code",
   "execution_count": 19,
   "id": "8a7d7eb6-79dd-41a0-8967-66dbe6f980b9",
   "metadata": {},
   "outputs": [
    {
     "data": {
      "text/plain": [
       "array([ 6.73020517e+06, -3.57878576e+04,  4.11258225e+04,  1.10499660e+02,\n",
       "        1.28523487e-01,  6.69734377e+03,  5.82968552e+05,  5.28564052e+04,\n",
       "        2.63645375e+04,  9.58850129e+04,  7.07733568e+01,  3.97165187e+01,\n",
       "       -2.62069425e+03,  1.97942310e+01, -5.82812760e+02,  6.02776383e+05,\n",
       "       -2.14716799e+05,  2.16582682e+01, -3.82786541e-01])"
      ]
     },
     "execution_count": 19,
     "metadata": {},
     "output_type": "execute_result"
    }
   ],
   "source": [
    "model = LinearRegression(fit_intercept=False)\n",
    "model.fit(X,Y)\n",
    "model.coef_"
   ]
  },
  {
   "cell_type": "markdown",
   "id": "caccd558-887d-455d-a39a-ee7ab7a17fd8",
   "metadata": {},
   "source": [
    "OK get it right for 1 column on the big data."
   ]
  },
  {
   "cell_type": "code",
   "execution_count": 20,
   "id": "2a1c6ff7-be35-4326-8968-70a6cd67f671",
   "metadata": {},
   "outputs": [
    {
     "name": "stdout",
     "output_type": "stream",
     "text": [
      "[5.28078836e+05 7.94706033e-01]\n",
      "[5.28078836e+05 7.94706033e-01]\n"
     ]
    }
   ],
   "source": [
    "Xcols= np.array(dataset.drop(['price'], axis=1))\n",
    "Xcols=Xcols[:,3].reshape([-1,1])\n",
    "X1 = np.ones((Xcols.shape[0],1))\n",
    "#print(X1.shape)\n",
    "#print(Xcols.shape)\n",
    "X = np.append(X1,Xcols,axis=1)\n",
    "\n",
    "model = LinearRegression(fit_intercept=False)\n",
    "model.fit(X,Y)\n",
    "print(model.coef_)\n",
    "\n",
    "XtX = (X.transpose().dot(X))\n",
    "XtXi = np.linalg.inv(XtX)\n",
    "#print(XtXi)\n",
    "XtY = X.transpose().dot(Y)\n",
    "beta = XtXi.dot(XtY)\n",
    "print(beta)"
   ]
  },
  {
   "cell_type": "markdown",
   "id": "4b4dfb70-7eac-4029-b58f-4d250de4740e",
   "metadata": {},
   "source": [
    "Let's try for two."
   ]
  },
  {
   "cell_type": "code",
   "execution_count": 21,
   "id": "5da2d685-2936-4081-943c-d8bde5eb2977",
   "metadata": {},
   "outputs": [
    {
     "name": "stdout",
     "output_type": "stream",
     "text": [
      "[2.66499983e+05 8.06578955e-01 1.74927360e+05]\n",
      "[2.66499983e+05 8.06578955e-01 1.74927360e+05]\n"
     ]
    }
   ],
   "source": [
    "Xcols= np.array(dataset.drop(['price'], axis=1))\n",
    "Xcols=Xcols[:,3:5]\n",
    "X1 = np.ones((Xcols.shape[0],1))\n",
    "#print(X1.shape)\n",
    "#print(Xcols.shape)\n",
    "X = np.append(X1,Xcols,axis=1)\n",
    "\n",
    "model = LinearRegression(fit_intercept=False)\n",
    "model.fit(X,Y)\n",
    "print(model.coef_)\n",
    "\n",
    "XtX = (X.transpose().dot(X))\n",
    "#print(XtX)\n",
    "XtXi = np.linalg.inv(XtX)\n",
    "#print(XtXi)\n",
    "XtY = X.transpose().dot(Y)\n",
    "beta = XtXi.dot(XtY)\n",
    "print(beta)"
   ]
  },
  {
   "cell_type": "markdown",
   "id": "5027fdbc-541f-4f54-bbc8-4911a4a75147",
   "metadata": {},
   "source": [
    "ok, now let's subset from the full matrix and invert to solve"
   ]
  },
  {
   "cell_type": "code",
   "execution_count": 22,
   "id": "51d72e5b-a961-4e3b-8845-3e6e8e6a6515",
   "metadata": {},
   "outputs": [
    {
     "name": "stdout",
     "output_type": "stream",
     "text": [
      "[2.66499983e+05 8.06578955e-01 1.74927360e+05]\n"
     ]
    }
   ],
   "source": [
    "#take the full matrix and compute XtX\n",
    "Xall = np.array(dataset.drop(['price'], axis=1))\n",
    "X1 = np.ones((Xcols.shape[0],1))\n",
    "X = np.append(X1,Xall[:,:],axis=1)\n",
    "\n",
    "#compute XtX on whole matrix\n",
    "XtX = (X.transpose().dot(X))\n",
    "\n",
    "#subset the relevant parameters\n",
    "XtXsub = XtX[np.ix_([0,4,5],[0,4,5])]\n",
    "\n",
    "#verify the same matrix subset\n",
    "#print(XtXsub)\n",
    "\n",
    "#compute based on subset\n",
    "XtXi = np.linalg.inv(XtXsub)\n",
    "XtY = X[:,[0,4,5]].transpose().dot(Y)\n",
    "beta = XtXi.dot(XtY)\n",
    "print(beta)"
   ]
  },
  {
   "cell_type": "markdown",
   "id": "3a08a589-f74e-417f-b666-d98d11c0f2d8",
   "metadata": {},
   "source": [
    "We have verified the correctness of the subset. Let's run the experiment using shared, pre-computed XtX.  First do it in a for loop."
   ]
  },
  {
   "cell_type": "code",
   "execution_count": 23,
   "id": "749182ac-dde9-46bd-8269-1dc939a532ef",
   "metadata": {},
   "outputs": [],
   "source": [
    "from itertools import combinations, chain\n",
    "\n",
    "#take the full matrix and compute XtX\n",
    "Xall = np.array(dataset.drop(['price'], axis=1))\n",
    "X1 = np.ones((Xcols.shape[0],1))\n",
    "X = np.append(X1,Xall[:,:],axis=1)\n",
    "\n",
    "#compute XtX on whole matrix\n",
    "XtX = (X.transpose().dot(X))\n",
    "\n",
    "## Let's choose all combinations of 1, 2, and 3 columns.\n",
    "col_idxs = np.array(range(Xall.shape[1]))\n",
    "combos = list(chain(combinations(col_idxs, 1), combinations(col_idxs, 2), combinations(col_idxs, 3)))\n",
    "\n",
    "# indexing is off by one 3,4 -> 4,5 because we added X1\n",
    "for combo in combos:\n",
    "    thiscombo = [0] + [x+1 for x in combo]\n",
    "    #print(thiscombo)\n",
    "    XtXsub = XtX[np.ix_(thiscombo,thiscombo)]\n",
    "    #print(XtXsub)\n",
    "    XtXi = np.linalg.inv(XtXsub)\n",
    "    XtY = X[:,thiscombo].transpose().dot(Y)\n",
    "    beta = XtXi.dot(XtY)\n",
    "    #print(beta)"
   ]
  },
  {
   "cell_type": "code",
   "execution_count": 24,
   "id": "d2e4e970-d097-4191-ab35-50740ff1f464",
   "metadata": {},
   "outputs": [],
   "source": [
    "def work_shared_regression (combo):\n",
    "    thiscombo = [0] + [x+1 for x in combo]\n",
    "    XtXsub = XtX[np.ix_(thiscombo,thiscombo)]\n",
    "    XtXi = np.linalg.inv(XtXsub)\n",
    "    XtY = X[:,thiscombo].transpose().dot(Y)\n",
    "    beta = XtXi.dot(XtY)\n",
    "    return beta"
   ]
  },
  {
   "cell_type": "code",
   "execution_count": 25,
   "id": "b6119384-698c-4553-800b-07c676e4f84b",
   "metadata": {},
   "outputs": [
    {
     "name": "stdout",
     "output_type": "stream",
     "text": [
      "451 ms ± 33.2 ms per loop (mean ± std. dev. of 7 runs, 1 loop each)\n"
     ]
    }
   ],
   "source": [
    "%%timeit\n",
    "from joblib import Parallel, delayed\n",
    "\n",
    "# you must pay for the global setup\n",
    "\n",
    "#compute XtX on whole matrix\n",
    "XtX = (X.transpose().dot(X))\n",
    "\n",
    "#then parallelize with work sharing\n",
    "betas = Parallel(n_jobs=4)(delayed(work_shared_regression)(combo) for combo in combos)\n",
    "#print(betas)"
   ]
  },
  {
   "cell_type": "code",
   "execution_count": null,
   "id": "a587499f-8e29-4d7a-9609-22f49c1741c8",
   "metadata": {},
   "outputs": [],
   "source": []
  }
 ],
 "metadata": {
  "kernelspec": {
   "display_name": "Python 3",
   "language": "python",
   "name": "python3"
  },
  "language_info": {
   "codemirror_mode": {
    "name": "ipython",
    "version": 3
   },
   "file_extension": ".py",
   "mimetype": "text/x-python",
   "name": "python",
   "nbconvert_exporter": "python",
   "pygments_lexer": "ipython3",
   "version": "3.9.5"
  }
 },
 "nbformat": 4,
 "nbformat_minor": 5
}
